{
 "cells": [
  {
   "cell_type": "code",
   "execution_count": 1,
   "metadata": {},
   "outputs": [
    {
     "data": {
      "text/plain": [
       "29275"
      ]
     },
     "execution_count": 1,
     "metadata": {},
     "output_type": "execute_result"
    }
   ],
   "source": [
    "ord('牛')"
   ]
  },
  {
   "cell_type": "code",
   "execution_count": 5,
   "metadata": {},
   "outputs": [
    {
     "data": {
      "text/plain": [
       "'\\x00'"
      ]
     },
     "execution_count": 5,
     "metadata": {},
     "output_type": "execute_result"
    }
   ],
   "source": [
    "chr(0)"
   ]
  },
  {
   "cell_type": "code",
   "execution_count": 9,
   "metadata": {},
   "outputs": [
    {
     "data": {
      "text/plain": [
       "48"
      ]
     },
     "execution_count": 9,
     "metadata": {},
     "output_type": "execute_result"
    }
   ],
   "source": [
    "ord('0')"
   ]
  },
  {
   "cell_type": "code",
   "execution_count": 11,
   "metadata": {},
   "outputs": [
    {
     "data": {
      "text/plain": [
       "115"
      ]
     },
     "execution_count": 11,
     "metadata": {},
     "output_type": "execute_result"
    }
   ],
   "source": [
    "ord('s')"
   ]
  },
  {
   "cell_type": "code",
   "execution_count": 16,
   "metadata": {},
   "outputs": [
    {
     "data": {
      "text/plain": [
       "'\\x00'"
      ]
     },
     "execution_count": 16,
     "metadata": {},
     "output_type": "execute_result"
    }
   ],
   "source": [
    "chr(0)"
   ]
  },
  {
   "cell_type": "code",
   "execution_count": 15,
   "metadata": {},
   "outputs": [
    {
     "name": "stdout",
     "output_type": "stream",
     "text": [
      "\u0000\n"
     ]
    }
   ],
   "source": [
    "print(chr(0))"
   ]
  },
  {
   "cell_type": "code",
   "execution_count": 52,
   "metadata": {},
   "outputs": [
    {
     "data": {
      "text/plain": [
       "\"'\\\\x00'\""
      ]
     },
     "execution_count": 52,
     "metadata": {},
     "output_type": "execute_result"
    }
   ],
   "source": [
    "repr(chr(0))"
   ]
  },
  {
   "cell_type": "code",
   "execution_count": 17,
   "metadata": {},
   "outputs": [
    {
     "data": {
      "text/plain": [
       "'this is a test\\x00string'"
      ]
     },
     "execution_count": 17,
     "metadata": {},
     "output_type": "execute_result"
    }
   ],
   "source": [
    "\"this is a test\" + chr(0) + \"string\""
   ]
  },
  {
   "cell_type": "code",
   "execution_count": 18,
   "metadata": {},
   "outputs": [
    {
     "name": "stdout",
     "output_type": "stream",
     "text": [
      "this is a test\u0000string\n"
     ]
    }
   ],
   "source": [
    "print(\"this is a test\" + chr(0) + \"string\")"
   ]
  },
  {
   "cell_type": "code",
   "execution_count": 19,
   "metadata": {},
   "outputs": [
    {
     "name": "stdout",
     "output_type": "stream",
     "text": [
      "b'hello! \\xe3\\x81\\x93\\xe3\\x82\\x93\\xe3\\x81\\xab\\xe3\\x81\\xa1\\xe3\\x81\\xaf!'\n"
     ]
    }
   ],
   "source": [
    "test_string = \"hello! こんにちは!\"\n",
    "utf8_encoded = test_string.encode(\"utf-8\")\n",
    "print(utf8_encoded)"
   ]
  },
  {
   "cell_type": "code",
   "execution_count": 21,
   "metadata": {},
   "outputs": [
    {
     "data": {
      "text/plain": [
       "'hello! こんにちは!'"
      ]
     },
     "execution_count": 21,
     "metadata": {},
     "output_type": "execute_result"
    }
   ],
   "source": [
    "test_string"
   ]
  },
  {
   "cell_type": "code",
   "execution_count": 24,
   "metadata": {},
   "outputs": [
    {
     "data": {
      "text/plain": [
       "[104,\n",
       " 101,\n",
       " 108,\n",
       " 108,\n",
       " 111,\n",
       " 33,\n",
       " 32,\n",
       " 227,\n",
       " 129,\n",
       " 147,\n",
       " 227,\n",
       " 130,\n",
       " 147,\n",
       " 227,\n",
       " 129,\n",
       " 171,\n",
       " 227,\n",
       " 129,\n",
       " 161,\n",
       " 227,\n",
       " 129,\n",
       " 175,\n",
       " 33]"
      ]
     },
     "execution_count": 24,
     "metadata": {},
     "output_type": "execute_result"
    }
   ],
   "source": [
    "list(utf8_encoded)"
   ]
  },
  {
   "cell_type": "code",
   "execution_count": 23,
   "metadata": {},
   "outputs": [
    {
     "name": "stdout",
     "output_type": "stream",
     "text": [
      "<class 'bytes'>\n"
     ]
    }
   ],
   "source": [
    "print(type(utf8_encoded))"
   ]
  },
  {
   "cell_type": "code",
   "execution_count": 25,
   "metadata": {},
   "outputs": [
    {
     "name": "stdout",
     "output_type": "stream",
     "text": [
      "13\n"
     ]
    }
   ],
   "source": [
    "print(len(test_string))"
   ]
  },
  {
   "cell_type": "code",
   "execution_count": 26,
   "metadata": {},
   "outputs": [
    {
     "name": "stdout",
     "output_type": "stream",
     "text": [
      "23\n"
     ]
    }
   ],
   "source": [
    "print(len(utf8_encoded))"
   ]
  },
  {
   "cell_type": "code",
   "execution_count": 27,
   "metadata": {},
   "outputs": [
    {
     "name": "stdout",
     "output_type": "stream",
     "text": [
      "hello! こんにちは!\n"
     ]
    }
   ],
   "source": [
    "print(utf8_encoded.decode(\"utf-8\"))"
   ]
  },
  {
   "cell_type": "code",
   "execution_count": 29,
   "metadata": {},
   "outputs": [
    {
     "name": "stdout",
     "output_type": "stream",
     "text": [
      "b'\\xff\\xfeh\\x00e\\x00l\\x00l\\x00o\\x00!\\x00 \\x00S0\\x930k0a0o0!\\x00'\n"
     ]
    }
   ],
   "source": [
    "test_string = \"hello! こんにちは!\"\n",
    "utf16_encoded = test_string.encode(\"utf-16\")\n",
    "print(utf16_encoded)"
   ]
  },
  {
   "cell_type": "code",
   "execution_count": 30,
   "metadata": {},
   "outputs": [
    {
     "data": {
      "text/plain": [
       "28"
      ]
     },
     "execution_count": 30,
     "metadata": {},
     "output_type": "execute_result"
    }
   ],
   "source": [
    "len(utf16_encoded)"
   ]
  },
  {
   "cell_type": "code",
   "execution_count": 31,
   "metadata": {},
   "outputs": [
    {
     "name": "stdout",
     "output_type": "stream",
     "text": [
      "b'\\xff\\xfe\\x00\\x00h\\x00\\x00\\x00e\\x00\\x00\\x00l\\x00\\x00\\x00l\\x00\\x00\\x00o\\x00\\x00\\x00!\\x00\\x00\\x00 \\x00\\x00\\x00S0\\x00\\x00\\x930\\x00\\x00k0\\x00\\x00a0\\x00\\x00o0\\x00\\x00!\\x00\\x00\\x00'\n"
     ]
    }
   ],
   "source": [
    "test_string = \"hello! こんにちは!\"\n",
    "utf32_encoded = test_string.encode(\"utf-32\")\n",
    "print(utf32_encoded)"
   ]
  },
  {
   "cell_type": "code",
   "execution_count": 32,
   "metadata": {},
   "outputs": [
    {
     "data": {
      "text/plain": [
       "56"
      ]
     },
     "execution_count": 32,
     "metadata": {},
     "output_type": "execute_result"
    }
   ],
   "source": [
    "len(utf32_encoded)"
   ]
  },
  {
   "cell_type": "code",
   "execution_count": 33,
   "metadata": {},
   "outputs": [],
   "source": [
    "def decode_utf8_bytes_to_str_wrong(bytestring: bytes):\n",
    "    return \"\".join([bytes([b]).decode(\"utf-8\") for b in bytestring])"
   ]
  },
  {
   "cell_type": "code",
   "execution_count": 53,
   "metadata": {},
   "outputs": [
    {
     "ename": "UnicodeDecodeError",
     "evalue": "'utf-8' codec can't decode byte 0xe3 in position 0: unexpected end of data",
     "output_type": "error",
     "traceback": [
      "\u001b[31m---------------------------------------------------------------------------\u001b[39m",
      "\u001b[31mUnicodeDecodeError\u001b[39m                        Traceback (most recent call last)",
      "\u001b[36mCell\u001b[39m\u001b[36m \u001b[39m\u001b[32mIn[53]\u001b[39m\u001b[32m, line 1\u001b[39m\n\u001b[32m----> \u001b[39m\u001b[32m1\u001b[39m \u001b[43mdecode_utf8_bytes_to_str_wrong\u001b[49m\u001b[43m(\u001b[49m\u001b[33;43m\"\u001b[39;49m\u001b[33;43mhello  こ\u001b[39;49m\u001b[33;43m\"\u001b[39;49m\u001b[43m.\u001b[49m\u001b[43mencode\u001b[49m\u001b[43m(\u001b[49m\u001b[33;43m\"\u001b[39;49m\u001b[33;43mutf-8\u001b[39;49m\u001b[33;43m\"\u001b[39;49m\u001b[43m)\u001b[49m\u001b[43m)\u001b[49m\n",
      "\u001b[36mCell\u001b[39m\u001b[36m \u001b[39m\u001b[32mIn[33]\u001b[39m\u001b[32m, line 2\u001b[39m, in \u001b[36mdecode_utf8_bytes_to_str_wrong\u001b[39m\u001b[34m(bytestring)\u001b[39m\n\u001b[32m      1\u001b[39m \u001b[38;5;28;01mdef\u001b[39;00m\u001b[38;5;250m \u001b[39m\u001b[34mdecode_utf8_bytes_to_str_wrong\u001b[39m(bytestring: \u001b[38;5;28mbytes\u001b[39m):\n\u001b[32m----> \u001b[39m\u001b[32m2\u001b[39m     \u001b[38;5;28;01mreturn\u001b[39;00m \u001b[33m\"\u001b[39m\u001b[33m\"\u001b[39m.join([\u001b[38;5;28;43mbytes\u001b[39;49m\u001b[43m(\u001b[49m\u001b[43m[\u001b[49m\u001b[43mb\u001b[49m\u001b[43m]\u001b[49m\u001b[43m)\u001b[49m\u001b[43m.\u001b[49m\u001b[43mdecode\u001b[49m\u001b[43m(\u001b[49m\u001b[33;43m\"\u001b[39;49m\u001b[33;43mutf-8\u001b[39;49m\u001b[33;43m\"\u001b[39;49m\u001b[43m)\u001b[49m \u001b[38;5;28;01mfor\u001b[39;00m b \u001b[38;5;129;01min\u001b[39;00m bytestring])\n",
      "\u001b[31mUnicodeDecodeError\u001b[39m: 'utf-8' codec can't decode byte 0xe3 in position 0: unexpected end of data"
     ]
    }
   ],
   "source": [
    "decode_utf8_bytes_to_str_wrong(\"hello  こ\".encode(\"utf-8\"))"
   ]
  },
  {
   "cell_type": "code",
   "execution_count": 44,
   "metadata": {},
   "outputs": [
    {
     "data": {
      "text/plain": [
       "b'hello  \\xe3\\x81\\x93'"
      ]
     },
     "execution_count": 44,
     "metadata": {},
     "output_type": "execute_result"
    }
   ],
   "source": [
    "\"hello  こ\".encode(\"utf-8\")"
   ]
  },
  {
   "cell_type": "code",
   "execution_count": 47,
   "metadata": {},
   "outputs": [
    {
     "data": {
      "text/plain": [
       "[104, 101, 108, 108, 111, 32, 32, 227, 129, 147]"
      ]
     },
     "execution_count": 47,
     "metadata": {},
     "output_type": "execute_result"
    }
   ],
   "source": [
    "[b for b in \"hello  こ\".encode(\"utf-8\")]"
   ]
  },
  {
   "cell_type": "code",
   "execution_count": 55,
   "metadata": {},
   "outputs": [],
   "source": [
    "from inspect import getsource"
   ]
  },
  {
   "cell_type": "code",
   "execution_count": 62,
   "metadata": {},
   "outputs": [
    {
     "ename": "TypeError",
     "evalue": "module, class, method, function, traceback, frame, or code object was expected, got method_descriptor",
     "output_type": "error",
     "traceback": [
      "\u001b[31m---------------------------------------------------------------------------\u001b[39m",
      "\u001b[31mTypeError\u001b[39m                                 Traceback (most recent call last)",
      "\u001b[36mCell\u001b[39m\u001b[36m \u001b[39m\u001b[32mIn[62]\u001b[39m\u001b[32m, line 1\u001b[39m\n\u001b[32m----> \u001b[39m\u001b[32m1\u001b[39m \u001b[43mgetsource\u001b[49m\u001b[43m(\u001b[49m\u001b[38;5;28;43mstr\u001b[39;49m\u001b[43m.\u001b[49m\u001b[43mencode\u001b[49m\u001b[43m)\u001b[49m\n",
      "\u001b[36mFile \u001b[39m\u001b[32m~/.local/share/uv/python/cpython-3.13.3-linux-x86_64-gnu/lib/python3.13/inspect.py:1258\u001b[39m, in \u001b[36mgetsource\u001b[39m\u001b[34m(object)\u001b[39m\n\u001b[32m   1252\u001b[39m \u001b[38;5;28;01mdef\u001b[39;00m\u001b[38;5;250m \u001b[39m\u001b[34mgetsource\u001b[39m(\u001b[38;5;28mobject\u001b[39m):\n\u001b[32m   1253\u001b[39m \u001b[38;5;250m    \u001b[39m\u001b[33;03m\"\"\"Return the text of the source code for an object.\u001b[39;00m\n\u001b[32m   1254\u001b[39m \n\u001b[32m   1255\u001b[39m \u001b[33;03m    The argument may be a module, class, method, function, traceback, frame,\u001b[39;00m\n\u001b[32m   1256\u001b[39m \u001b[33;03m    or code object.  The source code is returned as a single string.  An\u001b[39;00m\n\u001b[32m   1257\u001b[39m \u001b[33;03m    OSError is raised if the source code cannot be retrieved.\"\"\"\u001b[39;00m\n\u001b[32m-> \u001b[39m\u001b[32m1258\u001b[39m     lines, lnum = \u001b[43mgetsourcelines\u001b[49m\u001b[43m(\u001b[49m\u001b[38;5;28;43mobject\u001b[39;49m\u001b[43m)\u001b[49m\n\u001b[32m   1259\u001b[39m     \u001b[38;5;28;01mreturn\u001b[39;00m \u001b[33m'\u001b[39m\u001b[33m'\u001b[39m.join(lines)\n",
      "\u001b[36mFile \u001b[39m\u001b[32m~/.local/share/uv/python/cpython-3.13.3-linux-x86_64-gnu/lib/python3.13/inspect.py:1240\u001b[39m, in \u001b[36mgetsourcelines\u001b[39m\u001b[34m(object)\u001b[39m\n\u001b[32m   1232\u001b[39m \u001b[38;5;250m\u001b[39m\u001b[33;03m\"\"\"Return a list of source lines and starting line number for an object.\u001b[39;00m\n\u001b[32m   1233\u001b[39m \n\u001b[32m   1234\u001b[39m \u001b[33;03mThe argument may be a module, class, method, function, traceback, frame,\u001b[39;00m\n\u001b[32m   (...)\u001b[39m\u001b[32m   1237\u001b[39m \u001b[33;03moriginal source file the first line of code was found.  An OSError is\u001b[39;00m\n\u001b[32m   1238\u001b[39m \u001b[33;03mraised if the source code cannot be retrieved.\"\"\"\u001b[39;00m\n\u001b[32m   1239\u001b[39m \u001b[38;5;28mobject\u001b[39m = unwrap(\u001b[38;5;28mobject\u001b[39m)\n\u001b[32m-> \u001b[39m\u001b[32m1240\u001b[39m lines, lnum = \u001b[43mfindsource\u001b[49m\u001b[43m(\u001b[49m\u001b[38;5;28;43mobject\u001b[39;49m\u001b[43m)\u001b[49m\n\u001b[32m   1242\u001b[39m \u001b[38;5;28;01mif\u001b[39;00m istraceback(\u001b[38;5;28mobject\u001b[39m):\n\u001b[32m   1243\u001b[39m     \u001b[38;5;28mobject\u001b[39m = \u001b[38;5;28mobject\u001b[39m.tb_frame\n",
      "\u001b[36mFile \u001b[39m\u001b[32m~/.local/share/uv/python/cpython-3.13.3-linux-x86_64-gnu/lib/python3.13/inspect.py:1060\u001b[39m, in \u001b[36mfindsource\u001b[39m\u001b[34m(object)\u001b[39m\n\u001b[32m   1052\u001b[39m \u001b[38;5;28;01mdef\u001b[39;00m\u001b[38;5;250m \u001b[39m\u001b[34mfindsource\u001b[39m(\u001b[38;5;28mobject\u001b[39m):\n\u001b[32m   1053\u001b[39m \u001b[38;5;250m    \u001b[39m\u001b[33;03m\"\"\"Return the entire source file and starting line number for an object.\u001b[39;00m\n\u001b[32m   1054\u001b[39m \n\u001b[32m   1055\u001b[39m \u001b[33;03m    The argument may be a module, class, method, function, traceback, frame,\u001b[39;00m\n\u001b[32m   1056\u001b[39m \u001b[33;03m    or code object.  The source code is returned as a list of all the lines\u001b[39;00m\n\u001b[32m   1057\u001b[39m \u001b[33;03m    in the file and the line number indexes a line in that list.  An OSError\u001b[39;00m\n\u001b[32m   1058\u001b[39m \u001b[33;03m    is raised if the source code cannot be retrieved.\"\"\"\u001b[39;00m\n\u001b[32m-> \u001b[39m\u001b[32m1060\u001b[39m     file = \u001b[43mgetsourcefile\u001b[49m\u001b[43m(\u001b[49m\u001b[38;5;28;43mobject\u001b[39;49m\u001b[43m)\u001b[49m\n\u001b[32m   1061\u001b[39m     \u001b[38;5;28;01mif\u001b[39;00m file:\n\u001b[32m   1062\u001b[39m         \u001b[38;5;66;03m# Invalidate cache if needed.\u001b[39;00m\n\u001b[32m   1063\u001b[39m         linecache.checkcache(file)\n",
      "\u001b[36mFile \u001b[39m\u001b[32m~/.local/share/uv/python/cpython-3.13.3-linux-x86_64-gnu/lib/python3.13/inspect.py:963\u001b[39m, in \u001b[36mgetsourcefile\u001b[39m\u001b[34m(object)\u001b[39m\n\u001b[32m    959\u001b[39m \u001b[38;5;28;01mdef\u001b[39;00m\u001b[38;5;250m \u001b[39m\u001b[34mgetsourcefile\u001b[39m(\u001b[38;5;28mobject\u001b[39m):\n\u001b[32m    960\u001b[39m \u001b[38;5;250m    \u001b[39m\u001b[33;03m\"\"\"Return the filename that can be used to locate an object's source.\u001b[39;00m\n\u001b[32m    961\u001b[39m \u001b[33;03m    Return None if no way can be identified to get the source.\u001b[39;00m\n\u001b[32m    962\u001b[39m \u001b[33;03m    \"\"\"\u001b[39;00m\n\u001b[32m--> \u001b[39m\u001b[32m963\u001b[39m     filename = \u001b[43mgetfile\u001b[49m\u001b[43m(\u001b[49m\u001b[38;5;28;43mobject\u001b[39;49m\u001b[43m)\u001b[49m\n\u001b[32m    964\u001b[39m     all_bytecode_suffixes = importlib.machinery.DEBUG_BYTECODE_SUFFIXES[:]\n\u001b[32m    965\u001b[39m     all_bytecode_suffixes += importlib.machinery.OPTIMIZED_BYTECODE_SUFFIXES[:]\n",
      "\u001b[36mFile \u001b[39m\u001b[32m~/.local/share/uv/python/cpython-3.13.3-linux-x86_64-gnu/lib/python3.13/inspect.py:943\u001b[39m, in \u001b[36mgetfile\u001b[39m\u001b[34m(object)\u001b[39m\n\u001b[32m    941\u001b[39m \u001b[38;5;28;01mif\u001b[39;00m iscode(\u001b[38;5;28mobject\u001b[39m):\n\u001b[32m    942\u001b[39m     \u001b[38;5;28;01mreturn\u001b[39;00m \u001b[38;5;28mobject\u001b[39m.co_filename\n\u001b[32m--> \u001b[39m\u001b[32m943\u001b[39m \u001b[38;5;28;01mraise\u001b[39;00m \u001b[38;5;167;01mTypeError\u001b[39;00m(\u001b[33m'\u001b[39m\u001b[33mmodule, class, method, function, traceback, frame, or \u001b[39m\u001b[33m'\u001b[39m\n\u001b[32m    944\u001b[39m                 \u001b[33m'\u001b[39m\u001b[33mcode object was expected, got \u001b[39m\u001b[38;5;132;01m{}\u001b[39;00m\u001b[33m'\u001b[39m.format(\n\u001b[32m    945\u001b[39m                 \u001b[38;5;28mtype\u001b[39m(\u001b[38;5;28mobject\u001b[39m).\u001b[34m__name__\u001b[39m))\n",
      "\u001b[31mTypeError\u001b[39m: module, class, method, function, traceback, frame, or code object was expected, got method_descriptor"
     ]
    }
   ],
   "source": [
    "getsource(str.encode)"
   ]
  },
  {
   "cell_type": "code",
   "execution_count": 135,
   "metadata": {},
   "outputs": [],
   "source": [
    "# b'\\xa1\\xa1\\xa3\\xa1'.decode('utf-32')"
   ]
  },
  {
   "cell_type": "code",
   "execution_count": 195,
   "metadata": {},
   "outputs": [],
   "source": [
    "PAT = r\"\"\"'(?:[sdmt]|ll|ve|re)| ?\\p{L}+| ?\\p{N}+| ?[^\\s\\p{L}\\p{N}]+|\\s+(?!\\S)|\\s+\"\"\"\n",
    "import regex as re\n",
    "text = 'Mommy and Daddy came to see their house. They praised them and gave them a treat. It was a lemon cake. It was sour, but they liked it. <|endoftext|>They learned that sharing is caring, and that family is sweet.\\n'\n",
    "special_tokens = [re.escape(\"<|endoftext|>\")]\n",
    "text = re.split(\"|\".join(special_tokens), text)\n",
    "# x = re.finditer(PAT, text)"
   ]
  },
  {
   "cell_type": "code",
   "execution_count": 196,
   "metadata": {},
   "outputs": [
    {
     "data": {
      "text/plain": [
       "['Mommy and Daddy came to see their house. They praised them and gave them a treat. It was a lemon cake. It was sour, but they liked it. ',\n",
       " 'They learned that sharing is caring, and that family is sweet.\\n']"
      ]
     },
     "execution_count": 196,
     "metadata": {},
     "output_type": "execute_result"
    }
   ],
   "source": [
    "text"
   ]
  },
  {
   "cell_type": "code",
   "execution_count": 192,
   "metadata": {},
   "outputs": [],
   "source": [
    "for match in x:\n",
    "    print(match.group())"
   ]
  },
  {
   "cell_type": "code",
   "execution_count": 166,
   "metadata": {},
   "outputs": [],
   "source": [
    "# for y in [x.encode(\"utf-8\") for x in re.findall(PAT, \"some text that i'll pre-tokenize\")]:\n",
    "#     for z in y:\n",
    "#         # print(z)\n",
    "#         print(chr(z))"
   ]
  },
  {
   "cell_type": "code",
   "execution_count": 1,
   "metadata": {},
   "outputs": [],
   "source": [
    "import regex as re\n",
    "from typing import List, Dict, Tuple, Any\n",
    "from tqdm import tqdm\n",
    "from multiprocessing import Pool, cpu_count\n",
    "from functools import partial\n",
    "import logging\n"
   ]
  },
  {
   "cell_type": "code",
   "execution_count": 2,
   "metadata": {},
   "outputs": [],
   "source": [
    "logger = logging.getLogger(__name__)\n",
    "logging.basicConfig(level=logging.INFO, format='%(asctime)s - %(levelname)s - %(message)s')\n"
   ]
  },
  {
   "cell_type": "code",
   "execution_count": 3,
   "metadata": {},
   "outputs": [],
   "source": [
    "def read_corpus_data(file_path: str) -> List[str]:\n",
    "    \"Read corpus data\"\n",
    "    with open(file_path, 'r') as f:\n",
    "        text_corpus = f.readlines()\n",
    "    logger.info(\"Loaded data from: %s\", file_path)\n",
    "    return text_corpus\n",
    "\n",
    "def initialize_vocab(special_tokens: List[str] = None) -> Dict[bytes, int]:\n",
    "    \"Initialize vocab with initial 256 bytes and special tokens\"\n",
    "    vocab = {chr(i).encode('utf-8'):i for i in range(256)}\n",
    "    if special_tokens:\n",
    "        i = len(vocab)\n",
    "        for special_token in special_tokens:\n",
    "            vocab[special_token] = i\n",
    "            i+=1\n",
    "    logger.info(\"Initialized vocab with size %i and %s special tokens\", len(vocab), \",\".join(special_tokens))\n",
    "    return vocab\n",
    "\n",
    "def get_byte_sequences(sentence: str, regexp_pattern: str, special_tokens: List[str]) -> List[Tuple[bytes]]:\n",
    "    \"Convert sentence to byte sequences\"\n",
    "    if special_tokens:\n",
    "        filtered_sentences = re.split(\"|\".join(special_tokens), sentence)\n",
    "    else:\n",
    "        filtered_sentences = [sentence]\n",
    "    for filtered_sentence in filtered_sentences:\n",
    "        split_sentence = re.finditer(regexp_pattern, filtered_sentence)\n",
    "        byte_seq = []\n",
    "        for word_match in split_sentence:\n",
    "            byte = tuple([x.encode(\"utf-8\") for x in word_match.group()])\n",
    "            byte_seq.append(byte)\n",
    "    return byte_seq\n",
    "\n",
    "def apply_multiprocessing_to_get_byte_sequences(text_corpus: List[str], regexp_pattern: str, special_tokens: List[str]) -> List[List[bytes]]:\n",
    "    \"Apply multiplrocessing to pre tokenization step\"\n",
    "    pool = Pool(processes=(cpu_count() - 6))\n",
    "    output = pool.map(partial(get_byte_sequences, regexp_pattern=regexp_pattern, special_tokens=special_tokens), text_corpus)\n",
    "    return output\n",
    "\n",
    "def pretokenize_text_corpus(text_corpus: List[str], special_tokens: List[str] = None) -> Dict[str, int]:\n",
    "    \"Get count of each byte seq in the text corpus\"\n",
    "    PAT = r\"\"\"'(?:[sdmt]|ll|ve|re)| ?\\p{L}+| ?\\p{N}+| ?[^\\s\\p{L}\\p{N}]+|\\s+(?!\\S)|\\s+\"\"\"\n",
    "    special_tokens = [re.escape(special_token) for special_token in special_tokens] if special_tokens else special_tokens\n",
    "    vocab_count = {}\n",
    "    byte_sequences = apply_multiprocessing_to_get_byte_sequences(text_corpus, PAT, special_tokens)\n",
    "    for byte_seq in tqdm(byte_sequences):\n",
    "        for byte in byte_seq:\n",
    "            if byte in vocab_count:\n",
    "                vocab_count[byte] +=1\n",
    "            else:\n",
    "                vocab_count[byte] = 1\n",
    "    return vocab_count\n",
    "\n",
    "def bytes_pair_count(byte_seq: Tuple[bytes], count: int, max_pair: Tuple[bytes]=None) -> Tuple[Dict[Tuple[bytes], int], Tuple[bytes]]:\n",
    "    \"Count the occurance of each pair of bytes in the byte sequence\"\n",
    "    if max_pair:\n",
    "        byte_seq = list(byte_seq)\n",
    "        i=0\n",
    "        while(i<len(byte_seq)-1):\n",
    "            if max_pair[0]==byte_seq[i] and max_pair[1]==byte_seq[i+1]:\n",
    "                byte_seq[i] = byte_seq[i]+byte_seq[i+1]\n",
    "                byte_seq.pop(i+1)\n",
    "            i+=1\n",
    "        byte_seq = tuple(byte_seq)\n",
    "    pair_count = {}\n",
    "    for i in range(len(byte_seq)-1):\n",
    "        pair = (byte_seq[i], byte_seq[i+1])\n",
    "        if pair in pair_count:\n",
    "            pair_count[pair] += count\n",
    "        else:\n",
    "            pair_count[pair] = count\n",
    "    return pair_count, byte_seq\n",
    "\n",
    "def merge_dicts(dict1: Dict[bytes, int], dict2: Dict[bytes, int]) -> Dict[bytes, int]:\n",
    "    \"Merge two dicts by adding values of common dict\"\n",
    "    merged_dict = {i: dict1.get(i, 0) + dict2.get(i, 0) for i in set(dict1).union(dict2)}\n",
    "    return merged_dict\n",
    "\n",
    "def corpus_pair_count(text_corpus_count: Dict[Tuple[bytes], int], max_pair: Tuple[bytes]=None) -> Tuple[Dict[Tuple[bytes], int], Dict[Tuple[bytes], int]]:\n",
    "    \"Count the occurance of bytes pair in the text corpus\"\n",
    "    pair_counts = {}\n",
    "    changed_pairs = []\n",
    "    for i, byte_seq in tqdm(enumerate(text_corpus_count)):\n",
    "        pair_count, byte_seq_new = bytes_pair_count(byte_seq, text_corpus_count[byte_seq], max_pair)\n",
    "        if byte_seq_new != byte_seq:\n",
    "            changed_pairs.append([byte_seq, byte_seq_new])\n",
    "        pair_counts = merge_dicts(pair_counts, pair_count)\n",
    "    for changed_pair in changed_pairs:\n",
    "        text_corpus_count[changed_pair[1]] = text_corpus_count[changed_pair[0]]\n",
    "        del text_corpus_count[changed_pair[0]]\n",
    "    return pair_counts, text_corpus_count\n",
    "\n",
    "def get_max_count_pair(text_corpus_pair_count: Dict[Tuple[bytes], int]) -> bytes:\n",
    "    \"Return pair having maximum count, break ties by preferring the lexicographically greater pair.\"\n",
    "    max_pair_count = max(text_corpus_pair_count.values())\n",
    "    max_pairs = [keys for keys,values in text_corpus_pair_count.items() if values == max_pair_count]\n",
    "    return max(max_pairs)\n",
    "\n",
    "def get_vocab(text_corpus_file_path: str, max_vocab_size=350, special_tokens: List[str]=None) -> Dict[bytes, int]:\n",
    "    \"Train bpe and get the vocab\"\n",
    "    logger.info(\"Load corpus data\")\n",
    "    text_corpus = read_corpus_data(text_corpus_file_path)\n",
    "    logger.info(\"corpus data len: %i\", len(text_corpus))\n",
    "    logger.info(\"Initialize vocab\")\n",
    "    vocab = initialize_vocab(special_tokens)\n",
    "    i = len(vocab)\n",
    "    logger.info(\"Pretokenize text corpus\")\n",
    "    text_corpus_count = pretokenize_text_corpus(text_corpus, special_tokens)\n",
    "    logger.info(\"BPE merges\")\n",
    "    max_pair = None\n",
    "    while(i<max_vocab_size):\n",
    "        logger.info(\"merge %i\", i)\n",
    "        text_corpus_pair_count, text_corpus_count = corpus_pair_count(text_corpus_count, max_pair)\n",
    "        max_pair = get_max_count_pair(text_corpus_pair_count)\n",
    "        logger.info(\"max pair %s\", max_pair)\n",
    "        vocab[max_pair[0]+max_pair[1]] = i\n",
    "        i+=1\n",
    "    return vocab\n"
   ]
  },
  {
   "cell_type": "code",
   "execution_count": 4,
   "metadata": {},
   "outputs": [],
   "source": [
    "special_tokens = ['<|endoftext|>']\n",
    "max_vocab_size = 1000\n",
    "text_corpus_file_path = 'data/TinyStoriesV2-GPT4-train.txt'\n"
   ]
  },
  {
   "cell_type": "code",
   "execution_count": null,
   "metadata": {},
   "outputs": [
    {
     "name": "stderr",
     "output_type": "stream",
     "text": [
      "2025-05-16 01:18:54,029 - INFO - Load corpus data\n",
      "2025-05-16 01:21:44,156 - INFO - Loaded data from: data/TinyStoriesV2-GPT4-train.txt\n",
      "2025-05-16 01:21:44,158 - INFO - corpus data len: 15600057\n",
      "2025-05-16 01:21:44,160 - INFO - Initialize vocab\n",
      "2025-05-16 01:21:44,161 - INFO - Initialized vocab with size 257 and <|endoftext|> special tokens\n",
      "2025-05-16 01:21:44,162 - INFO - Pretokenize text corpus\n"
     ]
    }
   ],
   "source": [
    "vocab = get_vocab(text_corpus_file_path, max_vocab_size, special_tokens)"
   ]
  },
  {
   "cell_type": "code",
   "execution_count": null,
   "metadata": {},
   "outputs": [],
   "source": []
  },
  {
   "cell_type": "code",
   "execution_count": null,
   "metadata": {},
   "outputs": [],
   "source": []
  },
  {
   "cell_type": "code",
   "execution_count": null,
   "metadata": {},
   "outputs": [],
   "source": []
  },
  {
   "cell_type": "code",
   "execution_count": 463,
   "metadata": {},
   "outputs": [
    {
     "data": {
      "text/plain": [
       "{b'\\x00': 0,\n",
       " b'\\x01': 1,\n",
       " b'\\x02': 2,\n",
       " b'\\x03': 3,\n",
       " b'\\x04': 4,\n",
       " b'\\x05': 5,\n",
       " b'\\x06': 6,\n",
       " b'\\x07': 7,\n",
       " b'\\x08': 8,\n",
       " b'\\t': 9,\n",
       " b'\\n': 10,\n",
       " b'\\x0b': 11,\n",
       " b'\\x0c': 12,\n",
       " b'\\r': 13,\n",
       " b'\\x0e': 14,\n",
       " b'\\x0f': 15,\n",
       " b'\\x10': 16,\n",
       " b'\\x11': 17,\n",
       " b'\\x12': 18,\n",
       " b'\\x13': 19,\n",
       " b'\\x14': 20,\n",
       " b'\\x15': 21,\n",
       " b'\\x16': 22,\n",
       " b'\\x17': 23,\n",
       " b'\\x18': 24,\n",
       " b'\\x19': 25,\n",
       " b'\\x1a': 26,\n",
       " b'\\x1b': 27,\n",
       " b'\\x1c': 28,\n",
       " b'\\x1d': 29,\n",
       " b'\\x1e': 30,\n",
       " b'\\x1f': 31,\n",
       " b' ': 32,\n",
       " b'!': 33,\n",
       " b'\"': 34,\n",
       " b'#': 35,\n",
       " b'$': 36,\n",
       " b'%': 37,\n",
       " b'&': 38,\n",
       " b\"'\": 39,\n",
       " b'(': 40,\n",
       " b')': 41,\n",
       " b'*': 42,\n",
       " b'+': 43,\n",
       " b',': 44,\n",
       " b'-': 45,\n",
       " b'.': 46,\n",
       " b'/': 47,\n",
       " b'0': 48,\n",
       " b'1': 49,\n",
       " b'2': 50,\n",
       " b'3': 51,\n",
       " b'4': 52,\n",
       " b'5': 53,\n",
       " b'6': 54,\n",
       " b'7': 55,\n",
       " b'8': 56,\n",
       " b'9': 57,\n",
       " b':': 58,\n",
       " b';': 59,\n",
       " b'<': 60,\n",
       " b'=': 61,\n",
       " b'>': 62,\n",
       " b'?': 63,\n",
       " b'@': 64,\n",
       " b'A': 65,\n",
       " b'B': 66,\n",
       " b'C': 67,\n",
       " b'D': 68,\n",
       " b'E': 69,\n",
       " b'F': 70,\n",
       " b'G': 71,\n",
       " b'H': 72,\n",
       " b'I': 73,\n",
       " b'J': 74,\n",
       " b'K': 75,\n",
       " b'L': 76,\n",
       " b'M': 77,\n",
       " b'N': 78,\n",
       " b'O': 79,\n",
       " b'P': 80,\n",
       " b'Q': 81,\n",
       " b'R': 82,\n",
       " b'S': 83,\n",
       " b'T': 84,\n",
       " b'U': 85,\n",
       " b'V': 86,\n",
       " b'W': 87,\n",
       " b'X': 88,\n",
       " b'Y': 89,\n",
       " b'Z': 90,\n",
       " b'[': 91,\n",
       " b'\\\\': 92,\n",
       " b']': 93,\n",
       " b'^': 94,\n",
       " b'_': 95,\n",
       " b'`': 96,\n",
       " b'a': 97,\n",
       " b'b': 98,\n",
       " b'c': 99,\n",
       " b'd': 100,\n",
       " b'e': 101,\n",
       " b'f': 102,\n",
       " b'g': 103,\n",
       " b'h': 104,\n",
       " b'i': 105,\n",
       " b'j': 106,\n",
       " b'k': 107,\n",
       " b'l': 108,\n",
       " b'm': 109,\n",
       " b'n': 110,\n",
       " b'o': 111,\n",
       " b'p': 112,\n",
       " b'q': 113,\n",
       " b'r': 114,\n",
       " b's': 115,\n",
       " b't': 116,\n",
       " b'u': 117,\n",
       " b'v': 118,\n",
       " b'w': 119,\n",
       " b'x': 120,\n",
       " b'y': 121,\n",
       " b'z': 122,\n",
       " b'{': 123,\n",
       " b'|': 124,\n",
       " b'}': 125,\n",
       " b'~': 126,\n",
       " b'\\x7f': 127,\n",
       " b'\\xc2\\x80': 128,\n",
       " b'\\xc2\\x81': 129,\n",
       " b'\\xc2\\x82': 130,\n",
       " b'\\xc2\\x83': 131,\n",
       " b'\\xc2\\x84': 132,\n",
       " b'\\xc2\\x85': 133,\n",
       " b'\\xc2\\x86': 134,\n",
       " b'\\xc2\\x87': 135,\n",
       " b'\\xc2\\x88': 136,\n",
       " b'\\xc2\\x89': 137,\n",
       " b'\\xc2\\x8a': 138,\n",
       " b'\\xc2\\x8b': 139,\n",
       " b'\\xc2\\x8c': 140,\n",
       " b'\\xc2\\x8d': 141,\n",
       " b'\\xc2\\x8e': 142,\n",
       " b'\\xc2\\x8f': 143,\n",
       " b'\\xc2\\x90': 144,\n",
       " b'\\xc2\\x91': 145,\n",
       " b'\\xc2\\x92': 146,\n",
       " b'\\xc2\\x93': 147,\n",
       " b'\\xc2\\x94': 148,\n",
       " b'\\xc2\\x95': 149,\n",
       " b'\\xc2\\x96': 150,\n",
       " b'\\xc2\\x97': 151,\n",
       " b'\\xc2\\x98': 152,\n",
       " b'\\xc2\\x99': 153,\n",
       " b'\\xc2\\x9a': 154,\n",
       " b'\\xc2\\x9b': 155,\n",
       " b'\\xc2\\x9c': 156,\n",
       " b'\\xc2\\x9d': 157,\n",
       " b'\\xc2\\x9e': 158,\n",
       " b'\\xc2\\x9f': 159,\n",
       " b'\\xc2\\xa0': 160,\n",
       " b'\\xc2\\xa1': 161,\n",
       " b'\\xc2\\xa2': 162,\n",
       " b'\\xc2\\xa3': 163,\n",
       " b'\\xc2\\xa4': 164,\n",
       " b'\\xc2\\xa5': 165,\n",
       " b'\\xc2\\xa6': 166,\n",
       " b'\\xc2\\xa7': 167,\n",
       " b'\\xc2\\xa8': 168,\n",
       " b'\\xc2\\xa9': 169,\n",
       " b'\\xc2\\xaa': 170,\n",
       " b'\\xc2\\xab': 171,\n",
       " b'\\xc2\\xac': 172,\n",
       " b'\\xc2\\xad': 173,\n",
       " b'\\xc2\\xae': 174,\n",
       " b'\\xc2\\xaf': 175,\n",
       " b'\\xc2\\xb0': 176,\n",
       " b'\\xc2\\xb1': 177,\n",
       " b'\\xc2\\xb2': 178,\n",
       " b'\\xc2\\xb3': 179,\n",
       " b'\\xc2\\xb4': 180,\n",
       " b'\\xc2\\xb5': 181,\n",
       " b'\\xc2\\xb6': 182,\n",
       " b'\\xc2\\xb7': 183,\n",
       " b'\\xc2\\xb8': 184,\n",
       " b'\\xc2\\xb9': 185,\n",
       " b'\\xc2\\xba': 186,\n",
       " b'\\xc2\\xbb': 187,\n",
       " b'\\xc2\\xbc': 188,\n",
       " b'\\xc2\\xbd': 189,\n",
       " b'\\xc2\\xbe': 190,\n",
       " b'\\xc2\\xbf': 191,\n",
       " b'\\xc3\\x80': 192,\n",
       " b'\\xc3\\x81': 193,\n",
       " b'\\xc3\\x82': 194,\n",
       " b'\\xc3\\x83': 195,\n",
       " b'\\xc3\\x84': 196,\n",
       " b'\\xc3\\x85': 197,\n",
       " b'\\xc3\\x86': 198,\n",
       " b'\\xc3\\x87': 199,\n",
       " b'\\xc3\\x88': 200,\n",
       " b'\\xc3\\x89': 201,\n",
       " b'\\xc3\\x8a': 202,\n",
       " b'\\xc3\\x8b': 203,\n",
       " b'\\xc3\\x8c': 204,\n",
       " b'\\xc3\\x8d': 205,\n",
       " b'\\xc3\\x8e': 206,\n",
       " b'\\xc3\\x8f': 207,\n",
       " b'\\xc3\\x90': 208,\n",
       " b'\\xc3\\x91': 209,\n",
       " b'\\xc3\\x92': 210,\n",
       " b'\\xc3\\x93': 211,\n",
       " b'\\xc3\\x94': 212,\n",
       " b'\\xc3\\x95': 213,\n",
       " b'\\xc3\\x96': 214,\n",
       " b'\\xc3\\x97': 215,\n",
       " b'\\xc3\\x98': 216,\n",
       " b'\\xc3\\x99': 217,\n",
       " b'\\xc3\\x9a': 218,\n",
       " b'\\xc3\\x9b': 219,\n",
       " b'\\xc3\\x9c': 220,\n",
       " b'\\xc3\\x9d': 221,\n",
       " b'\\xc3\\x9e': 222,\n",
       " b'\\xc3\\x9f': 223,\n",
       " b'\\xc3\\xa0': 224,\n",
       " b'\\xc3\\xa1': 225,\n",
       " b'\\xc3\\xa2': 226,\n",
       " b'\\xc3\\xa3': 227,\n",
       " b'\\xc3\\xa4': 228,\n",
       " b'\\xc3\\xa5': 229,\n",
       " b'\\xc3\\xa6': 230,\n",
       " b'\\xc3\\xa7': 231,\n",
       " b'\\xc3\\xa8': 232,\n",
       " b'\\xc3\\xa9': 233,\n",
       " b'\\xc3\\xaa': 234,\n",
       " b'\\xc3\\xab': 235,\n",
       " b'\\xc3\\xac': 236,\n",
       " b'\\xc3\\xad': 237,\n",
       " b'\\xc3\\xae': 238,\n",
       " b'\\xc3\\xaf': 239,\n",
       " b'\\xc3\\xb0': 240,\n",
       " b'\\xc3\\xb1': 241,\n",
       " b'\\xc3\\xb2': 242,\n",
       " b'\\xc3\\xb3': 243,\n",
       " b'\\xc3\\xb4': 244,\n",
       " b'\\xc3\\xb5': 245,\n",
       " b'\\xc3\\xb6': 246,\n",
       " b'\\xc3\\xb7': 247,\n",
       " b'\\xc3\\xb8': 248,\n",
       " b'\\xc3\\xb9': 249,\n",
       " b'\\xc3\\xba': 250,\n",
       " b'\\xc3\\xbb': 251,\n",
       " b'\\xc3\\xbc': 252,\n",
       " b'\\xc3\\xbd': 253,\n",
       " b'\\xc3\\xbe': 254,\n",
       " b'\\xc3\\xbf': 255,\n",
       " '<|endoftext|>': 256,\n",
       " b' t': 257,\n",
       " b'he': 258,\n",
       " b' a': 259}"
      ]
     },
     "execution_count": 463,
     "metadata": {},
     "output_type": "execute_result"
    }
   ],
   "source": [
    "vocab"
   ]
  },
  {
   "cell_type": "code",
   "execution_count": 435,
   "metadata": {},
   "outputs": [],
   "source": [
    "def apply_multiprocessing(text_corpus: List[str], regexp_pattern: str, special_tokens: List[str]):\n",
    "    pool = Pool(processes=(cpu_count() - 1))\n",
    "    results = []\n",
    "    for sentence in text_corpus:\n",
    "        result = pool.apply_async(get_byte_sequences, args=(sentence, regexp_pattern, special_tokens))\n",
    "        results.append(result)\n",
    "    pool.close()\n",
    "    pool.join()\n",
    "    output = []\n",
    "    for r in results:\n",
    "        output.extend(r.get())\n",
    "    return output"
   ]
  },
  {
   "cell_type": "code",
   "execution_count": 436,
   "metadata": {},
   "outputs": [],
   "source": [
    "special_tokens = ['<|endoftext|>']\n",
    "max_vocab_size = 260\n",
    "text_corpus_file_path = 'data/TinyStoriesV2-GPT4-valid.txt'\n"
   ]
  },
  {
   "cell_type": "code",
   "execution_count": 437,
   "metadata": {},
   "outputs": [],
   "source": [
    "PAT = r\"\"\"'(?:[sdmt]|ll|ve|re)| ?\\p{L}+| ?\\p{N}+| ?[^\\s\\p{L}\\p{N}]+|\\s+(?!\\S)|\\s+\"\"\"\n",
    "special_tokens = [re.escape(special_token) for special_token in special_tokens] if special_tokens else special_tokens"
   ]
  },
  {
   "cell_type": "code",
   "execution_count": 438,
   "metadata": {},
   "outputs": [],
   "source": [
    "text_corpus = read_corpus_data(text_corpus_file_path)\n"
   ]
  },
  {
   "cell_type": "code",
   "execution_count": 439,
   "metadata": {},
   "outputs": [
    {
     "data": {
      "text/plain": [
       "157832"
      ]
     },
     "execution_count": 439,
     "metadata": {},
     "output_type": "execute_result"
    }
   ],
   "source": [
    "len(text_corpus)"
   ]
  },
  {
   "cell_type": "code",
   "execution_count": 440,
   "metadata": {},
   "outputs": [],
   "source": [
    "text_corpus = text_corpus[:50]"
   ]
  },
  {
   "cell_type": "code",
   "execution_count": 441,
   "metadata": {},
   "outputs": [],
   "source": [
    "output = apply_multiprocessing(text_corpus, PAT, special_tokens)"
   ]
  },
  {
   "cell_type": "code",
   "execution_count": 442,
   "metadata": {},
   "outputs": [
    {
     "data": {
      "text/plain": [
       "['u don\\'t have to be scared of the loud dog, I\\'ll protect you\". The mole felt so safe with the little girl. She was very kind and the mole soon came to trust her. He leaned against her and she kept him safe. The mole had found his best friend.\\n',\n",
       " '<|endoftext|>\\n',\n",
       " 'Once upon a time, in a warm and sunny place, there was a big pit. A little boy named Tom liked to play near the pit. One day, Tom lost his red ball. He was very sad.\\n',\n",
       " 'Tom asked his friend, Sam, to help him search for the ball. They looked high and low, but they could not find the ball. Tom said, \"I think my ball fell into the pit.\"\\n',\n",
       " 'Sam and Tom went close to the pit. They were scared, but they wanted to find the red ball. They looked into the pit, but it was too dark to see. Tom said, \"We must go in and search for my ball.\"\\n',\n",
       " 'They went into the pit to search. It was dark and scary. They could not find the ball. They tried to get out, but the pit was too deep. Tom and Sam were stuck in the pit. They called for help, but no one could hear them. They were sad and scared, and they never got out of the pit.\\n',\n",
       " '<|endoftext|>\\n',\n",
       " '\\n',\n",
       " '\\n',\n",
       " 'Tom and Lily were playing with their toys in the living room. They liked to build towers and bridges with their blocks and cars. Tom was very proud of his tall tower. He wanted to make it even taller, so he reached for more blocks.\\n',\n",
       " '\"Tom, can I have some blocks too?\" Lily asked. She wanted to make a bridge for her cars.\\n',\n",
       " '\"No, these are mine. Go find your own,\" Tom said. He did not want to share with his sister. He pulled the blocks closer to him.\\n',\n",
       " 'Lily felt sad and angry. She did not think Tom was being nice. She looked at his tower and had an idea. She decided to pull one of the blocks at the bottom of the tower.\\n',\n",
       " 'Suddenly, the tower fell down with a loud crash. All the blocks and cars scattered on the floor. Tom and Lily were shocked. They felt the floor shake and heard a rumble. It was an earthquake!\\n',\n",
       " '\"Mommy! Daddy!\" they cried. They were scared and ran to their parents, who were in the kitchen.\\n',\n",
       " '\"Are you okay, kids?\" Mommy asked. She hugged them and checked if they were hurt.\\n',\n",
       " '\"We\\'re okay, Mommy. But our toys are broken,\" Lily said.\\n',\n",
       " '\"I\\'m sorry, Lily. But toys are not important. You are important. We are safe and together. That\\'s what matters,\" Mommy said.\\n',\n",
       " 'Tom felt sorry for what he did. He realized he was selfish and mean to his sister. He saw how scared she was during the earthquake. He wanted to make her happy.\\n',\n",
       " '\"Lily, I\\'m sorry I did not share with you. You can have all the blocks you want. I love you, sister,\" Tom said.\\n',\n",
       " 'Lily smiled and hugged him. She forgave him and thanked him. She loved him too.\\n',\n",
       " 'They went back to the living room and cleaned up their toys. They decided to build something together. They made a big house with a garden and a fence. They put their cars and dolls inside. They were happy and proud of their work.\\n',\n",
       " 'Mommy and Daddy came to see their house. They praised them and gave them a treat. It was a lemon cake. It was sour, but they liked it. They learned that sharing is caring, and that family is sweet.\\n',\n",
       " '<|endoftext|>\\n',\n",
       " '\\n',\n",
       " 'Once upon a time there was a little girl named Lucy. She loved to go to the store to buy sweets with her mom and dad. On this special day, Lucy entered the store with her mom and dad, feeling so excited.\\n',\n",
       " 'As they were looking around, Lucy noticed a little girl playing with a toy in the corner of the store. She gasped in excitement and ran towards her. Lucy asked if she could play too but the little girl said no. She was rather grumpy and was not in the mood to play.\\n',\n",
       " 'Lucy\\'s mom saw what was going on and told Lucy, \"Let\\'s try to be peaceful and kind to her. Have patience and understanding. Together, you can both be happy!\"\\n',\n",
       " 'So, Lucy smiled at the girl and said, \"Can we play together?\" The little girl softened and smiled back. She agreed to share the toy and even let Lucy have a turn first.\\n',\n",
       " 'Lucy and the little girl played together happily. In the end, they both learnt an important lesson: be peaceful, kind, and understanding when faced with a conflict. And that is why Lucy and the little girl became great friends.\\n',\n",
       " '<|endoftext|>\\n',\n",
       " 'One morning, a cat named Tom woke up. He felt happy because the sun was shining. Tom wanted to start his day, so he did a big stretch. He stretched his legs, his back, and his tail. It felt easy and good.\\n',\n",
       " 'Tom went outside to play. He saw his friend, a dog named Max. Max was also stretching in the morning sun. They both felt very happy. They decided to play together and have fun all day.\\n',\n",
       " 'At the end of the day, Tom and Max were tired. They had played all day and had lots of fun. They said goodbye to each other and went to their homes. Before going to sleep, they both did another easy stretch. Tom knew that tomorrow would be another happy morning.\\n',\n",
       " '<|endoftext|>\\n',\n",
       " '\\n',\n",
       " '\\n',\n",
       " \"Lily and Tom were twins who liked to decorate things. They had a big box of crayons, stickers, and glitter. One day, they found a shiny copper pot in the kitchen. It was Mom's pot, but she was not home. Lily and Tom wanted to make it more pretty.\\n\",\n",
       " 'They took the pot to their room and put it on the floor. They opened their box of crayons, stickers, and glitter. They started to draw and stick and sprinkle on the pot. They made colorful shapes and patterns. They thought the pot looked very nice.\\n',\n",
       " 'But they were clumsy. They did not see that they also made a big mess. They spilled glitter on the floor and the bed. They stuck stickers on the wall and the door. They drew crayons on the window and the dresser. They did not hear Mom come home.\\n',\n",
       " 'Mom saw the mess in the kitchen. She saw the glitter, the stickers, and the crayons. She was angry. She followed the trail to their room. She saw the pot. She saw the floor, the bed, the wall, the door, the window, and the dresser. She was very angry.\\n',\n",
       " 'She said, \"Lily and Tom, what did you do? You ruined my pot and my room. You are very naughty. You have to clean up everything. And you have to say sorry.\"\\n',\n",
       " 'Lily and Tom were scared. They did not mean to make Mom angry. They only wanted to decorate the pot. They said, \"Sorry, Mom. We love you. We will clean up. Please don\\'t be mad.\"\\n',\n",
       " 'Mom sighed. She was still angry, but she also loved them. She said, \"I love you too, but you have to be careful. You can\\'t touch my things without asking. And you can\\'t make a mess like this. You have to learn to be more tidy and respectful.\"\\n',\n",
       " 'Lily and Tom nodded. They hugged Mom and said, \"We will, Mom. We will.\" They took a broom, a dustpan, and a cloth. They started to clean up their mess. They hoped Mom would forgive them. They learned their lesson. They would not decorate Mom\\'s pot again.\\n',\n",
       " '<|endoftext|>\\n',\n",
       " '\\n',\n",
       " 'Once upon a time, there was a king. He was a big and strong king who ruled over his kingdom. One day, he wanted to take a nice and long bath, so he filled up his big bathtub with warm water. He wanted to feel relaxed and so he soaked in the tub for a really long time.\\n',\n",
       " 'When he had finished soaking and stepped out of the bathtub, the king noticed that the water had spilled out of the tub and all over the floor. He felt guilty that he had made such a mess, so he quickly grabbed a cloth and began to clean it up.\\n',\n",
       " 'The king got so hot from cleaning up the mess that he decided to take another soak in the bathtub. He put a lot of bubbles in the water to make it nice and bubbly. He relaxed again and felt all the worries wash away.\\n']"
      ]
     },
     "execution_count": 442,
     "metadata": {},
     "output_type": "execute_result"
    }
   ],
   "source": [
    "text_corpus"
   ]
  },
  {
   "cell_type": "code",
   "execution_count": 445,
   "metadata": {},
   "outputs": [
    {
     "data": {
      "text/plain": [
       "[(b'u',),\n",
       " (b' ', b'd', b'o', b'n'),\n",
       " (b\"'\", b't'),\n",
       " (b' ', b'h', b'a', b'v', b'e'),\n",
       " (b' ', b't', b'o'),\n",
       " (b' ', b'b', b'e'),\n",
       " (b' ', b's', b'c', b'a', b'r', b'e', b'd'),\n",
       " (b' ', b'o', b'f'),\n",
       " (b' ', b't', b'h', b'e'),\n",
       " (b' ', b'l', b'o', b'u', b'd'),\n",
       " (b' ', b'd', b'o', b'g'),\n",
       " (b',',),\n",
       " (b' ', b'I'),\n",
       " (b\"'\", b'l', b'l'),\n",
       " (b' ', b'p', b'r', b'o', b't', b'e', b'c', b't'),\n",
       " (b' ', b'y', b'o', b'u'),\n",
       " (b'\"', b'.'),\n",
       " (b' ', b'T', b'h', b'e'),\n",
       " (b' ', b'm', b'o', b'l', b'e'),\n",
       " (b' ', b'f', b'e', b'l', b't'),\n",
       " (b' ', b's', b'o'),\n",
       " (b' ', b's', b'a', b'f', b'e'),\n",
       " (b' ', b'w', b'i', b't', b'h'),\n",
       " (b' ', b't', b'h', b'e'),\n",
       " (b' ', b'l', b'i', b't', b't', b'l', b'e'),\n",
       " (b' ', b'g', b'i', b'r', b'l'),\n",
       " (b'.',),\n",
       " (b' ', b'S', b'h', b'e'),\n",
       " (b' ', b'w', b'a', b's'),\n",
       " (b' ', b'v', b'e', b'r', b'y'),\n",
       " (b' ', b'k', b'i', b'n', b'd'),\n",
       " (b' ', b'a', b'n', b'd'),\n",
       " (b' ', b't', b'h', b'e'),\n",
       " (b' ', b'm', b'o', b'l', b'e'),\n",
       " (b' ', b's', b'o', b'o', b'n'),\n",
       " (b' ', b'c', b'a', b'm', b'e'),\n",
       " (b' ', b't', b'o'),\n",
       " (b' ', b't', b'r', b'u', b's', b't'),\n",
       " (b' ', b'h', b'e', b'r'),\n",
       " (b'.',),\n",
       " (b' ', b'H', b'e'),\n",
       " (b' ', b'l', b'e', b'a', b'n', b'e', b'd'),\n",
       " (b' ', b'a', b'g', b'a', b'i', b'n', b's', b't'),\n",
       " (b' ', b'h', b'e', b'r'),\n",
       " (b' ', b'a', b'n', b'd'),\n",
       " (b' ', b's', b'h', b'e'),\n",
       " (b' ', b'k', b'e', b'p', b't'),\n",
       " (b' ', b'h', b'i', b'm'),\n",
       " (b' ', b's', b'a', b'f', b'e'),\n",
       " (b'.',),\n",
       " (b' ', b'T', b'h', b'e'),\n",
       " (b' ', b'm', b'o', b'l', b'e'),\n",
       " (b' ', b'h', b'a', b'd'),\n",
       " (b' ', b'f', b'o', b'u', b'n', b'd'),\n",
       " (b' ', b'h', b'i', b's'),\n",
       " (b' ', b'b', b'e', b's', b't'),\n",
       " (b' ', b'f', b'r', b'i', b'e', b'n', b'd'),\n",
       " (b'.',),\n",
       " (b'\\n',),\n",
       " (b'\\n',),\n",
       " (b'O', b'n', b'c', b'e'),\n",
       " (b' ', b'u', b'p', b'o', b'n'),\n",
       " (b' ', b'a'),\n",
       " (b' ', b't', b'i', b'm', b'e'),\n",
       " (b',',),\n",
       " (b' ', b'i', b'n'),\n",
       " (b' ', b'a'),\n",
       " (b' ', b'w', b'a', b'r', b'm'),\n",
       " (b' ', b'a', b'n', b'd'),\n",
       " (b' ', b's', b'u', b'n', b'n', b'y'),\n",
       " (b' ', b'p', b'l', b'a', b'c', b'e'),\n",
       " (b',',),\n",
       " (b' ', b't', b'h', b'e', b'r', b'e'),\n",
       " (b' ', b'w', b'a', b's'),\n",
       " (b' ', b'a'),\n",
       " (b' ', b'b', b'i', b'g'),\n",
       " (b' ', b'p', b'i', b't'),\n",
       " (b'.',),\n",
       " (b' ', b'A'),\n",
       " (b' ', b'l', b'i', b't', b't', b'l', b'e'),\n",
       " (b' ', b'b', b'o', b'y'),\n",
       " (b' ', b'n', b'a', b'm', b'e', b'd'),\n",
       " (b' ', b'T', b'o', b'm'),\n",
       " (b' ', b'l', b'i', b'k', b'e', b'd'),\n",
       " (b' ', b't', b'o'),\n",
       " (b' ', b'p', b'l', b'a', b'y'),\n",
       " (b' ', b'n', b'e', b'a', b'r'),\n",
       " (b' ', b't', b'h', b'e'),\n",
       " (b' ', b'p', b'i', b't'),\n",
       " (b'.',),\n",
       " (b' ', b'O', b'n', b'e'),\n",
       " (b' ', b'd', b'a', b'y'),\n",
       " (b',',),\n",
       " (b' ', b'T', b'o', b'm'),\n",
       " (b' ', b'l', b'o', b's', b't'),\n",
       " (b' ', b'h', b'i', b's'),\n",
       " (b' ', b'r', b'e', b'd'),\n",
       " (b' ', b'b', b'a', b'l', b'l'),\n",
       " (b'.',),\n",
       " (b' ', b'H', b'e'),\n",
       " (b' ', b'w', b'a', b's'),\n",
       " (b' ', b'v', b'e', b'r', b'y'),\n",
       " (b' ', b's', b'a', b'd'),\n",
       " (b'.',),\n",
       " (b'\\n',),\n",
       " (b'T', b'o', b'm'),\n",
       " (b' ', b'a', b's', b'k', b'e', b'd'),\n",
       " (b' ', b'h', b'i', b's'),\n",
       " (b' ', b'f', b'r', b'i', b'e', b'n', b'd'),\n",
       " (b',',),\n",
       " (b' ', b'S', b'a', b'm'),\n",
       " (b',',),\n",
       " (b' ', b't', b'o'),\n",
       " (b' ', b'h', b'e', b'l', b'p'),\n",
       " (b' ', b'h', b'i', b'm'),\n",
       " (b' ', b's', b'e', b'a', b'r', b'c', b'h'),\n",
       " (b' ', b'f', b'o', b'r'),\n",
       " (b' ', b't', b'h', b'e'),\n",
       " (b' ', b'b', b'a', b'l', b'l'),\n",
       " (b'.',),\n",
       " (b' ', b'T', b'h', b'e', b'y'),\n",
       " (b' ', b'l', b'o', b'o', b'k', b'e', b'd'),\n",
       " (b' ', b'h', b'i', b'g', b'h'),\n",
       " (b' ', b'a', b'n', b'd'),\n",
       " (b' ', b'l', b'o', b'w'),\n",
       " (b',',),\n",
       " (b' ', b'b', b'u', b't'),\n",
       " (b' ', b't', b'h', b'e', b'y'),\n",
       " (b' ', b'c', b'o', b'u', b'l', b'd'),\n",
       " (b' ', b'n', b'o', b't'),\n",
       " (b' ', b'f', b'i', b'n', b'd'),\n",
       " (b' ', b't', b'h', b'e'),\n",
       " (b' ', b'b', b'a', b'l', b'l'),\n",
       " (b'.',),\n",
       " (b' ', b'T', b'o', b'm'),\n",
       " (b' ', b's', b'a', b'i', b'd'),\n",
       " (b',',),\n",
       " (b' ', b'\"'),\n",
       " (b'I',),\n",
       " (b' ', b't', b'h', b'i', b'n', b'k'),\n",
       " (b' ', b'm', b'y'),\n",
       " (b' ', b'b', b'a', b'l', b'l'),\n",
       " (b' ', b'f', b'e', b'l', b'l'),\n",
       " (b' ', b'i', b'n', b't', b'o'),\n",
       " (b' ', b't', b'h', b'e'),\n",
       " (b' ', b'p', b'i', b't'),\n",
       " (b'.', b'\"'),\n",
       " (b'\\n',),\n",
       " (b'S', b'a', b'm'),\n",
       " (b' ', b'a', b'n', b'd'),\n",
       " (b' ', b'T', b'o', b'm'),\n",
       " (b' ', b'w', b'e', b'n', b't'),\n",
       " (b' ', b'c', b'l', b'o', b's', b'e'),\n",
       " (b' ', b't', b'o'),\n",
       " (b' ', b't', b'h', b'e'),\n",
       " (b' ', b'p', b'i', b't'),\n",
       " (b'.',),\n",
       " (b' ', b'T', b'h', b'e', b'y'),\n",
       " (b' ', b'w', b'e', b'r', b'e'),\n",
       " (b' ', b's', b'c', b'a', b'r', b'e', b'd'),\n",
       " (b',',),\n",
       " (b' ', b'b', b'u', b't'),\n",
       " (b' ', b't', b'h', b'e', b'y'),\n",
       " (b' ', b'w', b'a', b'n', b't', b'e', b'd'),\n",
       " (b' ', b't', b'o'),\n",
       " (b' ', b'f', b'i', b'n', b'd'),\n",
       " (b' ', b't', b'h', b'e'),\n",
       " (b' ', b'r', b'e', b'd'),\n",
       " (b' ', b'b', b'a', b'l', b'l'),\n",
       " (b'.',),\n",
       " (b' ', b'T', b'h', b'e', b'y'),\n",
       " (b' ', b'l', b'o', b'o', b'k', b'e', b'd'),\n",
       " (b' ', b'i', b'n', b't', b'o'),\n",
       " (b' ', b't', b'h', b'e'),\n",
       " (b' ', b'p', b'i', b't'),\n",
       " (b',',),\n",
       " (b' ', b'b', b'u', b't'),\n",
       " (b' ', b'i', b't'),\n",
       " (b' ', b'w', b'a', b's'),\n",
       " (b' ', b't', b'o', b'o'),\n",
       " (b' ', b'd', b'a', b'r', b'k'),\n",
       " (b' ', b't', b'o'),\n",
       " (b' ', b's', b'e', b'e'),\n",
       " (b'.',),\n",
       " (b' ', b'T', b'o', b'm'),\n",
       " (b' ', b's', b'a', b'i', b'd'),\n",
       " (b',',),\n",
       " (b' ', b'\"'),\n",
       " (b'W', b'e'),\n",
       " (b' ', b'm', b'u', b's', b't'),\n",
       " (b' ', b'g', b'o'),\n",
       " (b' ', b'i', b'n'),\n",
       " (b' ', b'a', b'n', b'd'),\n",
       " (b' ', b's', b'e', b'a', b'r', b'c', b'h'),\n",
       " (b' ', b'f', b'o', b'r'),\n",
       " (b' ', b'm', b'y'),\n",
       " (b' ', b'b', b'a', b'l', b'l'),\n",
       " (b'.', b'\"'),\n",
       " (b'\\n',),\n",
       " (b'T', b'h', b'e', b'y'),\n",
       " (b' ', b'w', b'e', b'n', b't'),\n",
       " (b' ', b'i', b'n', b't', b'o'),\n",
       " (b' ', b't', b'h', b'e'),\n",
       " (b' ', b'p', b'i', b't'),\n",
       " (b' ', b't', b'o'),\n",
       " (b' ', b's', b'e', b'a', b'r', b'c', b'h'),\n",
       " (b'.',),\n",
       " (b' ', b'I', b't'),\n",
       " (b' ', b'w', b'a', b's'),\n",
       " (b' ', b'd', b'a', b'r', b'k'),\n",
       " (b' ', b'a', b'n', b'd'),\n",
       " (b' ', b's', b'c', b'a', b'r', b'y'),\n",
       " (b'.',),\n",
       " (b' ', b'T', b'h', b'e', b'y'),\n",
       " (b' ', b'c', b'o', b'u', b'l', b'd'),\n",
       " (b' ', b'n', b'o', b't'),\n",
       " (b' ', b'f', b'i', b'n', b'd'),\n",
       " (b' ', b't', b'h', b'e'),\n",
       " (b' ', b'b', b'a', b'l', b'l'),\n",
       " (b'.',),\n",
       " (b' ', b'T', b'h', b'e', b'y'),\n",
       " (b' ', b't', b'r', b'i', b'e', b'd'),\n",
       " (b' ', b't', b'o'),\n",
       " (b' ', b'g', b'e', b't'),\n",
       " (b' ', b'o', b'u', b't'),\n",
       " (b',',),\n",
       " (b' ', b'b', b'u', b't'),\n",
       " (b' ', b't', b'h', b'e'),\n",
       " (b' ', b'p', b'i', b't'),\n",
       " (b' ', b'w', b'a', b's'),\n",
       " (b' ', b't', b'o', b'o'),\n",
       " (b' ', b'd', b'e', b'e', b'p'),\n",
       " (b'.',),\n",
       " (b' ', b'T', b'o', b'm'),\n",
       " (b' ', b'a', b'n', b'd'),\n",
       " (b' ', b'S', b'a', b'm'),\n",
       " (b' ', b'w', b'e', b'r', b'e'),\n",
       " (b' ', b's', b't', b'u', b'c', b'k'),\n",
       " (b' ', b'i', b'n'),\n",
       " (b' ', b't', b'h', b'e'),\n",
       " (b' ', b'p', b'i', b't'),\n",
       " (b'.',),\n",
       " (b' ', b'T', b'h', b'e', b'y'),\n",
       " (b' ', b'c', b'a', b'l', b'l', b'e', b'd'),\n",
       " (b' ', b'f', b'o', b'r'),\n",
       " (b' ', b'h', b'e', b'l', b'p'),\n",
       " (b',',),\n",
       " (b' ', b'b', b'u', b't'),\n",
       " (b' ', b'n', b'o'),\n",
       " (b' ', b'o', b'n', b'e'),\n",
       " (b' ', b'c', b'o', b'u', b'l', b'd'),\n",
       " (b' ', b'h', b'e', b'a', b'r'),\n",
       " (b' ', b't', b'h', b'e', b'm'),\n",
       " (b'.',),\n",
       " (b' ', b'T', b'h', b'e', b'y'),\n",
       " (b' ', b'w', b'e', b'r', b'e'),\n",
       " (b' ', b's', b'a', b'd'),\n",
       " (b' ', b'a', b'n', b'd'),\n",
       " (b' ', b's', b'c', b'a', b'r', b'e', b'd'),\n",
       " (b',',),\n",
       " (b' ', b'a', b'n', b'd'),\n",
       " (b' ', b't', b'h', b'e', b'y'),\n",
       " (b' ', b'n', b'e', b'v', b'e', b'r'),\n",
       " (b' ', b'g', b'o', b't'),\n",
       " (b' ', b'o', b'u', b't'),\n",
       " (b' ', b'o', b'f'),\n",
       " (b' ', b't', b'h', b'e'),\n",
       " (b' ', b'p', b'i', b't'),\n",
       " (b'.',),\n",
       " (b'\\n',),\n",
       " (b'\\n',),\n",
       " (b'\\n',),\n",
       " (b'\\n',),\n",
       " (b'T', b'o', b'm'),\n",
       " (b' ', b'a', b'n', b'd'),\n",
       " (b' ', b'L', b'i', b'l', b'y'),\n",
       " (b' ', b'w', b'e', b'r', b'e'),\n",
       " (b' ', b'p', b'l', b'a', b'y', b'i', b'n', b'g'),\n",
       " (b' ', b'w', b'i', b't', b'h'),\n",
       " (b' ', b't', b'h', b'e', b'i', b'r'),\n",
       " (b' ', b't', b'o', b'y', b's'),\n",
       " (b' ', b'i', b'n'),\n",
       " (b' ', b't', b'h', b'e'),\n",
       " (b' ', b'l', b'i', b'v', b'i', b'n', b'g'),\n",
       " (b' ', b'r', b'o', b'o', b'm'),\n",
       " (b'.',),\n",
       " (b' ', b'T', b'h', b'e', b'y'),\n",
       " (b' ', b'l', b'i', b'k', b'e', b'd'),\n",
       " (b' ', b't', b'o'),\n",
       " (b' ', b'b', b'u', b'i', b'l', b'd'),\n",
       " (b' ', b't', b'o', b'w', b'e', b'r', b's'),\n",
       " (b' ', b'a', b'n', b'd'),\n",
       " (b' ', b'b', b'r', b'i', b'd', b'g', b'e', b's'),\n",
       " (b' ', b'w', b'i', b't', b'h'),\n",
       " (b' ', b't', b'h', b'e', b'i', b'r'),\n",
       " (b' ', b'b', b'l', b'o', b'c', b'k', b's'),\n",
       " (b' ', b'a', b'n', b'd'),\n",
       " (b' ', b'c', b'a', b'r', b's'),\n",
       " (b'.',),\n",
       " (b' ', b'T', b'o', b'm'),\n",
       " (b' ', b'w', b'a', b's'),\n",
       " (b' ', b'v', b'e', b'r', b'y'),\n",
       " (b' ', b'p', b'r', b'o', b'u', b'd'),\n",
       " (b' ', b'o', b'f'),\n",
       " (b' ', b'h', b'i', b's'),\n",
       " (b' ', b't', b'a', b'l', b'l'),\n",
       " (b' ', b't', b'o', b'w', b'e', b'r'),\n",
       " (b'.',),\n",
       " (b' ', b'H', b'e'),\n",
       " (b' ', b'w', b'a', b'n', b't', b'e', b'd'),\n",
       " (b' ', b't', b'o'),\n",
       " (b' ', b'm', b'a', b'k', b'e'),\n",
       " (b' ', b'i', b't'),\n",
       " (b' ', b'e', b'v', b'e', b'n'),\n",
       " (b' ', b't', b'a', b'l', b'l', b'e', b'r'),\n",
       " (b',',),\n",
       " (b' ', b's', b'o'),\n",
       " (b' ', b'h', b'e'),\n",
       " (b' ', b'r', b'e', b'a', b'c', b'h', b'e', b'd'),\n",
       " (b' ', b'f', b'o', b'r'),\n",
       " (b' ', b'm', b'o', b'r', b'e'),\n",
       " (b' ', b'b', b'l', b'o', b'c', b'k', b's'),\n",
       " (b'.',),\n",
       " (b'\\n',),\n",
       " (b'\"',),\n",
       " (b'T', b'o', b'm'),\n",
       " (b',',),\n",
       " (b' ', b'c', b'a', b'n'),\n",
       " (b' ', b'I'),\n",
       " (b' ', b'h', b'a', b'v', b'e'),\n",
       " (b' ', b's', b'o', b'm', b'e'),\n",
       " (b' ', b'b', b'l', b'o', b'c', b'k', b's'),\n",
       " (b' ', b't', b'o', b'o'),\n",
       " (b'?', b'\"'),\n",
       " (b' ', b'L', b'i', b'l', b'y'),\n",
       " (b' ', b'a', b's', b'k', b'e', b'd'),\n",
       " (b'.',),\n",
       " (b' ', b'S', b'h', b'e'),\n",
       " (b' ', b'w', b'a', b'n', b't', b'e', b'd'),\n",
       " (b' ', b't', b'o'),\n",
       " (b' ', b'm', b'a', b'k', b'e'),\n",
       " (b' ', b'a'),\n",
       " (b' ', b'b', b'r', b'i', b'd', b'g', b'e'),\n",
       " (b' ', b'f', b'o', b'r'),\n",
       " (b' ', b'h', b'e', b'r'),\n",
       " (b' ', b'c', b'a', b'r', b's'),\n",
       " (b'.',),\n",
       " (b'\\n',),\n",
       " (b'\"',),\n",
       " (b'N', b'o'),\n",
       " (b',',),\n",
       " (b' ', b't', b'h', b'e', b's', b'e'),\n",
       " (b' ', b'a', b'r', b'e'),\n",
       " (b' ', b'm', b'i', b'n', b'e'),\n",
       " (b'.',),\n",
       " (b' ', b'G', b'o'),\n",
       " (b' ', b'f', b'i', b'n', b'd'),\n",
       " (b' ', b'y', b'o', b'u', b'r'),\n",
       " (b' ', b'o', b'w', b'n'),\n",
       " (b',', b'\"'),\n",
       " (b' ', b'T', b'o', b'm'),\n",
       " (b' ', b's', b'a', b'i', b'd'),\n",
       " (b'.',),\n",
       " (b' ', b'H', b'e'),\n",
       " (b' ', b'd', b'i', b'd'),\n",
       " (b' ', b'n', b'o', b't'),\n",
       " (b' ', b'w', b'a', b'n', b't'),\n",
       " (b' ', b't', b'o'),\n",
       " (b' ', b's', b'h', b'a', b'r', b'e'),\n",
       " (b' ', b'w', b'i', b't', b'h'),\n",
       " (b' ', b'h', b'i', b's'),\n",
       " (b' ', b's', b'i', b's', b't', b'e', b'r'),\n",
       " (b'.',),\n",
       " (b' ', b'H', b'e'),\n",
       " (b' ', b'p', b'u', b'l', b'l', b'e', b'd'),\n",
       " (b' ', b't', b'h', b'e'),\n",
       " (b' ', b'b', b'l', b'o', b'c', b'k', b's'),\n",
       " (b' ', b'c', b'l', b'o', b's', b'e', b'r'),\n",
       " (b' ', b't', b'o'),\n",
       " (b' ', b'h', b'i', b'm'),\n",
       " (b'.',),\n",
       " (b'\\n',),\n",
       " (b'L', b'i', b'l', b'y'),\n",
       " (b' ', b'f', b'e', b'l', b't'),\n",
       " (b' ', b's', b'a', b'd'),\n",
       " (b' ', b'a', b'n', b'd'),\n",
       " (b' ', b'a', b'n', b'g', b'r', b'y'),\n",
       " (b'.',),\n",
       " (b' ', b'S', b'h', b'e'),\n",
       " (b' ', b'd', b'i', b'd'),\n",
       " (b' ', b'n', b'o', b't'),\n",
       " (b' ', b't', b'h', b'i', b'n', b'k'),\n",
       " (b' ', b'T', b'o', b'm'),\n",
       " (b' ', b'w', b'a', b's'),\n",
       " (b' ', b'b', b'e', b'i', b'n', b'g'),\n",
       " (b' ', b'n', b'i', b'c', b'e'),\n",
       " (b'.',),\n",
       " (b' ', b'S', b'h', b'e'),\n",
       " (b' ', b'l', b'o', b'o', b'k', b'e', b'd'),\n",
       " (b' ', b'a', b't'),\n",
       " (b' ', b'h', b'i', b's'),\n",
       " (b' ', b't', b'o', b'w', b'e', b'r'),\n",
       " (b' ', b'a', b'n', b'd'),\n",
       " (b' ', b'h', b'a', b'd'),\n",
       " (b' ', b'a', b'n'),\n",
       " (b' ', b'i', b'd', b'e', b'a'),\n",
       " (b'.',),\n",
       " (b' ', b'S', b'h', b'e'),\n",
       " (b' ', b'd', b'e', b'c', b'i', b'd', b'e', b'd'),\n",
       " (b' ', b't', b'o'),\n",
       " (b' ', b'p', b'u', b'l', b'l'),\n",
       " (b' ', b'o', b'n', b'e'),\n",
       " (b' ', b'o', b'f'),\n",
       " (b' ', b't', b'h', b'e'),\n",
       " (b' ', b'b', b'l', b'o', b'c', b'k', b's'),\n",
       " (b' ', b'a', b't'),\n",
       " (b' ', b't', b'h', b'e'),\n",
       " (b' ', b'b', b'o', b't', b't', b'o', b'm'),\n",
       " (b' ', b'o', b'f'),\n",
       " (b' ', b't', b'h', b'e'),\n",
       " (b' ', b't', b'o', b'w', b'e', b'r'),\n",
       " (b'.',),\n",
       " (b'\\n',),\n",
       " (b'S', b'u', b'd', b'd', b'e', b'n', b'l', b'y'),\n",
       " (b',',),\n",
       " (b' ', b't', b'h', b'e'),\n",
       " (b' ', b't', b'o', b'w', b'e', b'r'),\n",
       " (b' ', b'f', b'e', b'l', b'l'),\n",
       " (b' ', b'd', b'o', b'w', b'n'),\n",
       " (b' ', b'w', b'i', b't', b'h'),\n",
       " (b' ', b'a'),\n",
       " (b' ', b'l', b'o', b'u', b'd'),\n",
       " (b' ', b'c', b'r', b'a', b's', b'h'),\n",
       " (b'.',),\n",
       " (b' ', b'A', b'l', b'l'),\n",
       " (b' ', b't', b'h', b'e'),\n",
       " (b' ', b'b', b'l', b'o', b'c', b'k', b's'),\n",
       " (b' ', b'a', b'n', b'd'),\n",
       " (b' ', b'c', b'a', b'r', b's'),\n",
       " (b' ', b's', b'c', b'a', b't', b't', b'e', b'r', b'e', b'd'),\n",
       " (b' ', b'o', b'n'),\n",
       " (b' ', b't', b'h', b'e'),\n",
       " (b' ', b'f', b'l', b'o', b'o', b'r'),\n",
       " (b'.',),\n",
       " (b' ', b'T', b'o', b'm'),\n",
       " (b' ', b'a', b'n', b'd'),\n",
       " (b' ', b'L', b'i', b'l', b'y'),\n",
       " (b' ', b'w', b'e', b'r', b'e'),\n",
       " (b' ', b's', b'h', b'o', b'c', b'k', b'e', b'd'),\n",
       " (b'.',),\n",
       " (b' ', b'T', b'h', b'e', b'y'),\n",
       " (b' ', b'f', b'e', b'l', b't'),\n",
       " (b' ', b't', b'h', b'e'),\n",
       " (b' ', b'f', b'l', b'o', b'o', b'r'),\n",
       " (b' ', b's', b'h', b'a', b'k', b'e'),\n",
       " (b' ', b'a', b'n', b'd'),\n",
       " (b' ', b'h', b'e', b'a', b'r', b'd'),\n",
       " (b' ', b'a'),\n",
       " (b' ', b'r', b'u', b'm', b'b', b'l', b'e'),\n",
       " (b'.',),\n",
       " (b' ', b'I', b't'),\n",
       " (b' ', b'w', b'a', b's'),\n",
       " (b' ', b'a', b'n'),\n",
       " (b' ', b'e', b'a', b'r', b't', b'h', b'q', b'u', b'a', b'k', b'e'),\n",
       " (b'!',),\n",
       " (b'\\n',),\n",
       " (b'\"',),\n",
       " (b'M', b'o', b'm', b'm', b'y'),\n",
       " (b'!',),\n",
       " (b' ', b'D', b'a', b'd', b'd', b'y'),\n",
       " (b'!', b'\"'),\n",
       " (b' ', b't', b'h', b'e', b'y'),\n",
       " (b' ', b'c', b'r', b'i', b'e', b'd'),\n",
       " (b'.',),\n",
       " (b' ', b'T', b'h', b'e', b'y'),\n",
       " (b' ', b'w', b'e', b'r', b'e'),\n",
       " (b' ', b's', b'c', b'a', b'r', b'e', b'd'),\n",
       " (b' ', b'a', b'n', b'd'),\n",
       " (b' ', b'r', b'a', b'n'),\n",
       " (b' ', b't', b'o'),\n",
       " (b' ', b't', b'h', b'e', b'i', b'r'),\n",
       " (b' ', b'p', b'a', b'r', b'e', b'n', b't', b's'),\n",
       " (b',',),\n",
       " (b' ', b'w', b'h', b'o'),\n",
       " (b' ', b'w', b'e', b'r', b'e'),\n",
       " (b' ', b'i', b'n'),\n",
       " (b' ', b't', b'h', b'e'),\n",
       " (b' ', b'k', b'i', b't', b'c', b'h', b'e', b'n'),\n",
       " (b'.',),\n",
       " (b'\\n',),\n",
       " (b'\"',),\n",
       " (b'A', b'r', b'e'),\n",
       " (b' ', b'y', b'o', b'u'),\n",
       " (b' ', b'o', b'k', b'a', b'y'),\n",
       " (b',',),\n",
       " (b' ', b'k', b'i', b'd', b's'),\n",
       " (b'?', b'\"'),\n",
       " (b' ', b'M', b'o', b'm', b'm', b'y'),\n",
       " (b' ', b'a', b's', b'k', b'e', b'd'),\n",
       " (b'.',),\n",
       " (b' ', b'S', b'h', b'e'),\n",
       " (b' ', b'h', b'u', b'g', b'g', b'e', b'd'),\n",
       " (b' ', b't', b'h', b'e', b'm'),\n",
       " (b' ', b'a', b'n', b'd'),\n",
       " (b' ', b'c', b'h', b'e', b'c', b'k', b'e', b'd'),\n",
       " (b' ', b'i', b'f'),\n",
       " (b' ', b't', b'h', b'e', b'y'),\n",
       " (b' ', b'w', b'e', b'r', b'e'),\n",
       " (b' ', b'h', b'u', b'r', b't'),\n",
       " (b'.',),\n",
       " (b'\\n',),\n",
       " (b'\"',),\n",
       " (b'W', b'e'),\n",
       " (b\"'\", b'r', b'e'),\n",
       " (b' ', b'o', b'k', b'a', b'y'),\n",
       " (b',',),\n",
       " (b' ', b'M', b'o', b'm', b'm', b'y'),\n",
       " (b'.',),\n",
       " (b' ', b'B', b'u', b't'),\n",
       " (b' ', b'o', b'u', b'r'),\n",
       " (b' ', b't', b'o', b'y', b's'),\n",
       " (b' ', b'a', b'r', b'e'),\n",
       " (b' ', b'b', b'r', b'o', b'k', b'e', b'n'),\n",
       " (b',', b'\"'),\n",
       " (b' ', b'L', b'i', b'l', b'y'),\n",
       " (b' ', b's', b'a', b'i', b'd'),\n",
       " (b'.',),\n",
       " (b'\\n',),\n",
       " (b'\"',),\n",
       " (b'I',),\n",
       " (b\"'\", b'm'),\n",
       " (b' ', b's', b'o', b'r', b'r', b'y'),\n",
       " (b',',),\n",
       " (b' ', b'L', b'i', b'l', b'y'),\n",
       " (b'.',),\n",
       " (b' ', b'B', b'u', b't'),\n",
       " (b' ', b't', b'o', b'y', b's'),\n",
       " (b' ', b'a', b'r', b'e'),\n",
       " (b' ', b'n', b'o', b't'),\n",
       " (b' ', b'i', b'm', b'p', b'o', b'r', b't', b'a', b'n', b't'),\n",
       " (b'.',),\n",
       " (b' ', b'Y', b'o', b'u'),\n",
       " (b' ', b'a', b'r', b'e'),\n",
       " (b' ', b'i', b'm', b'p', b'o', b'r', b't', b'a', b'n', b't'),\n",
       " (b'.',),\n",
       " (b' ', b'W', b'e'),\n",
       " (b' ', b'a', b'r', b'e'),\n",
       " (b' ', b's', b'a', b'f', b'e'),\n",
       " (b' ', b'a', b'n', b'd'),\n",
       " (b' ', b't', b'o', b'g', b'e', b't', b'h', b'e', b'r'),\n",
       " (b'.',),\n",
       " (b' ', b'T', b'h', b'a', b't'),\n",
       " (b\"'\", b's'),\n",
       " (b' ', b'w', b'h', b'a', b't'),\n",
       " (b' ', b'm', b'a', b't', b't', b'e', b'r', b's'),\n",
       " (b',', b'\"'),\n",
       " (b' ', b'M', b'o', b'm', b'm', b'y'),\n",
       " (b' ', b's', b'a', b'i', b'd'),\n",
       " (b'.',),\n",
       " (b'\\n',),\n",
       " (b'T', b'o', b'm'),\n",
       " (b' ', b'f', b'e', b'l', b't'),\n",
       " (b' ', b's', b'o', b'r', b'r', b'y'),\n",
       " (b' ', b'f', b'o', b'r'),\n",
       " (b' ', b'w', b'h', b'a', b't'),\n",
       " (b' ', b'h', b'e'),\n",
       " (b' ', b'd', b'i', b'd'),\n",
       " (b'.',),\n",
       " (b' ', b'H', b'e'),\n",
       " (b' ', b'r', b'e', b'a', b'l', b'i', b'z', b'e', b'd'),\n",
       " (b' ', b'h', b'e'),\n",
       " (b' ', b'w', b'a', b's'),\n",
       " (b' ', b's', b'e', b'l', b'f', b'i', b's', b'h'),\n",
       " (b' ', b'a', b'n', b'd'),\n",
       " (b' ', b'm', b'e', b'a', b'n'),\n",
       " (b' ', b't', b'o'),\n",
       " (b' ', b'h', b'i', b's'),\n",
       " (b' ', b's', b'i', b's', b't', b'e', b'r'),\n",
       " (b'.',),\n",
       " (b' ', b'H', b'e'),\n",
       " (b' ', b's', b'a', b'w'),\n",
       " (b' ', b'h', b'o', b'w'),\n",
       " (b' ', b's', b'c', b'a', b'r', b'e', b'd'),\n",
       " (b' ', b's', b'h', b'e'),\n",
       " (b' ', b'w', b'a', b's'),\n",
       " (b' ', b'd', b'u', b'r', b'i', b'n', b'g'),\n",
       " (b' ', b't', b'h', b'e'),\n",
       " (b' ', b'e', b'a', b'r', b't', b'h', b'q', b'u', b'a', b'k', b'e'),\n",
       " (b'.',),\n",
       " (b' ', b'H', b'e'),\n",
       " (b' ', b'w', b'a', b'n', b't', b'e', b'd'),\n",
       " (b' ', b't', b'o'),\n",
       " (b' ', b'm', b'a', b'k', b'e'),\n",
       " (b' ', b'h', b'e', b'r'),\n",
       " (b' ', b'h', b'a', b'p', b'p', b'y'),\n",
       " (b'.',),\n",
       " (b'\\n',),\n",
       " (b'\"',),\n",
       " (b'L', b'i', b'l', b'y'),\n",
       " (b',',),\n",
       " (b' ', b'I'),\n",
       " (b\"'\", b'm'),\n",
       " (b' ', b's', b'o', b'r', b'r', b'y'),\n",
       " (b' ', b'I'),\n",
       " (b' ', b'd', b'i', b'd'),\n",
       " (b' ', b'n', b'o', b't'),\n",
       " (b' ', b's', b'h', b'a', b'r', b'e'),\n",
       " (b' ', b'w', b'i', b't', b'h'),\n",
       " (b' ', b'y', b'o', b'u'),\n",
       " (b'.',),\n",
       " (b' ', b'Y', b'o', b'u'),\n",
       " (b' ', b'c', b'a', b'n'),\n",
       " (b' ', b'h', b'a', b'v', b'e'),\n",
       " (b' ', b'a', b'l', b'l'),\n",
       " (b' ', b't', b'h', b'e'),\n",
       " (b' ', b'b', b'l', b'o', b'c', b'k', b's'),\n",
       " (b' ', b'y', b'o', b'u'),\n",
       " (b' ', b'w', b'a', b'n', b't'),\n",
       " (b'.',),\n",
       " (b' ', b'I'),\n",
       " (b' ', b'l', b'o', b'v', b'e'),\n",
       " (b' ', b'y', b'o', b'u'),\n",
       " (b',',),\n",
       " (b' ', b's', b'i', b's', b't', b'e', b'r'),\n",
       " (b',', b'\"'),\n",
       " (b' ', b'T', b'o', b'm'),\n",
       " (b' ', b's', b'a', b'i', b'd'),\n",
       " (b'.',),\n",
       " (b'\\n',),\n",
       " (b'L', b'i', b'l', b'y'),\n",
       " (b' ', b's', b'm', b'i', b'l', b'e', b'd'),\n",
       " (b' ', b'a', b'n', b'd'),\n",
       " (b' ', b'h', b'u', b'g', b'g', b'e', b'd'),\n",
       " (b' ', b'h', b'i', b'm'),\n",
       " (b'.',),\n",
       " (b' ', b'S', b'h', b'e'),\n",
       " (b' ', b'f', b'o', b'r', b'g', b'a', b'v', b'e'),\n",
       " (b' ', b'h', b'i', b'm'),\n",
       " (b' ', b'a', b'n', b'd'),\n",
       " (b' ', b't', b'h', b'a', b'n', b'k', b'e', b'd'),\n",
       " (b' ', b'h', b'i', b'm'),\n",
       " (b'.',),\n",
       " (b' ', b'S', b'h', b'e'),\n",
       " (b' ', b'l', b'o', b'v', b'e', b'd'),\n",
       " (b' ', b'h', b'i', b'm'),\n",
       " (b' ', b't', b'o', b'o'),\n",
       " (b'.',),\n",
       " (b'\\n',),\n",
       " (b'T', b'h', b'e', b'y'),\n",
       " (b' ', b'w', b'e', b'n', b't'),\n",
       " (b' ', b'b', b'a', b'c', b'k'),\n",
       " (b' ', b't', b'o'),\n",
       " (b' ', b't', b'h', b'e'),\n",
       " (b' ', b'l', b'i', b'v', b'i', b'n', b'g'),\n",
       " (b' ', b'r', b'o', b'o', b'm'),\n",
       " (b' ', b'a', b'n', b'd'),\n",
       " (b' ', b'c', b'l', b'e', b'a', b'n', b'e', b'd'),\n",
       " (b' ', b'u', b'p'),\n",
       " (b' ', b't', b'h', b'e', b'i', b'r'),\n",
       " (b' ', b't', b'o', b'y', b's'),\n",
       " (b'.',),\n",
       " (b' ', b'T', b'h', b'e', b'y'),\n",
       " (b' ', b'd', b'e', b'c', b'i', b'd', b'e', b'd'),\n",
       " (b' ', b't', b'o'),\n",
       " (b' ', b'b', b'u', b'i', b'l', b'd'),\n",
       " (b' ', b's', b'o', b'm', b'e', b't', b'h', b'i', b'n', b'g'),\n",
       " (b' ', b't', b'o', b'g', b'e', b't', b'h', b'e', b'r'),\n",
       " (b'.',),\n",
       " (b' ', b'T', b'h', b'e', b'y'),\n",
       " (b' ', b'm', b'a', b'd', b'e'),\n",
       " (b' ', b'a'),\n",
       " (b' ', b'b', b'i', b'g'),\n",
       " (b' ', b'h', b'o', b'u', b's', b'e'),\n",
       " (b' ', b'w', b'i', b't', b'h'),\n",
       " (b' ', b'a'),\n",
       " (b' ', b'g', b'a', b'r', b'd', b'e', b'n'),\n",
       " (b' ', b'a', b'n', b'd'),\n",
       " (b' ', b'a'),\n",
       " (b' ', b'f', b'e', b'n', b'c', b'e'),\n",
       " (b'.',),\n",
       " (b' ', b'T', b'h', b'e', b'y'),\n",
       " (b' ', b'p', b'u', b't'),\n",
       " (b' ', b't', b'h', b'e', b'i', b'r'),\n",
       " (b' ', b'c', b'a', b'r', b's'),\n",
       " (b' ', b'a', b'n', b'd'),\n",
       " (b' ', b'd', b'o', b'l', b'l', b's'),\n",
       " (b' ', b'i', b'n', b's', b'i', b'd', b'e'),\n",
       " (b'.',),\n",
       " (b' ', b'T', b'h', b'e', b'y'),\n",
       " (b' ', b'w', b'e', b'r', b'e'),\n",
       " (b' ', b'h', b'a', b'p', b'p', b'y'),\n",
       " (b' ', b'a', b'n', b'd'),\n",
       " (b' ', b'p', b'r', b'o', b'u', b'd'),\n",
       " (b' ', b'o', b'f'),\n",
       " (b' ', b't', b'h', b'e', b'i', b'r'),\n",
       " (b' ', b'w', b'o', b'r', b'k'),\n",
       " (b'.',),\n",
       " (b'\\n',),\n",
       " (b'M', b'o', b'm', b'm', b'y'),\n",
       " (b' ', b'a', b'n', b'd'),\n",
       " (b' ', b'D', b'a', b'd', b'd', b'y'),\n",
       " (b' ', b'c', b'a', b'm', b'e'),\n",
       " (b' ', b't', b'o'),\n",
       " (b' ', b's', b'e', b'e'),\n",
       " (b' ', b't', b'h', b'e', b'i', b'r'),\n",
       " (b' ', b'h', b'o', b'u', b's', b'e'),\n",
       " (b'.',),\n",
       " (b' ', b'T', b'h', b'e', b'y'),\n",
       " (b' ', b'p', b'r', b'a', b'i', b's', b'e', b'd'),\n",
       " (b' ', b't', b'h', b'e', b'm'),\n",
       " (b' ', b'a', b'n', b'd'),\n",
       " (b' ', b'g', b'a', b'v', b'e'),\n",
       " (b' ', b't', b'h', b'e', b'm'),\n",
       " (b' ', b'a'),\n",
       " (b' ', b't', b'r', b'e', b'a', b't'),\n",
       " (b'.',),\n",
       " (b' ', b'I', b't'),\n",
       " (b' ', b'w', b'a', b's'),\n",
       " (b' ', b'a'),\n",
       " (b' ', b'l', b'e', b'm', b'o', b'n'),\n",
       " (b' ', b'c', b'a', b'k', b'e'),\n",
       " (b'.',),\n",
       " (b' ', b'I', b't'),\n",
       " (b' ', b'w', b'a', b's'),\n",
       " (b' ', b's', b'o', b'u', b'r'),\n",
       " (b',',),\n",
       " (b' ', b'b', b'u', b't'),\n",
       " (b' ', b't', b'h', b'e', b'y'),\n",
       " (b' ', b'l', b'i', b'k', b'e', b'd'),\n",
       " (b' ', b'i', b't'),\n",
       " (b'.',),\n",
       " (b' ', b'T', b'h', b'e', b'y'),\n",
       " (b' ', b'l', b'e', b'a', b'r', b'n', b'e', b'd'),\n",
       " (b' ', b't', b'h', b'a', b't'),\n",
       " (b' ', b's', b'h', b'a', b'r', b'i', b'n', b'g'),\n",
       " (b' ', b'i', b's'),\n",
       " (b' ', b'c', b'a', b'r', b'i', b'n', b'g'),\n",
       " (b',',),\n",
       " (b' ', b'a', b'n', b'd'),\n",
       " (b' ', b't', b'h', b'a', b't'),\n",
       " (b' ', b'f', b'a', b'm', b'i', b'l', b'y'),\n",
       " (b' ', b'i', b's'),\n",
       " (b' ', b's', b'w', b'e', b'e', b't'),\n",
       " (b'.',),\n",
       " (b'\\n',),\n",
       " (b'\\n',),\n",
       " (b'\\n',),\n",
       " (b'O', b'n', b'c', b'e'),\n",
       " (b' ', b'u', b'p', b'o', b'n'),\n",
       " (b' ', b'a'),\n",
       " (b' ', b't', b'i', b'm', b'e'),\n",
       " (b' ', b't', b'h', b'e', b'r', b'e'),\n",
       " (b' ', b'w', b'a', b's'),\n",
       " (b' ', b'a'),\n",
       " (b' ', b'l', b'i', b't', b't', b'l', b'e'),\n",
       " (b' ', b'g', b'i', b'r', b'l'),\n",
       " (b' ', b'n', b'a', b'm', b'e', b'd'),\n",
       " (b' ', b'L', b'u', b'c', b'y'),\n",
       " (b'.',),\n",
       " (b' ', b'S', b'h', b'e'),\n",
       " (b' ', b'l', b'o', b'v', b'e', b'd'),\n",
       " (b' ', b't', b'o'),\n",
       " (b' ', b'g', b'o'),\n",
       " (b' ', b't', b'o'),\n",
       " (b' ', b't', b'h', b'e'),\n",
       " (b' ', b's', b't', b'o', b'r', b'e'),\n",
       " (b' ', b't', b'o'),\n",
       " (b' ', b'b', b'u', b'y'),\n",
       " (b' ', b's', b'w', b'e', b'e', b't', b's'),\n",
       " (b' ', b'w', b'i', b't', b'h'),\n",
       " (b' ', b'h', b'e', b'r'),\n",
       " (b' ', b'm', b'o', b'm'),\n",
       " (b' ', b'a', b'n', b'd'),\n",
       " (b' ', b'd', b'a', b'd'),\n",
       " (b'.',),\n",
       " (b' ', b'O', b'n'),\n",
       " (b' ', b't', b'h', b'i', b's'),\n",
       " (b' ', b's', b'p', b'e', b'c', b'i', b'a', b'l'),\n",
       " (b' ', b'd', b'a', b'y'),\n",
       " (b',',),\n",
       " (b' ', b'L', b'u', b'c', b'y'),\n",
       " (b' ', b'e', b'n', b't', b'e', b'r', b'e', b'd'),\n",
       " (b' ', b't', b'h', b'e'),\n",
       " (b' ', b's', b't', b'o', b'r', b'e'),\n",
       " (b' ', b'w', b'i', b't', b'h'),\n",
       " (b' ', b'h', b'e', b'r'),\n",
       " (b' ', b'm', b'o', b'm'),\n",
       " (b' ', b'a', b'n', b'd'),\n",
       " (b' ', b'd', b'a', b'd'),\n",
       " (b',',),\n",
       " (b' ', b'f', b'e', b'e', b'l', b'i', b'n', b'g'),\n",
       " (b' ', b's', b'o'),\n",
       " (b' ', b'e', b'x', b'c', b'i', b't', b'e', b'd'),\n",
       " (b'.',),\n",
       " (b'\\n',),\n",
       " (b'A', b's'),\n",
       " (b' ', b't', b'h', b'e', b'y'),\n",
       " (b' ', b'w', b'e', b'r', b'e'),\n",
       " (b' ', b'l', b'o', b'o', b'k', b'i', b'n', b'g'),\n",
       " (b' ', b'a', b'r', b'o', b'u', b'n', b'd'),\n",
       " (b',',),\n",
       " (b' ', b'L', b'u', b'c', b'y'),\n",
       " (b' ', b'n', b'o', b't', b'i', b'c', b'e', b'd'),\n",
       " (b' ', b'a'),\n",
       " (b' ', b'l', b'i', b't', b't', b'l', b'e'),\n",
       " (b' ', b'g', b'i', b'r', b'l'),\n",
       " (b' ', b'p', b'l', b'a', b'y', b'i', b'n', b'g'),\n",
       " (b' ', b'w', b'i', b't', b'h'),\n",
       " (b' ', b'a'),\n",
       " (b' ', b't', b'o', b'y'),\n",
       " (b' ', b'i', b'n'),\n",
       " (b' ', b't', b'h', b'e'),\n",
       " (b' ', b'c', b'o', b'r', b'n', b'e', b'r'),\n",
       " (b' ', b'o', b'f'),\n",
       " (b' ', b't', b'h', b'e'),\n",
       " (b' ', b's', b't', b'o', b'r', b'e'),\n",
       " (b'.',),\n",
       " (b' ', b'S', b'h', b'e'),\n",
       " (b' ', b'g', b'a', b's', b'p', b'e', b'd'),\n",
       " (b' ', b'i', b'n'),\n",
       " (b' ', b'e', b'x', b'c', b'i', b't', b'e', b'm', b'e', b'n', b't'),\n",
       " (b' ', b'a', b'n', b'd'),\n",
       " (b' ', b'r', b'a', b'n'),\n",
       " (b' ', b't', b'o', b'w', b'a', b'r', b'd', b's'),\n",
       " (b' ', b'h', b'e', b'r'),\n",
       " (b'.',),\n",
       " (b' ', b'L', b'u', b'c', b'y'),\n",
       " (b' ', b'a', b's', b'k', b'e', b'd'),\n",
       " (b' ', b'i', b'f'),\n",
       " (b' ', b's', b'h', b'e'),\n",
       " (b' ', b'c', b'o', b'u', b'l', b'd'),\n",
       " (b' ', b'p', b'l', b'a', b'y'),\n",
       " (b' ', b't', b'o', b'o'),\n",
       " (b' ', b'b', b'u', b't'),\n",
       " (b' ', b't', b'h', b'e'),\n",
       " (b' ', b'l', b'i', b't', b't', b'l', b'e'),\n",
       " (b' ', b'g', b'i', b'r', b'l'),\n",
       " (b' ', b's', b'a', b'i', b'd'),\n",
       " (b' ', b'n', b'o'),\n",
       " (b'.',),\n",
       " (b' ', b'S', b'h', b'e'),\n",
       " (b' ', b'w', b'a', b's'),\n",
       " (b' ', b'r', b'a', b't', b'h', b'e', b'r'),\n",
       " (b' ', b'g', b'r', b'u', b'm', b'p', b'y'),\n",
       " (b' ', b'a', b'n', b'd'),\n",
       " (b' ', b'w', b'a', b's'),\n",
       " (b' ', b'n', b'o', b't'),\n",
       " (b' ', b'i', b'n'),\n",
       " (b' ', b't', b'h', b'e'),\n",
       " (b' ', b'm', b'o', b'o', b'd'),\n",
       " (b' ', b't', b'o'),\n",
       " (b' ', b'p', b'l', b'a', b'y'),\n",
       " (b'.',),\n",
       " (b'\\n',),\n",
       " (b'L', b'u', b'c', b'y'),\n",
       " (b\"'\", b's'),\n",
       " (b' ', b'm', b'o', b'm'),\n",
       " (b' ', b's', b'a', b'w'),\n",
       " (b' ', b'w', b'h', b'a', b't'),\n",
       " (b' ', b'w', b'a', b's'),\n",
       " (b' ', b'g', b'o', b'i', b'n', b'g'),\n",
       " (b' ', b'o', b'n'),\n",
       " (b' ', b'a', b'n', b'd'),\n",
       " (b' ', b't', b'o', b'l', b'd'),\n",
       " (b' ', b'L', b'u', b'c', b'y'),\n",
       " (b',',),\n",
       " (b' ', b'\"'),\n",
       " (b'L', b'e', b't'),\n",
       " (b\"'\", b's'),\n",
       " (b' ', b't', b'r', b'y'),\n",
       " (b' ', b't', b'o'),\n",
       " (b' ', b'b', b'e'),\n",
       " (b' ', b'p', b'e', b'a', b'c', b'e', b'f', b'u', b'l'),\n",
       " (b' ', b'a', b'n', b'd'),\n",
       " (b' ', b'k', b'i', b'n', b'd'),\n",
       " (b' ', b't', b'o'),\n",
       " (b' ', b'h', b'e', b'r'),\n",
       " (b'.',),\n",
       " (b' ', b'H', b'a', b'v', b'e'),\n",
       " (b' ', b'p', b'a', b't', b'i', b'e', b'n', b'c', b'e'),\n",
       " (b' ', b'a', b'n', b'd'),\n",
       " (b' ',\n",
       "  b'u',\n",
       "  b'n',\n",
       "  b'd',\n",
       "  b'e',\n",
       "  b'r',\n",
       "  b's',\n",
       "  b't',\n",
       "  b'a',\n",
       "  b'n',\n",
       "  b'd',\n",
       "  b'i',\n",
       "  b'n',\n",
       "  b'g'),\n",
       " (b'.',),\n",
       " (b' ', b'T', b'o', b'g', b'e', b't', b'h', b'e', b'r'),\n",
       " (b',',),\n",
       " (b' ', b'y', b'o', b'u'),\n",
       " (b' ', b'c', b'a', b'n'),\n",
       " (b' ', b'b', b'o', b't', b'h'),\n",
       " (b' ', b'b', b'e'),\n",
       " (b' ', b'h', b'a', b'p', b'p', b'y'),\n",
       " (b'!', b'\"'),\n",
       " (b'\\n',),\n",
       " (b'S', b'o'),\n",
       " (b',',),\n",
       " (b' ', b'L', b'u', b'c', b'y'),\n",
       " (b' ', b's', b'm', b'i', b'l', b'e', b'd'),\n",
       " (b' ', b'a', b't'),\n",
       " (b' ', b't', b'h', b'e'),\n",
       " (b' ', b'g', b'i', b'r', b'l'),\n",
       " (b' ', b'a', b'n', b'd'),\n",
       " (b' ', b's', b'a', b'i', b'd'),\n",
       " (b',',),\n",
       " (b' ', b'\"'),\n",
       " (b'C', b'a', b'n'),\n",
       " (b' ', b'w', b'e'),\n",
       " (b' ', b'p', b'l', b'a', b'y'),\n",
       " (b' ', b't', b'o', b'g', b'e', b't', b'h', b'e', b'r'),\n",
       " (b'?', b'\"'),\n",
       " (b' ', b'T', b'h', b'e'),\n",
       " (b' ', b'l', b'i', b't', b't', b'l', b'e'),\n",
       " (b' ', b'g', b'i', b'r', b'l'),\n",
       " (b' ', b's', b'o', b'f', b't', b'e', b'n', b'e', b'd'),\n",
       " (b' ', b'a', b'n', b'd'),\n",
       " (b' ', b's', b'm', b'i', b'l', b'e', b'd'),\n",
       " (b' ', b'b', b'a', b'c', b'k'),\n",
       " (b'.',),\n",
       " (b' ', b'S', b'h', b'e'),\n",
       " (b' ', b'a', b'g', b'r', b'e', b'e', b'd'),\n",
       " (b' ', b't', b'o'),\n",
       " (b' ', b's', b'h', b'a', b'r', b'e'),\n",
       " (b' ', b't', b'h', b'e'),\n",
       " (b' ', b't', b'o', b'y'),\n",
       " (b' ', b'a', b'n', b'd'),\n",
       " (b' ', b'e', b'v', b'e', b'n'),\n",
       " (b' ', b'l', b'e', b't'),\n",
       " (b' ', b'L', b'u', b'c', b'y'),\n",
       " (b' ', b'h', b'a', b'v', b'e'),\n",
       " (b' ', b'a'),\n",
       " (b' ', b't', b'u', b'r', b'n'),\n",
       " (b' ', b'f', b'i', b'r', b's', b't'),\n",
       " (b'.',),\n",
       " (b'\\n',),\n",
       " (b'L', b'u', b'c', b'y'),\n",
       " (b' ', b'a', b'n', b'd'),\n",
       " (b' ', b't', b'h', b'e'),\n",
       " (b' ', b'l', b'i', b't', b't', b'l', b'e'),\n",
       " (b' ', b'g', b'i', b'r', b'l'),\n",
       " (b' ', b'p', b'l', b'a', b'y', b'e', b'd'),\n",
       " (b' ', b't', b'o', b'g', b'e', b't', b'h', b'e', b'r'),\n",
       " (b' ', b'h', b'a', b'p', b'p', b'i', b'l', b'y'),\n",
       " (b'.',),\n",
       " (b' ', b'I', b'n'),\n",
       " (b' ', b't', b'h', b'e'),\n",
       " (b' ', b'e', b'n', b'd'),\n",
       " (b',',),\n",
       " (b' ', b't', b'h', b'e', b'y'),\n",
       " (b' ', b'b', b'o', b't', b'h'),\n",
       " (b' ', b'l', b'e', b'a', b'r', b'n', b't'),\n",
       " (b' ', b'a', b'n'),\n",
       " (b' ', b'i', b'm', b'p', b'o', b'r', b't', b'a', b'n', b't'),\n",
       " (b' ', b'l', b'e', b's', b's', b'o', b'n'),\n",
       " (b':',),\n",
       " (b' ', b'b', b'e'),\n",
       " (b' ', b'p', b'e', b'a', b'c', b'e', b'f', b'u', b'l'),\n",
       " (b',',),\n",
       " (b' ', b'k', b'i', b'n', b'd'),\n",
       " (b',',),\n",
       " (b' ', b'a', b'n', b'd'),\n",
       " (b' ',\n",
       "  b'u',\n",
       "  b'n',\n",
       "  b'd',\n",
       "  b'e',\n",
       "  b'r',\n",
       "  b's',\n",
       "  b't',\n",
       "  b'a',\n",
       "  b'n',\n",
       "  b'd',\n",
       "  b'i',\n",
       "  b'n',\n",
       "  b'g'),\n",
       " (b' ', b'w', b'h', b'e', b'n'),\n",
       " (b' ', b'f', b'a', b'c', b'e', b'd'),\n",
       " (b' ', b'w', b'i', b't', b'h'),\n",
       " (b' ', b'a'),\n",
       " (b' ', b'c', b'o', b'n', b'f', b'l', b'i', b'c', b't'),\n",
       " (b'.',),\n",
       " (b' ', b'A', b'n', b'd'),\n",
       " (b' ', b't', b'h', b'a', b't'),\n",
       " (b' ', b'i', b's'),\n",
       " (b' ', b'w', b'h', b'y'),\n",
       " (b' ', b'L', b'u', b'c', b'y'),\n",
       " (b' ', b'a', b'n', b'd'),\n",
       " (b' ', b't', b'h', b'e'),\n",
       " (b' ', b'l', b'i', b't', b't', b'l', b'e'),\n",
       " (b' ', b'g', b'i', b'r', b'l'),\n",
       " (b' ', b'b', b'e', b'c', b'a', b'm', b'e'),\n",
       " (b' ', b'g', b'r', b'e', b'a', b't'),\n",
       " (b' ', b'f', b'r', b'i', b'e', b'n', b'd', b's'),\n",
       " (b'.',),\n",
       " (b'\\n',),\n",
       " (b'\\n',),\n",
       " (b'O', b'n', b'e'),\n",
       " (b' ', b'm', b'o', b'r', b'n', b'i', b'n', b'g'),\n",
       " (b',',),\n",
       " (b' ', b'a'),\n",
       " (b' ', b'c', b'a', b't'),\n",
       " (b' ', b'n', b'a', b'm', b'e', b'd'),\n",
       " (b' ', b'T', b'o', b'm'),\n",
       " (b' ', b'w', b'o', b'k', b'e'),\n",
       " (b' ', b'u', b'p'),\n",
       " (b'.',),\n",
       " (b' ', b'H', b'e'),\n",
       " (b' ', b'f', b'e', b'l', b't'),\n",
       " (b' ', b'h', b'a', b'p', b'p', b'y'),\n",
       " (b' ', b'b', b'e', b'c', b'a', b'u', b's', b'e'),\n",
       " (b' ', b't', b'h', b'e'),\n",
       " (b' ', b's', b'u', b'n'),\n",
       " (b' ', b'w', b'a', b's'),\n",
       " (b' ', b's', b'h', b'i', b'n', b'i', b'n', b'g'),\n",
       " (b'.',),\n",
       " (b' ', b'T', b'o', b'm'),\n",
       " ...]"
      ]
     },
     "execution_count": 445,
     "metadata": {},
     "output_type": "execute_result"
    }
   ],
   "source": [
    "output"
   ]
  },
  {
   "cell_type": "code",
   "execution_count": 399,
   "metadata": {},
   "outputs": [
    {
     "name": "stdout",
     "output_type": "stream",
     "text": [
      "257\n",
      "mp None\n"
     ]
    },
    {
     "name": "stderr",
     "output_type": "stream",
     "text": [
      "13105it [00:02, 4649.06it/s]\n"
     ]
    },
    {
     "name": "stdout",
     "output_type": "stream",
     "text": [
      "(b' ', b't')\n",
      "258\n",
      "mp (b' ', b't')\n"
     ]
    },
    {
     "name": "stderr",
     "output_type": "stream",
     "text": [
      "13105it [00:02, 4578.41it/s]\n"
     ]
    },
    {
     "name": "stdout",
     "output_type": "stream",
     "text": [
      "(b'h', b'e')\n",
      "259\n",
      "mp (b'h', b'e')\n"
     ]
    },
    {
     "name": "stderr",
     "output_type": "stream",
     "text": [
      "13105it [00:02, 4393.11it/s]"
     ]
    },
    {
     "name": "stdout",
     "output_type": "stream",
     "text": [
      "(b' ', b'a')\n"
     ]
    },
    {
     "name": "stderr",
     "output_type": "stream",
     "text": [
      "\n"
     ]
    }
   ],
   "source": [
    "vocab = get_vocab(text_corpus_file_path, max_vocab_size, special_tokens)"
   ]
  },
  {
   "cell_type": "code",
   "execution_count": 400,
   "metadata": {},
   "outputs": [
    {
     "data": {
      "text/plain": [
       "{b'\\x00': 0,\n",
       " b'\\x01': 1,\n",
       " b'\\x02': 2,\n",
       " b'\\x03': 3,\n",
       " b'\\x04': 4,\n",
       " b'\\x05': 5,\n",
       " b'\\x06': 6,\n",
       " b'\\x07': 7,\n",
       " b'\\x08': 8,\n",
       " b'\\t': 9,\n",
       " b'\\n': 10,\n",
       " b'\\x0b': 11,\n",
       " b'\\x0c': 12,\n",
       " b'\\r': 13,\n",
       " b'\\x0e': 14,\n",
       " b'\\x0f': 15,\n",
       " b'\\x10': 16,\n",
       " b'\\x11': 17,\n",
       " b'\\x12': 18,\n",
       " b'\\x13': 19,\n",
       " b'\\x14': 20,\n",
       " b'\\x15': 21,\n",
       " b'\\x16': 22,\n",
       " b'\\x17': 23,\n",
       " b'\\x18': 24,\n",
       " b'\\x19': 25,\n",
       " b'\\x1a': 26,\n",
       " b'\\x1b': 27,\n",
       " b'\\x1c': 28,\n",
       " b'\\x1d': 29,\n",
       " b'\\x1e': 30,\n",
       " b'\\x1f': 31,\n",
       " b' ': 32,\n",
       " b'!': 33,\n",
       " b'\"': 34,\n",
       " b'#': 35,\n",
       " b'$': 36,\n",
       " b'%': 37,\n",
       " b'&': 38,\n",
       " b\"'\": 39,\n",
       " b'(': 40,\n",
       " b')': 41,\n",
       " b'*': 42,\n",
       " b'+': 43,\n",
       " b',': 44,\n",
       " b'-': 45,\n",
       " b'.': 46,\n",
       " b'/': 47,\n",
       " b'0': 48,\n",
       " b'1': 49,\n",
       " b'2': 50,\n",
       " b'3': 51,\n",
       " b'4': 52,\n",
       " b'5': 53,\n",
       " b'6': 54,\n",
       " b'7': 55,\n",
       " b'8': 56,\n",
       " b'9': 57,\n",
       " b':': 58,\n",
       " b';': 59,\n",
       " b'<': 60,\n",
       " b'=': 61,\n",
       " b'>': 62,\n",
       " b'?': 63,\n",
       " b'@': 64,\n",
       " b'A': 65,\n",
       " b'B': 66,\n",
       " b'C': 67,\n",
       " b'D': 68,\n",
       " b'E': 69,\n",
       " b'F': 70,\n",
       " b'G': 71,\n",
       " b'H': 72,\n",
       " b'I': 73,\n",
       " b'J': 74,\n",
       " b'K': 75,\n",
       " b'L': 76,\n",
       " b'M': 77,\n",
       " b'N': 78,\n",
       " b'O': 79,\n",
       " b'P': 80,\n",
       " b'Q': 81,\n",
       " b'R': 82,\n",
       " b'S': 83,\n",
       " b'T': 84,\n",
       " b'U': 85,\n",
       " b'V': 86,\n",
       " b'W': 87,\n",
       " b'X': 88,\n",
       " b'Y': 89,\n",
       " b'Z': 90,\n",
       " b'[': 91,\n",
       " b'\\\\': 92,\n",
       " b']': 93,\n",
       " b'^': 94,\n",
       " b'_': 95,\n",
       " b'`': 96,\n",
       " b'a': 97,\n",
       " b'b': 98,\n",
       " b'c': 99,\n",
       " b'd': 100,\n",
       " b'e': 101,\n",
       " b'f': 102,\n",
       " b'g': 103,\n",
       " b'h': 104,\n",
       " b'i': 105,\n",
       " b'j': 106,\n",
       " b'k': 107,\n",
       " b'l': 108,\n",
       " b'm': 109,\n",
       " b'n': 110,\n",
       " b'o': 111,\n",
       " b'p': 112,\n",
       " b'q': 113,\n",
       " b'r': 114,\n",
       " b's': 115,\n",
       " b't': 116,\n",
       " b'u': 117,\n",
       " b'v': 118,\n",
       " b'w': 119,\n",
       " b'x': 120,\n",
       " b'y': 121,\n",
       " b'z': 122,\n",
       " b'{': 123,\n",
       " b'|': 124,\n",
       " b'}': 125,\n",
       " b'~': 126,\n",
       " b'\\x7f': 127,\n",
       " b'\\xc2\\x80': 128,\n",
       " b'\\xc2\\x81': 129,\n",
       " b'\\xc2\\x82': 130,\n",
       " b'\\xc2\\x83': 131,\n",
       " b'\\xc2\\x84': 132,\n",
       " b'\\xc2\\x85': 133,\n",
       " b'\\xc2\\x86': 134,\n",
       " b'\\xc2\\x87': 135,\n",
       " b'\\xc2\\x88': 136,\n",
       " b'\\xc2\\x89': 137,\n",
       " b'\\xc2\\x8a': 138,\n",
       " b'\\xc2\\x8b': 139,\n",
       " b'\\xc2\\x8c': 140,\n",
       " b'\\xc2\\x8d': 141,\n",
       " b'\\xc2\\x8e': 142,\n",
       " b'\\xc2\\x8f': 143,\n",
       " b'\\xc2\\x90': 144,\n",
       " b'\\xc2\\x91': 145,\n",
       " b'\\xc2\\x92': 146,\n",
       " b'\\xc2\\x93': 147,\n",
       " b'\\xc2\\x94': 148,\n",
       " b'\\xc2\\x95': 149,\n",
       " b'\\xc2\\x96': 150,\n",
       " b'\\xc2\\x97': 151,\n",
       " b'\\xc2\\x98': 152,\n",
       " b'\\xc2\\x99': 153,\n",
       " b'\\xc2\\x9a': 154,\n",
       " b'\\xc2\\x9b': 155,\n",
       " b'\\xc2\\x9c': 156,\n",
       " b'\\xc2\\x9d': 157,\n",
       " b'\\xc2\\x9e': 158,\n",
       " b'\\xc2\\x9f': 159,\n",
       " b'\\xc2\\xa0': 160,\n",
       " b'\\xc2\\xa1': 161,\n",
       " b'\\xc2\\xa2': 162,\n",
       " b'\\xc2\\xa3': 163,\n",
       " b'\\xc2\\xa4': 164,\n",
       " b'\\xc2\\xa5': 165,\n",
       " b'\\xc2\\xa6': 166,\n",
       " b'\\xc2\\xa7': 167,\n",
       " b'\\xc2\\xa8': 168,\n",
       " b'\\xc2\\xa9': 169,\n",
       " b'\\xc2\\xaa': 170,\n",
       " b'\\xc2\\xab': 171,\n",
       " b'\\xc2\\xac': 172,\n",
       " b'\\xc2\\xad': 173,\n",
       " b'\\xc2\\xae': 174,\n",
       " b'\\xc2\\xaf': 175,\n",
       " b'\\xc2\\xb0': 176,\n",
       " b'\\xc2\\xb1': 177,\n",
       " b'\\xc2\\xb2': 178,\n",
       " b'\\xc2\\xb3': 179,\n",
       " b'\\xc2\\xb4': 180,\n",
       " b'\\xc2\\xb5': 181,\n",
       " b'\\xc2\\xb6': 182,\n",
       " b'\\xc2\\xb7': 183,\n",
       " b'\\xc2\\xb8': 184,\n",
       " b'\\xc2\\xb9': 185,\n",
       " b'\\xc2\\xba': 186,\n",
       " b'\\xc2\\xbb': 187,\n",
       " b'\\xc2\\xbc': 188,\n",
       " b'\\xc2\\xbd': 189,\n",
       " b'\\xc2\\xbe': 190,\n",
       " b'\\xc2\\xbf': 191,\n",
       " b'\\xc3\\x80': 192,\n",
       " b'\\xc3\\x81': 193,\n",
       " b'\\xc3\\x82': 194,\n",
       " b'\\xc3\\x83': 195,\n",
       " b'\\xc3\\x84': 196,\n",
       " b'\\xc3\\x85': 197,\n",
       " b'\\xc3\\x86': 198,\n",
       " b'\\xc3\\x87': 199,\n",
       " b'\\xc3\\x88': 200,\n",
       " b'\\xc3\\x89': 201,\n",
       " b'\\xc3\\x8a': 202,\n",
       " b'\\xc3\\x8b': 203,\n",
       " b'\\xc3\\x8c': 204,\n",
       " b'\\xc3\\x8d': 205,\n",
       " b'\\xc3\\x8e': 206,\n",
       " b'\\xc3\\x8f': 207,\n",
       " b'\\xc3\\x90': 208,\n",
       " b'\\xc3\\x91': 209,\n",
       " b'\\xc3\\x92': 210,\n",
       " b'\\xc3\\x93': 211,\n",
       " b'\\xc3\\x94': 212,\n",
       " b'\\xc3\\x95': 213,\n",
       " b'\\xc3\\x96': 214,\n",
       " b'\\xc3\\x97': 215,\n",
       " b'\\xc3\\x98': 216,\n",
       " b'\\xc3\\x99': 217,\n",
       " b'\\xc3\\x9a': 218,\n",
       " b'\\xc3\\x9b': 219,\n",
       " b'\\xc3\\x9c': 220,\n",
       " b'\\xc3\\x9d': 221,\n",
       " b'\\xc3\\x9e': 222,\n",
       " b'\\xc3\\x9f': 223,\n",
       " b'\\xc3\\xa0': 224,\n",
       " b'\\xc3\\xa1': 225,\n",
       " b'\\xc3\\xa2': 226,\n",
       " b'\\xc3\\xa3': 227,\n",
       " b'\\xc3\\xa4': 228,\n",
       " b'\\xc3\\xa5': 229,\n",
       " b'\\xc3\\xa6': 230,\n",
       " b'\\xc3\\xa7': 231,\n",
       " b'\\xc3\\xa8': 232,\n",
       " b'\\xc3\\xa9': 233,\n",
       " b'\\xc3\\xaa': 234,\n",
       " b'\\xc3\\xab': 235,\n",
       " b'\\xc3\\xac': 236,\n",
       " b'\\xc3\\xad': 237,\n",
       " b'\\xc3\\xae': 238,\n",
       " b'\\xc3\\xaf': 239,\n",
       " b'\\xc3\\xb0': 240,\n",
       " b'\\xc3\\xb1': 241,\n",
       " b'\\xc3\\xb2': 242,\n",
       " b'\\xc3\\xb3': 243,\n",
       " b'\\xc3\\xb4': 244,\n",
       " b'\\xc3\\xb5': 245,\n",
       " b'\\xc3\\xb6': 246,\n",
       " b'\\xc3\\xb7': 247,\n",
       " b'\\xc3\\xb8': 248,\n",
       " b'\\xc3\\xb9': 249,\n",
       " b'\\xc3\\xba': 250,\n",
       " b'\\xc3\\xbb': 251,\n",
       " b'\\xc3\\xbc': 252,\n",
       " b'\\xc3\\xbd': 253,\n",
       " b'\\xc3\\xbe': 254,\n",
       " b'\\xc3\\xbf': 255,\n",
       " '<|endoftext|>': 256,\n",
       " b' t': 257,\n",
       " b'he': 258,\n",
       " b' a': 259}"
      ]
     },
     "execution_count": 400,
     "metadata": {},
     "output_type": "execute_result"
    }
   ],
   "source": [
    "vocab"
   ]
  },
  {
   "cell_type": "code",
   "execution_count": null,
   "metadata": {},
   "outputs": [],
   "source": []
  },
  {
   "cell_type": "code",
   "execution_count": 395,
   "metadata": {},
   "outputs": [
    {
     "ename": "TypeError",
     "evalue": "can only join an iterable",
     "output_type": "error",
     "traceback": [
      "\u001b[31m---------------------------------------------------------------------------\u001b[39m",
      "\u001b[31mTypeError\u001b[39m                                 Traceback (most recent call last)",
      "\u001b[36mCell\u001b[39m\u001b[36m \u001b[39m\u001b[32mIn[395]\u001b[39m\u001b[32m, line 1\u001b[39m\n\u001b[32m----> \u001b[39m\u001b[32m1\u001b[39m re.split(\u001b[33;43m\"\u001b[39;49m\u001b[33;43m|\u001b[39;49m\u001b[33;43m\"\u001b[39;49m\u001b[43m.\u001b[49m\u001b[43mjoin\u001b[49m\u001b[43m(\u001b[49m\u001b[43mspecial_tokens\u001b[49m\u001b[43m)\u001b[49m, \u001b[33m'\u001b[39m\u001b[33mu don\u001b[39m\u001b[38;5;130;01m\\'\u001b[39;00m\u001b[33mt have to be scared of the loud dog, I\u001b[39m\u001b[38;5;130;01m\\'\u001b[39;00m\u001b[33mll protect you\u001b[39m\u001b[33m\"\u001b[39m\u001b[33m. The mole felt so safe with the little girl. She was very kind and the mole soon came to trust her. He leaned against her and she kept him safe. The mole had found his best friend.\u001b[39m\u001b[38;5;130;01m\\n\u001b[39;00m\u001b[33m'\u001b[39m)\n",
      "\u001b[31mTypeError\u001b[39m: can only join an iterable"
     ]
    }
   ],
   "source": [
    "re.split(\"|\".join(special_tokens), 'u don\\'t have to be scared of the loud dog, I\\'ll protect you\". The mole felt so safe with the little girl. She was very kind and the mole soon came to trust her. He leaned against her and she kept him safe. The mole had found his best friend.\\n')"
   ]
  },
  {
   "cell_type": "code",
   "execution_count": 394,
   "metadata": {},
   "outputs": [
    {
     "data": {
      "text/plain": [
       "'u don\\'t have to be scared of the loud dog, I\\'ll protect you\". The mole felt so safe with the little girl. She was very kind and the mole soon came to trust her. He leaned against her and she kept him safe. The mole had found his best friend.\\n'"
      ]
     },
     "execution_count": 394,
     "metadata": {},
     "output_type": "execute_result"
    }
   ],
   "source": [
    "text_corpus[0]"
   ]
  },
  {
   "cell_type": "code",
   "execution_count": 328,
   "metadata": {},
   "outputs": [],
   "source": [
    "def read_corpus_data(file_path: str) -> List[str]:\n",
    "    with open(file_path, 'r') as f:\n",
    "        text_corpus = f.readlines()\n",
    "    return text_corpus"
   ]
  },
  {
   "cell_type": "code",
   "execution_count": 329,
   "metadata": {},
   "outputs": [],
   "source": [
    "text_corpus_file_path = 'data/TinyStoriesV2-GPT4-valid.txt'\n",
    "text_corpus = read_corpus_data(text_corpus_file_path)"
   ]
  },
  {
   "cell_type": "code",
   "execution_count": 209,
   "metadata": {},
   "outputs": [],
   "source": [
    "text_corpus = text_corpus[:100]"
   ]
  },
  {
   "cell_type": "code",
   "execution_count": 259,
   "metadata": {},
   "outputs": [],
   "source": [
    "# text_corpus"
   ]
  },
  {
   "cell_type": "code",
   "execution_count": 334,
   "metadata": {},
   "outputs": [],
   "source": [
    "def initialize_vocab(special_tokens: List[str] = None) -> Dict[bytes, int]:\n",
    "    vocab = {chr(i).encode('utf-8'):i for i in range(256)}\n",
    "    if special_tokens:\n",
    "        i = len(vocab)\n",
    "        for special_token in special_tokens:\n",
    "            vocab[special_token] = i\n",
    "            i+=1\n",
    "    return vocab\n"
   ]
  },
  {
   "cell_type": "code",
   "execution_count": 335,
   "metadata": {},
   "outputs": [],
   "source": [
    "special_tokens = ['<|endoftext|>']\n",
    "vocab = initialize_vocab(special_tokens)"
   ]
  },
  {
   "cell_type": "code",
   "execution_count": 343,
   "metadata": {},
   "outputs": [],
   "source": [
    "def pretokenize_text_corpus(text_corpus: List[str], special_tokens: List[str] = None) -> Dict[str, int]:\n",
    "    \"Get count of each byte seq in the text corpus\"\n",
    "    PAT = r\"\"\"'(?:[sdmt]|ll|ve|re)| ?\\p{L}+| ?\\p{N}+| ?[^\\s\\p{L}\\p{N}]+|\\s+(?!\\S)|\\s+\"\"\"\n",
    "    special_tokens = [re.escape(special_token) for special_token in special_tokens]\n",
    "    vocab_count = {}\n",
    "    for sentence in text_corpus:\n",
    "        filtered_sentences = re.split(\"|\".join(special_tokens), sentence)\n",
    "        for filtered_sentence in filtered_sentences:\n",
    "            split_sentence = re.finditer(PAT, filtered_sentence)\n",
    "            for word_match in split_sentence:\n",
    "                word = tuple([x.encode(\"utf-8\") for x in word_match.group()])# if word_match.group != special_token else word_match.group\n",
    "                if word in vocab_count:\n",
    "                    vocab_count[word] +=1\n",
    "                else:\n",
    "                    vocab_count[word] = 1\n",
    "    return vocab_count"
   ]
  },
  {
   "cell_type": "code",
   "execution_count": null,
   "metadata": {},
   "outputs": [],
   "source": [
    "text_corpus_count = pretokenize_text_corpus(text_corpus, special_tokens)"
   ]
  },
  {
   "cell_type": "code",
   "execution_count": 255,
   "metadata": {},
   "outputs": [
    {
     "data": {
      "text/plain": [
       "658"
      ]
     },
     "execution_count": 255,
     "metadata": {},
     "output_type": "execute_result"
    }
   ],
   "source": [
    "len(text_corpus_count)"
   ]
  },
  {
   "cell_type": "code",
   "execution_count": 310,
   "metadata": {},
   "outputs": [
    {
     "data": {
      "text/plain": [
       "{(b'u',): 1,\n",
       " (b' ', b'd', b'o', b'n'): 3,\n",
       " (b\"'\", b't'): 6,\n",
       " (b' ', b'h', b'a', b'v', b'e'): 13,\n",
       " (b' ', b't', b'o'): 90,\n",
       " (b' ', b'b', b'e'): 9,\n",
       " (b' ', b's', b'c', b'a', b'r', b'e', b'd'): 6,\n",
       " (b' ', b'o', b'f'): 17,\n",
       " (b' ', b't', b'h', b'e'): 126,\n",
       " (b' ', b'l', b'o', b'u', b'd'): 3,\n",
       " (b' ', b'd', b'o', b'g'): 3,\n",
       " (b',',): 161,\n",
       " (b' ', b'I'): 11,\n",
       " (b\"'\", b'l', b'l'): 2,\n",
       " (b' ', b'p', b'r', b'o', b't', b'e', b'c', b't'): 1,\n",
       " (b' ', b'y', b'o', b'u'): 28,\n",
       " (b'\"', b'.'): 1,\n",
       " (b' ', b'T', b'h', b'e'): 15,\n",
       " (b' ', b'm', b'o', b'l', b'e'): 3,\n",
       " (b' ', b'f', b'e', b'l', b't'): 11,\n",
       " (b' ', b's', b'o'): 9,\n",
       " (b' ', b's', b'a', b'f', b'e'): 5,\n",
       " (b' ', b'w', b'i', b't', b'h'): 17,\n",
       " (b' ', b'l', b'i', b't', b't', b'l', b'e'): 13,\n",
       " (b' ', b'g', b'i', b'r', b'l'): 10,\n",
       " (b'.',): 279,\n",
       " (b' ', b'S', b'h', b'e'): 30,\n",
       " (b' ', b'w', b'a', b's'): 59,\n",
       " (b' ', b'v', b'e', b'r', b'y'): 15,\n",
       " (b' ', b'k', b'i', b'n', b'd'): 4,\n",
       " (b' ', b'a', b'n', b'd'): 130,\n",
       " (b' ', b's', b'o', b'o', b'n'): 1,\n",
       " (b' ', b'c', b'a', b'm', b'e'): 4,\n",
       " (b' ', b't', b'r', b'u', b's', b't'): 1,\n",
       " (b' ', b'h', b'e', b'r'): 18,\n",
       " (b' ', b'H', b'e'): 25,\n",
       " (b' ', b'l', b'e', b'a', b'n', b'e', b'd'): 1,\n",
       " (b' ', b'a', b'g', b'a', b'i', b'n', b's', b't'): 1,\n",
       " (b' ', b's', b'h', b'e'): 12,\n",
       " (b' ', b'k', b'e', b'p', b't'): 1,\n",
       " (b' ', b'h', b'i', b'm'): 7,\n",
       " (b' ', b'h', b'a', b'd'): 15,\n",
       " (b' ', b'f', b'o', b'u', b'n', b'd'): 6,\n",
       " (b' ', b'h', b'i', b's'): 17,\n",
       " (b' ', b'b', b'e', b's', b't'): 4,\n",
       " (b' ', b'f', b'r', b'i', b'e', b'n', b'd'): 5,\n",
       " (b'\\n',): 100,\n",
       " (b'O', b'n', b'c', b'e'): 8,\n",
       " (b' ', b'u', b'p', b'o', b'n'): 8,\n",
       " (b' ', b'a'): 84,\n",
       " (b' ', b't', b'i', b'm', b'e'): 9,\n",
       " (b' ', b'i', b'n'): 29,\n",
       " (b' ', b'w', b'a', b'r', b'm'): 2,\n",
       " (b' ', b's', b'u', b'n', b'n', b'y'): 1,\n",
       " (b' ', b'p', b'l', b'a', b'c', b'e'): 2,\n",
       " (b' ', b't', b'h', b'e', b'r', b'e'): 9,\n",
       " (b' ', b'b', b'i', b'g'): 13,\n",
       " (b' ', b'p', b'i', b't'): 9,\n",
       " (b' ', b'A'): 1,\n",
       " (b' ', b'b', b'o', b'y'): 3,\n",
       " (b' ', b'n', b'a', b'm', b'e', b'd'): 8,\n",
       " (b' ', b'T', b'o', b'm'): 20,\n",
       " (b' ', b'l', b'i', b'k', b'e', b'd'): 7,\n",
       " (b' ', b'p', b'l', b'a', b'y'): 7,\n",
       " (b' ', b'n', b'e', b'a', b'r'): 1,\n",
       " (b' ', b'O', b'n', b'e'): 5,\n",
       " (b' ', b'd', b'a', b'y'): 17,\n",
       " (b' ', b'l', b'o', b's', b't'): 3,\n",
       " (b' ', b'r', b'e', b'd'): 3,\n",
       " (b' ', b'b', b'a', b'l', b'l'): 10,\n",
       " (b' ', b's', b'a', b'd'): 8,\n",
       " (b'T', b'o', b'm'): 5,\n",
       " (b' ', b'a', b's', b'k', b'e', b'd'): 16,\n",
       " (b' ', b'S', b'a', b'm'): 2,\n",
       " (b' ', b'h', b'e', b'l', b'p'): 10,\n",
       " (b' ', b's', b'e', b'a', b'r', b'c', b'h'): 3,\n",
       " (b' ', b'f', b'o', b'r'): 15,\n",
       " (b' ', b'T', b'h', b'e', b'y'): 51,\n",
       " (b' ', b'l', b'o', b'o', b'k', b'e', b'd'): 7,\n",
       " (b' ', b'h', b'i', b'g', b'h'): 2,\n",
       " (b' ', b'l', b'o', b'w'): 1,\n",
       " (b' ', b'b', b'u', b't'): 14,\n",
       " (b' ', b't', b'h', b'e', b'y'): 16,\n",
       " (b' ', b'c', b'o', b'u', b'l', b'd'): 7,\n",
       " (b' ', b'n', b'o', b't'): 20,\n",
       " (b' ', b'f', b'i', b'n', b'd'): 4,\n",
       " (b' ', b's', b'a', b'i', b'd'): 29,\n",
       " (b' ', b'\"'): 16,\n",
       " (b'I',): 5,\n",
       " (b' ', b't', b'h', b'i', b'n', b'k'): 2,\n",
       " (b' ', b'm', b'y'): 7,\n",
       " (b' ', b'f', b'e', b'l', b'l'): 3,\n",
       " (b' ', b'i', b'n', b't', b'o'): 4,\n",
       " (b'.', b'\"'): 9,\n",
       " (b'S', b'a', b'm'): 1,\n",
       " (b' ', b'w', b'e', b'n', b't'): 7,\n",
       " (b' ', b'c', b'l', b'o', b's', b'e'): 1,\n",
       " (b' ', b'w', b'e', b'r', b'e'): 19,\n",
       " (b' ', b'w', b'a', b'n', b't', b'e', b'd'): 17,\n",
       " (b' ', b'i', b't'): 22,\n",
       " (b' ', b't', b'o', b'o'): 9,\n",
       " (b' ', b'd', b'a', b'r', b'k'): 2,\n",
       " (b' ', b's', b'e', b'e'): 6,\n",
       " (b'W', b'e'): 3,\n",
       " (b' ', b'm', b'u', b's', b't'): 1,\n",
       " (b' ', b'g', b'o'): 3,\n",
       " (b'T', b'h', b'e', b'y'): 5,\n",
       " (b' ', b'I', b't'): 8,\n",
       " (b' ', b's', b'c', b'a', b'r', b'y'): 2,\n",
       " (b' ', b't', b'r', b'i', b'e', b'd'): 3,\n",
       " (b' ', b'g', b'e', b't'): 3,\n",
       " (b' ', b'o', b'u', b't'): 4,\n",
       " (b' ', b'd', b'e', b'e', b'p'): 1,\n",
       " (b' ', b's', b't', b'u', b'c', b'k'): 4,\n",
       " (b' ', b'c', b'a', b'l', b'l', b'e', b'd'): 2,\n",
       " (b' ', b'n', b'o'): 2,\n",
       " (b' ', b'o', b'n', b'e'): 4,\n",
       " (b' ', b'h', b'e', b'a', b'r'): 2,\n",
       " (b' ', b't', b'h', b'e', b'm'): 11,\n",
       " (b' ', b'n', b'e', b'v', b'e', b'r'): 1,\n",
       " (b' ', b'g', b'o', b't'): 3,\n",
       " (b' ', b'L', b'i', b'l', b'y'): 20,\n",
       " (b' ', b'p', b'l', b'a', b'y', b'i', b'n', b'g'): 4,\n",
       " (b' ', b't', b'h', b'e', b'i', b'r'): 18,\n",
       " (b' ', b't', b'o', b'y', b's'): 4,\n",
       " (b' ', b'l', b'i', b'v', b'i', b'n', b'g'): 2,\n",
       " (b' ', b'r', b'o', b'o', b'm'): 5,\n",
       " (b' ', b'b', b'u', b'i', b'l', b'd'): 2,\n",
       " (b' ', b't', b'o', b'w', b'e', b'r', b's'): 1,\n",
       " (b' ', b'b', b'r', b'i', b'd', b'g', b'e', b's'): 1,\n",
       " (b' ', b'b', b'l', b'o', b'c', b'k', b's'): 7,\n",
       " (b' ', b'c', b'a', b'r', b's'): 4,\n",
       " (b' ', b'p', b'r', b'o', b'u', b'd'): 2,\n",
       " (b' ', b't', b'a', b'l', b'l'): 2,\n",
       " (b' ', b't', b'o', b'w', b'e', b'r'): 4,\n",
       " (b' ', b'm', b'a', b'k', b'e'): 8,\n",
       " (b' ', b'e', b'v', b'e', b'n'): 2,\n",
       " (b' ', b't', b'a', b'l', b'l', b'e', b'r'): 1,\n",
       " (b' ', b'h', b'e'): 20,\n",
       " (b' ', b'r', b'e', b'a', b'c', b'h', b'e', b'd'): 1,\n",
       " (b' ', b'm', b'o', b'r', b'e'): 3,\n",
       " (b'\"',): 25,\n",
       " (b' ', b'c', b'a', b'n'): 7,\n",
       " (b' ', b's', b'o', b'm', b'e'): 1,\n",
       " (b'?', b'\"'): 15,\n",
       " (b' ', b'b', b'r', b'i', b'd', b'g', b'e'): 1,\n",
       " (b'N', b'o'): 2,\n",
       " (b' ', b't', b'h', b'e', b's', b'e'): 1,\n",
       " (b' ', b'a', b'r', b'e'): 9,\n",
       " (b' ', b'm', b'i', b'n', b'e'): 1,\n",
       " (b' ', b'G', b'o'): 1,\n",
       " (b' ', b'y', b'o', b'u', b'r'): 1,\n",
       " (b' ', b'o', b'w', b'n'): 1,\n",
       " (b',', b'\"'): 10,\n",
       " (b' ', b'd', b'i', b'd'): 12,\n",
       " (b' ', b'w', b'a', b'n', b't'): 4,\n",
       " (b' ', b's', b'h', b'a', b'r', b'e'): 3,\n",
       " (b' ', b's', b'i', b's', b't', b'e', b'r'): 3,\n",
       " (b' ', b'p', b'u', b'l', b'l', b'e', b'd'): 4,\n",
       " (b' ', b'c', b'l', b'o', b's', b'e', b'r'): 1,\n",
       " (b'L', b'i', b'l', b'y'): 12,\n",
       " (b' ', b'a', b'n', b'g', b'r', b'y'): 5,\n",
       " (b' ', b'b', b'e', b'i', b'n', b'g'): 3,\n",
       " (b' ', b'n', b'i', b'c', b'e'): 7,\n",
       " (b' ', b'a', b't'): 5,\n",
       " (b' ', b'a', b'n'): 6,\n",
       " (b' ', b'i', b'd', b'e', b'a'): 3,\n",
       " (b' ', b'd', b'e', b'c', b'i', b'd', b'e', b'd'): 4,\n",
       " (b' ', b'p', b'u', b'l', b'l'): 1,\n",
       " (b' ', b'b', b'o', b't', b't', b'o', b'm'): 1,\n",
       " (b'S', b'u', b'd', b'd', b'e', b'n', b'l', b'y'): 1,\n",
       " (b' ', b'd', b'o', b'w', b'n'): 1,\n",
       " (b' ', b'c', b'r', b'a', b's', b'h'): 1,\n",
       " (b' ', b'A', b'l', b'l'): 1,\n",
       " (b' ', b's', b'c', b'a', b't', b't', b'e', b'r', b'e', b'd'): 1,\n",
       " (b' ', b'o', b'n'): 11,\n",
       " (b' ', b'f', b'l', b'o', b'o', b'r'): 6,\n",
       " (b' ', b's', b'h', b'o', b'c', b'k', b'e', b'd'): 1,\n",
       " (b' ', b's', b'h', b'a', b'k', b'e'): 1,\n",
       " (b' ', b'h', b'e', b'a', b'r', b'd'): 2,\n",
       " (b' ', b'r', b'u', b'm', b'b', b'l', b'e'): 1,\n",
       " (b' ', b'e', b'a', b'r', b't', b'h', b'q', b'u', b'a', b'k', b'e'): 2,\n",
       " (b'!',): 2,\n",
       " (b'M', b'o', b'm', b'm', b'y'): 2,\n",
       " (b' ', b'D', b'a', b'd', b'd', b'y'): 2,\n",
       " (b'!', b'\"'): 6,\n",
       " (b' ', b'c', b'r', b'i', b'e', b'd'): 1,\n",
       " (b' ', b'r', b'a', b'n'): 2,\n",
       " (b' ', b'p', b'a', b'r', b'e', b'n', b't', b's'): 1,\n",
       " (b' ', b'w', b'h', b'o'): 4,\n",
       " (b' ', b'k', b'i', b't', b'c', b'h', b'e', b'n'): 3,\n",
       " (b'A', b'r', b'e'): 1,\n",
       " (b' ', b'o', b'k', b'a', b'y'): 3,\n",
       " (b' ', b'k', b'i', b'd', b's'): 1,\n",
       " (b' ', b'M', b'o', b'm', b'm', b'y'): 3,\n",
       " (b' ', b'h', b'u', b'g', b'g', b'e', b'd'): 3,\n",
       " (b' ', b'c', b'h', b'e', b'c', b'k', b'e', b'd'): 1,\n",
       " (b' ', b'i', b'f'): 5,\n",
       " (b' ', b'h', b'u', b'r', b't'): 2,\n",
       " (b\"'\", b'r', b'e'): 1,\n",
       " (b' ', b'B', b'u', b't'): 7,\n",
       " (b' ', b'o', b'u', b'r'): 1,\n",
       " (b' ', b'b', b'r', b'o', b'k', b'e', b'n'): 4,\n",
       " (b\"'\", b'm'): 3,\n",
       " (b' ', b's', b'o', b'r', b'r', b'y'): 6,\n",
       " (b' ', b'i', b'm', b'p', b'o', b'r', b't', b'a', b'n', b't'): 4,\n",
       " (b' ', b'Y', b'o', b'u'): 10,\n",
       " (b' ', b'W', b'e'): 5,\n",
       " (b' ', b't', b'o', b'g', b'e', b't', b'h', b'e', b'r'): 10,\n",
       " (b' ', b'T', b'h', b'a', b't'): 3,\n",
       " (b\"'\", b's'): 18,\n",
       " (b' ', b'w', b'h', b'a', b't'): 7,\n",
       " (b' ', b'm', b'a', b't', b't', b'e', b'r', b's'): 1,\n",
       " (b' ', b'r', b'e', b'a', b'l', b'i', b'z', b'e', b'd'): 1,\n",
       " (b' ', b's', b'e', b'l', b'f', b'i', b's', b'h'): 1,\n",
       " (b' ', b'm', b'e', b'a', b'n'): 2,\n",
       " (b' ', b's', b'a', b'w'): 8,\n",
       " (b' ', b'h', b'o', b'w'): 1,\n",
       " (b' ', b'd', b'u', b'r', b'i', b'n', b'g'): 1,\n",
       " (b' ', b'h', b'a', b'p', b'p', b'y'): 12,\n",
       " (b' ', b'a', b'l', b'l'): 7,\n",
       " (b' ', b'l', b'o', b'v', b'e'): 3,\n",
       " (b' ', b's', b'm', b'i', b'l', b'e', b'd'): 4,\n",
       " (b' ', b'f', b'o', b'r', b'g', b'a', b'v', b'e'): 1,\n",
       " (b' ', b't', b'h', b'a', b'n', b'k', b'e', b'd'): 1,\n",
       " (b' ', b'l', b'o', b'v', b'e', b'd'): 6,\n",
       " (b' ', b'b', b'a', b'c', b'k'): 4,\n",
       " (b' ', b'c', b'l', b'e', b'a', b'n', b'e', b'd'): 1,\n",
       " (b' ', b'u', b'p'): 13,\n",
       " (b' ', b's', b'o', b'm', b'e', b't', b'h', b'i', b'n', b'g'): 1,\n",
       " (b' ', b'm', b'a', b'd', b'e'): 7,\n",
       " (b' ', b'h', b'o', b'u', b's', b'e'): 4,\n",
       " (b' ', b'g', b'a', b'r', b'd', b'e', b'n'): 1,\n",
       " (b' ', b'f', b'e', b'n', b'c', b'e'): 1,\n",
       " (b' ', b'p', b'u', b't'): 4,\n",
       " (b' ', b'd', b'o', b'l', b'l', b's'): 1,\n",
       " (b' ', b'i', b'n', b's', b'i', b'd', b'e'): 1,\n",
       " (b' ', b'w', b'o', b'r', b'k'): 2,\n",
       " (b' ', b'p', b'r', b'a', b'i', b's', b'e', b'd'): 1,\n",
       " (b' ', b'g', b'a', b'v', b'e'): 3,\n",
       " (b' ', b't', b'r', b'e', b'a', b't'): 2,\n",
       " (b' ', b'l', b'e', b'm', b'o', b'n'): 1,\n",
       " (b' ', b'c', b'a', b'k', b'e'): 1,\n",
       " (b' ', b's', b'o', b'u', b'r'): 1,\n",
       " (b' ', b'l', b'e', b'a', b'r', b'n', b'e', b'd'): 7,\n",
       " (b' ', b't', b'h', b'a', b't'): 22,\n",
       " (b' ', b's', b'h', b'a', b'r', b'i', b'n', b'g'): 1,\n",
       " (b' ', b'i', b's'): 8,\n",
       " (b' ', b'c', b'a', b'r', b'i', b'n', b'g'): 1,\n",
       " (b' ', b'f', b'a', b'm', b'i', b'l', b'y'): 1,\n",
       " (b' ', b's', b'w', b'e', b'e', b't'): 1,\n",
       " (b' ', b'L', b'u', b'c', b'y'): 8,\n",
       " (b' ', b's', b't', b'o', b'r', b'e'): 3,\n",
       " (b' ', b'b', b'u', b'y'): 1,\n",
       " (b' ', b's', b'w', b'e', b'e', b't', b's'): 1,\n",
       " (b' ', b'm', b'o', b'm'): 34,\n",
       " (b' ', b'd', b'a', b'd'): 11,\n",
       " (b' ', b'O', b'n'): 1,\n",
       " (b' ', b't', b'h', b'i', b's'): 2,\n",
       " (b' ', b's', b'p', b'e', b'c', b'i', b'a', b'l'): 2,\n",
       " (b' ', b'e', b'n', b't', b'e', b'r', b'e', b'd'): 1,\n",
       " (b' ', b'f', b'e', b'e', b'l', b'i', b'n', b'g'): 2,\n",
       " (b' ', b'e', b'x', b'c', b'i', b't', b'e', b'd'): 2,\n",
       " (b'A', b's'): 1,\n",
       " (b' ', b'l', b'o', b'o', b'k', b'i', b'n', b'g'): 1,\n",
       " (b' ', b'a', b'r', b'o', b'u', b'n', b'd'): 1,\n",
       " (b' ', b'n', b'o', b't', b'i', b'c', b'e', b'd'): 2,\n",
       " (b' ', b't', b'o', b'y'): 3,\n",
       " (b' ', b'c', b'o', b'r', b'n', b'e', b'r'): 1,\n",
       " (b' ', b'g', b'a', b's', b'p', b'e', b'd'): 1,\n",
       " (b' ', b'e', b'x', b'c', b'i', b't', b'e', b'm', b'e', b'n', b't'): 1,\n",
       " (b' ', b't', b'o', b'w', b'a', b'r', b'd', b's'): 1,\n",
       " (b' ', b'r', b'a', b't', b'h', b'e', b'r'): 1,\n",
       " (b' ', b'g', b'r', b'u', b'm', b'p', b'y'): 1,\n",
       " (b' ', b'm', b'o', b'o', b'd'): 1,\n",
       " (b'L', b'u', b'c', b'y'): 2,\n",
       " (b' ', b'g', b'o', b'i', b'n', b'g'): 3,\n",
       " (b' ', b't', b'o', b'l', b'd'): 2,\n",
       " (b'L', b'e', b't'): 1,\n",
       " (b' ', b't', b'r', b'y'): 2,\n",
       " (b' ', b'p', b'e', b'a', b'c', b'e', b'f', b'u', b'l'): 2,\n",
       " (b' ', b'H', b'a', b'v', b'e'): 1,\n",
       " (b' ', b'p', b'a', b't', b'i', b'e', b'n', b'c', b'e'): 1,\n",
       " (b' ',\n",
       "  b'u',\n",
       "  b'n',\n",
       "  b'd',\n",
       "  b'e',\n",
       "  b'r',\n",
       "  b's',\n",
       "  b't',\n",
       "  b'a',\n",
       "  b'n',\n",
       "  b'd',\n",
       "  b'i',\n",
       "  b'n',\n",
       "  b'g'): 2,\n",
       " (b' ', b'T', b'o', b'g', b'e', b't', b'h', b'e', b'r'): 1,\n",
       " (b' ', b'b', b'o', b't', b'h'): 5,\n",
       " (b'S', b'o'): 1,\n",
       " (b'C', b'a', b'n'): 2,\n",
       " (b' ', b'w', b'e'): 6,\n",
       " (b' ', b's', b'o', b'f', b't', b'e', b'n', b'e', b'd'): 1,\n",
       " (b' ', b'a', b'g', b'r', b'e', b'e', b'd'): 1,\n",
       " (b' ', b'l', b'e', b't'): 5,\n",
       " (b' ', b't', b'u', b'r', b'n'): 1,\n",
       " (b' ', b'f', b'i', b'r', b's', b't'): 1,\n",
       " (b' ', b'p', b'l', b'a', b'y', b'e', b'd'): 2,\n",
       " (b' ', b'h', b'a', b'p', b'p', b'i', b'l', b'y'): 1,\n",
       " (b' ', b'I', b'n'): 1,\n",
       " (b' ', b'e', b'n', b'd'): 2,\n",
       " (b' ', b'l', b'e', b'a', b'r', b'n', b't'): 1,\n",
       " (b' ', b'l', b'e', b's', b's', b'o', b'n'): 2,\n",
       " (b':',): 1,\n",
       " (b' ', b'w', b'h', b'e', b'n'): 4,\n",
       " (b' ', b'f', b'a', b'c', b'e', b'd'): 1,\n",
       " (b' ', b'c', b'o', b'n', b'f', b'l', b'i', b'c', b't'): 1,\n",
       " (b' ', b'A', b'n', b'd'): 5,\n",
       " (b' ', b'w', b'h', b'y'): 1,\n",
       " (b' ', b'b', b'e', b'c', b'a', b'm', b'e'): 2,\n",
       " (b' ', b'g', b'r', b'e', b'a', b't'): 1,\n",
       " (b' ', b'f', b'r', b'i', b'e', b'n', b'd', b's'): 2,\n",
       " (b'O', b'n', b'e'): 5,\n",
       " (b' ', b'm', b'o', b'r', b'n', b'i', b'n', b'g'): 3,\n",
       " (b' ', b'c', b'a', b't'): 1,\n",
       " (b' ', b'w', b'o', b'k', b'e'): 1,\n",
       " (b' ', b'b', b'e', b'c', b'a', b'u', b's', b'e'): 3,\n",
       " (b' ', b's', b'u', b'n'): 3,\n",
       " (b' ', b's', b'h', b'i', b'n', b'i', b'n', b'g'): 2,\n",
       " (b' ', b's', b't', b'a', b'r', b't'): 1,\n",
       " (b' ', b's', b't', b'r', b'e', b't', b'c', b'h'): 2,\n",
       " (b' ', b's', b't', b'r', b'e', b't', b'c', b'h', b'e', b'd'): 1,\n",
       " (b' ', b'l', b'e', b'g', b's'): 1,\n",
       " (b' ', b't', b'a', b'i', b'l'): 1,\n",
       " (b' ', b'e', b'a', b's', b'y'): 2,\n",
       " (b' ', b'g', b'o', b'o', b'd'): 5,\n",
       " (b' ', b'o', b'u', b't', b's', b'i', b'd', b'e'): 1,\n",
       " (b' ', b'M', b'a', b'x'): 17,\n",
       " (b' ', b'a', b'l', b's', b'o'): 4,\n",
       " (b' ', b's', b't', b'r', b'e', b't', b'c', b'h', b'i', b'n', b'g'): 1,\n",
       " (b' ', b'f', b'u', b'n'): 4,\n",
       " (b'A', b't'): 1,\n",
       " (b' ', b't', b'i', b'r', b'e', b'd'): 1,\n",
       " (b' ', b'l', b'o', b't', b's'): 2,\n",
       " (b' ', b'g', b'o', b'o', b'd', b'b', b'y', b'e'): 1,\n",
       " (b' ', b'e', b'a', b'c', b'h'): 3,\n",
       " (b' ', b'o', b't', b'h', b'e', b'r'): 2,\n",
       " (b' ', b'h', b'o', b'm', b'e', b's'): 1,\n",
       " (b' ', b'B', b'e', b'f', b'o', b'r', b'e'): 1,\n",
       " (b' ', b's', b'l', b'e', b'e', b'p'): 1,\n",
       " (b' ', b'a', b'n', b'o', b't', b'h', b'e', b'r'): 4,\n",
       " (b' ', b'k', b'n', b'e', b'w'): 3,\n",
       " (b' ', b't', b'o', b'm', b'o', b'r', b'r', b'o', b'w'): 1,\n",
       " (b' ', b'w', b'o', b'u', b'l', b'd'): 6,\n",
       " (b' ', b't', b'w', b'i', b'n', b's'): 1,\n",
       " (b' ', b'd', b'e', b'c', b'o', b'r', b'a', b't', b'e'): 3,\n",
       " (b' ', b't', b'h', b'i', b'n', b'g', b's'): 4,\n",
       " (b' ', b'b', b'o', b'x'): 2,\n",
       " (b' ', b'c', b'r', b'a', b'y', b'o', b'n', b's'): 4,\n",
       " (b' ', b's', b't', b'i', b'c', b'k', b'e', b'r', b's'): 4,\n",
       " (b' ', b'g', b'l', b'i', b't', b't', b'e', b'r'): 4,\n",
       " (b' ', b's', b'h', b'i', b'n', b'y'): 1,\n",
       " (b' ', b'c', b'o', b'p', b'p', b'e', b'r'): 1,\n",
       " (b' ', b'p', b'o', b't'): 9,\n",
       " (b' ', b'M', b'o', b'm'): 8,\n",
       " (b' ', b'h', b'o', b'm', b'e'): 3,\n",
       " (b' ', b'p', b'r', b'e', b't', b't', b'y'): 2,\n",
       " (b' ', b't', b'o', b'o', b'k'): 2,\n",
       " (b' ', b'o', b'p', b'e', b'n', b'e', b'd'): 1,\n",
       " (b' ', b's', b't', b'a', b'r', b't', b'e', b'd'): 2,\n",
       " (b' ', b'd', b'r', b'a', b'w'): 1,\n",
       " (b' ', b's', b't', b'i', b'c', b'k'): 1,\n",
       " (b' ', b's', b'p', b'r', b'i', b'n', b'k', b'l', b'e'): 1,\n",
       " (b' ', b'c', b'o', b'l', b'o', b'r', b'f', b'u', b'l'): 1,\n",
       " (b' ', b's', b'h', b'a', b'p', b'e', b's'): 1,\n",
       " (b' ', b'p', b'a', b't', b't', b'e', b'r', b'n', b's'): 1,\n",
       " (b' ', b't', b'h', b'o', b'u', b'g', b'h', b't'): 1,\n",
       " (b'B', b'u', b't'): 2,\n",
       " (b' ', b'c', b'l', b'u', b'm', b's', b'y'): 1,\n",
       " (b' ', b'm', b'e', b's', b's'): 7,\n",
       " (b' ', b's', b'p', b'i', b'l', b'l', b'e', b'd'): 2,\n",
       " (b' ', b'b', b'e', b'd'): 3,\n",
       " (b' ', b'w', b'a', b'l', b'l'): 2,\n",
       " (b' ', b'd', b'o', b'o', b'r'): 6,\n",
       " (b' ', b'd', b'r', b'e', b'w'): 1,\n",
       " (b' ', b'w', b'i', b'n', b'd', b'o', b'w'): 2,\n",
       " (b' ', b'd', b'r', b'e', b's', b's', b'e', b'r'): 2,\n",
       " (b' ', b'c', b'o', b'm', b'e'): 1,\n",
       " (b'M', b'o', b'm'): 2,\n",
       " (b' ', b'f', b'o', b'l', b'l', b'o', b'w', b'e', b'd'): 1,\n",
       " (b' ', b't', b'r', b'a', b'i', b'l'): 1,\n",
       " (b'S', b'h', b'e'): 1,\n",
       " (b' ', b'd', b'o'): 7,\n",
       " (b'?',): 3,\n",
       " (b' ', b'r', b'u', b'i', b'n', b'e', b'd'): 1,\n",
       " (b' ', b'n', b'a', b'u', b'g', b'h', b't', b'y'): 1,\n",
       " (b' ', b'c', b'l', b'e', b'a', b'n'): 6,\n",
       " (b' ', b'e', b'v', b'e', b'r', b'y', b't', b'h', b'i', b'n', b'g'): 1,\n",
       " (b' ', b's', b'a', b'y'): 2,\n",
       " (b' ', b'o', b'n', b'l', b'y'): 2,\n",
       " (b'S', b'o', b'r', b'r', b'y'): 1,\n",
       " (b' ', b'w', b'i', b'l', b'l'): 3,\n",
       " (b' ', b'P', b'l', b'e', b'a', b's', b'e'): 1,\n",
       " (b' ', b'm', b'a', b'd'): 1,\n",
       " (b' ', b's', b'i', b'g', b'h', b'e', b'd'): 1,\n",
       " (b' ', b's', b't', b'i', b'l', b'l'): 1,\n",
       " (b' ', b'c', b'a', b'r', b'e', b'f', b'u', b'l'): 1,\n",
       " (b' ', b't', b'o', b'u', b'c', b'h'): 1,\n",
       " (b' ', b'w', b'i', b't', b'h', b'o', b'u', b't'): 1,\n",
       " (b' ', b'a', b's', b'k', b'i', b'n', b'g'): 1,\n",
       " (b' ', b'l', b'i', b'k', b'e'): 4,\n",
       " (b' ', b'l', b'e', b'a', b'r', b'n'): 4,\n",
       " (b' ', b't', b'i', b'd', b'y'): 2,\n",
       " (b' ', b'r', b'e', b's', b'p', b'e', b'c', b't', b'f', b'u', b'l'): 1,\n",
       " (b' ', b'n', b'o', b'd', b'd', b'e', b'd'): 1,\n",
       " (b' ', b'b', b'r', b'o', b'o', b'm'): 1,\n",
       " (b' ', b'd', b'u', b's', b't', b'p', b'a', b'n'): 1,\n",
       " (b' ', b'c', b'l', b'o', b't', b'h'): 2,\n",
       " (b' ', b'h', b'o', b'p', b'e', b'd'): 1,\n",
       " (b' ', b'f', b'o', b'r', b'g', b'i', b'v', b'e'): 1,\n",
       " (b' ', b'a', b'g', b'a', b'i', b'n'): 2,\n",
       " (b' ', b'k', b'i', b'n', b'g'): 6,\n",
       " (b' ', b's', b't', b'r', b'o', b'n', b'g'): 4,\n",
       " (b' ', b'r', b'u', b'l', b'e', b'd'): 1,\n",
       " (b' ', b'o', b'v', b'e', b'r'): 3,\n",
       " (b' ', b'k', b'i', b'n', b'g', b'd', b'o', b'm'): 2,\n",
       " (b' ', b't', b'a', b'k', b'e'): 2,\n",
       " (b' ', b'l', b'o', b'n', b'g'): 4,\n",
       " (b' ', b'b', b'a', b't', b'h'): 1,\n",
       " (b' ', b'f', b'i', b'l', b'l', b'e', b'd'): 1,\n",
       " (b' ', b'b', b'a', b't', b'h', b't', b'u', b'b'): 3,\n",
       " (b' ', b'w', b'a', b't', b'e', b'r'): 3,\n",
       " (b' ', b'f', b'e', b'e', b'l'): 1,\n",
       " (b' ', b'r', b'e', b'l', b'a', b'x', b'e', b'd'): 2,\n",
       " (b' ', b's', b'o', b'a', b'k', b'e', b'd'): 1,\n",
       " (b' ', b't', b'u', b'b'): 2,\n",
       " (b' ', b'r', b'e', b'a', b'l', b'l', b'y'): 2,\n",
       " (b'W', b'h', b'e', b'n'): 1,\n",
       " (b' ', b'f', b'i', b'n', b'i', b's', b'h', b'e', b'd'): 1,\n",
       " (b' ', b's', b'o', b'a', b'k', b'i', b'n', b'g'): 1,\n",
       " (b' ', b's', b't', b'e', b'p', b'p', b'e', b'd'): 1,\n",
       " (b' ', b'g', b'u', b'i', b'l', b't', b'y'): 1,\n",
       " (b' ', b's', b'u', b'c', b'h'): 1,\n",
       " (b' ', b'q', b'u', b'i', b'c', b'k', b'l', b'y'): 1,\n",
       " (b' ', b'g', b'r', b'a', b'b', b'b', b'e', b'd'): 1,\n",
       " (b' ', b'b', b'e', b'g', b'a', b'n'): 1,\n",
       " (b'T', b'h', b'e'): 3,\n",
       " (b' ', b'h', b'o', b't'): 1,\n",
       " (b' ', b'f', b'r', b'o', b'm'): 3,\n",
       " (b' ', b'c', b'l', b'e', b'a', b'n', b'i', b'n', b'g'): 1,\n",
       " (b' ', b's', b'o', b'a', b'k'): 2,\n",
       " (b' ', b'l', b'o', b't'): 1,\n",
       " (b' ', b'b', b'u', b'b', b'b', b'l', b'e', b's'): 1,\n",
       " (b' ', b'b', b'u', b'b', b'b', b'l', b'y'): 1,\n",
       " (b' ', b'w', b'o', b'r', b'r', b'i', b'e', b's'): 1,\n",
       " (b' ', b'w', b'a', b's', b'h'): 1,\n",
       " (b' ', b'a', b'w', b'a', b'y'): 2,\n",
       " (b' ', b'b', b'e', b'e', b'n'): 1,\n",
       " (b' ', b'a', b'b', b'l', b'e'): 1,\n",
       " (b' ', b'e', b'n', b'j', b'o', b'y'): 2,\n",
       " (b' ', b'd', b'r', b'i', b'e', b'd'): 1,\n",
       " (b' ', b'o', b'f', b'f'): 1,\n",
       " (b' ', b'w', b'r', b'a', b'p', b'p', b'e', b'd'): 1,\n",
       " (b' ', b'h', b'i', b'm', b's', b'e', b'l', b'f'): 1,\n",
       " (b' ', b't', b'o', b'w', b'e', b'l'): 1,\n",
       " (b' ', b'T', b'h', b'e', b'n'): 1,\n",
       " (b' ', b'r', b'u', b'l', b'i', b'n', b'g'): 1,\n",
       " (b' ', b'e', b'n', b'j', b'o', b'y', b'i', b'n', b'g'): 1,\n",
       " (b' ', b'l', b'o', b'v', b'e', b'l', b'y'): 1,\n",
       " (b' ', b'b', b'a', b't', b'h', b's'): 1,\n",
       " (b' ', b'p', b'a', b'r', b'k'): 1,\n",
       " (b' ', b's', b'l', b'i', b'd', b'e'): 1,\n",
       " (b' ', b's', b'w', b'i', b'n', b'g'): 1,\n",
       " (b' ', b'r', b'u', b'n'): 2,\n",
       " (b' ', b'g', b'r', b'a', b's', b's'): 1,\n",
       " (b' ', b'l', b'i', b's', b't', b'e', b'n'): 1,\n",
       " (b' ', b'b', b'i', b'r', b'd', b's'): 2,\n",
       " (b' ', b'w', b'h', b'i', b's', b't', b'l', b'e', b's'): 2,\n",
       " (b' ', b't', b'r', b'e', b'e', b's'): 1,\n",
       " (b'L', b'o', b'o', b'k'): 1,\n",
       " (b' ', b'b', b'i', b'r', b'd'): 8,\n",
       " (b' ', b'p', b'o', b'i', b'n', b't', b'i', b'n', b'g'): 2,\n",
       " (b' ', b'c', b'a', b'r', b'd', b'i', b'n', b'a', b'l'): 2,\n",
       " (b'T', b'h', b'a', b't'): 2,\n",
       " (b' ', b'D', b'o'): 2,\n",
       " (b' ', b'k', b'n', b'o', b'w'): 3,\n",
       " (b'A',): 2,\n",
       " (b' ', b's', b'c', b'h', b'o', b'o', b'l'): 2,\n",
       " (b' ', b'p', b'r', b'o', b'u', b'd', b'l', b'y'): 1,\n",
       " (b'V', b'e', b'r', b'y'): 1,\n",
       " (b' ', b'y', b'e', b'l', b'l', b'o', b'w'): 1,\n",
       " (b' ', b'c', b'a', b'n', b'a', b'r', b'y'): 2,\n",
       " (b'W', b'o', b'w'): 1,\n",
       " (b' ', b's', b'm', b'a', b'r', b't'): 1,\n",
       " (b' ', b'n', b'a', b'm', b'e'): 1,\n",
       " (b'Y', b'e', b's'): 2,\n",
       " (b' ', b'y', b'e', b's'): 1,\n",
       " (b'O', b'K'): 2,\n",
       " (b' ', b'b', b'l', b'u', b'e'): 2,\n",
       " (b' ', b'j', b'a', b'y'): 1,\n",
       " (b' ', b'h', b'a', b's'): 2,\n",
       " (b' ', b'w', b'h', b'i', b's', b't', b'l', b'e'): 5,\n",
       " (b' ', b'C', b'a', b'n'): 5,\n",
       " (b' ', b'f', b'u', b'n', b'n', b'y'): 1,\n",
       " (b' ', b'n', b'o', b'i', b's', b'e', b's'): 1,\n",
       " (b' ', b'l', b'a', b'u', b'g', b'h', b'e', b'd'): 2,\n",
       " (b'W', b'h', b'i', b's', b't', b'l', b'i', b'n', b'g'): 1,\n",
       " (b' ', b'h', b'a', b'r', b'd'): 1,\n",
       " (b' ', b'H', b'o', b'w'): 1,\n",
       " (b'I', b't'): 1,\n",
       " (b' ', b't', b'a', b'k', b'e', b's'): 1,\n",
       " (b' ', b'p', b'r', b'a', b'c', b't', b'i', b'c', b'e'): 1,\n",
       " (b' ', b'M', b'a', b'y', b'b', b'e'): 1,\n",
       " (b' ', b'o', b'l', b'd', b'e', b'r'): 1,\n",
       " (b' ', b'b', b'e', b't', b't', b'e', b'r'): 2,\n",
       " (b' ', b'n', b'e', b'e', b'd'): 2,\n",
       " (b' ', b's', b'i', b'n', b'g'): 5,\n",
       " (b' ', b'o', b'r'): 4,\n",
       " (b' ', b'c', b'l', b'a', b'p'): 1,\n",
       " (b' ', b'd', b'a', b'n', b'c', b'e'): 1,\n",
       " (b' ', b'a', b'n', b'y'): 1,\n",
       " (b' ', b's', b'o', b'u', b'n', b'd'): 1,\n",
       " (b' ', b's', b'o', b'n', b'g'): 4,\n",
       " (b'S', b'u', b'r', b'e'): 1,\n",
       " (b' ', b'W', b'h', b'a', b't'): 1,\n",
       " (b'H', b'o', b'w'): 1,\n",
       " (b' ', b'a', b'b', b'o', b'u', b't'): 3,\n",
       " (b' ', b\"'\"): 1,\n",
       " (b'T', b'w', b'i', b'n', b'k', b'l', b'e'): 1,\n",
       " (b' ', b'T', b'w', b'i', b'n', b'k', b'l', b'e'): 1,\n",
       " (b' ', b'L', b'i', b't', b't', b'l', b'e'): 1,\n",
       " (b' ', b'S', b't', b'a', b'r'): 1,\n",
       " (b\"'\", b'?', b'\"'): 1,\n",
       " (b' ', b's', b'u', b'g', b'g', b'e', b's', b't', b'e', b'd'): 1,\n",
       " (b' ', b's', b'a', b'n', b'g'): 1,\n",
       " (b' ', b's', b'k', b'y'): 1,\n",
       " (b' ', b'c', b'l', b'o', b'u', b'd', b's'): 1,\n",
       " (b' ', b'l', b'i', b'g', b'h', b't'): 1,\n",
       " (b' ', b'f', b'l', b'u', b'f', b'f', b'y'): 1,\n",
       " (b' ', b's', b'l', b'e', b'e', b'p', b'y'): 1,\n",
       " (b' ', b'n', b'o', b'w'): 1,\n",
       " (b' ', b'n', b'a', b'p'): 3,\n",
       " (b'M', b'e'): 1,\n",
       " (b'O', b'f'): 1,\n",
       " (b' ', b'c', b'o', b'u', b'r', b's', b'e'): 1,\n",
       " (b' ', b's', b'w', b'e', b'e', b't', b'i', b'e', b's'): 1,\n",
       " (b' ', b'L', b'e', b't'): 2,\n",
       " (b' ', b'c', b'a', b'r'): 2,\n",
       " (b' ', b'b', b'u', b's', b'y'): 1,\n",
       " (b' ', b'w', b'a', b'l', b'k', b'e', b'd'): 1,\n",
       " (b' ', b'b', b'u', b'c', b'k', b'l', b'e', b'd'): 1,\n",
       " (b' ', b's', b'e', b'a', b't', b's'): 1,\n",
       " (b' ', b'k', b'i', b's', b's'): 1,\n",
       " (b' ', b'h', b'u', b'g'): 1,\n",
       " (b'S', b'l', b'e', b'e', b'p'): 1,\n",
       " (b' ', b'w', b'e', b'l', b'l'): 1,\n",
       " (b' ', b'l', b'o', b'v', b'e', b's'): 1,\n",
       " (b' ', b'w', b'a', b'k', b'e'): 1,\n",
       " (b' ', b'c', b'l', b'o', b's', b'e', b'd'): 1,\n",
       " (b' ', b'e', b'y', b'e', b's'): 1,\n",
       " (b' ', b'a', b's', b'l', b'e', b'e', b'p'): 1,\n",
       " (b' ', b'd', b'r', b'e', b'a', b'm', b'e', b'd'): 1,\n",
       " (b' ', b's', b't', b'a', b'r', b's'): 1,\n",
       " (b' ', b'b', b'o', b'w'): 10,\n",
       " (b' ', b'r', b'e', b'l', b'i', b'a', b'b', b'l', b'e'): 1,\n",
       " (b' ', b't', b'o', b'w', b'n'): 2,\n",
       " (b' ', b'E', b'v', b'e', b'r', b'y', b'o', b'n', b'e'): 1,\n",
       " (b' ', b'u', b's', b'e'): 2,\n",
       " (b' ', b'm', b'a', b'n'): 4,\n",
       " (b' ', b't', b'e', b's', b't'): 1,\n",
       " (b' ', b'b', b'r', b'e', b'a', b'k'): 2,\n",
       " (b' ', b's', b't', b'o', b'p'): 1,\n",
       " (b' ', b'h', b'a', b'r', b'd', b'e', b'r'): 2,\n",
       " (b' ', b'A', b't'): 1,\n",
       " (b' ', b'l', b'a', b's', b't'): 1,\n",
       " (b' ', b'b', b'r', b'o', b'k', b'e'): 2,\n",
       " (b' ', b'l', b'i', b'v', b'e', b'd'): 3,\n",
       " (b' ', b's', b'm', b'a', b'l', b'l'): 2,\n",
       " (b' ', b'b', b'a', b'c', b'k', b'y', b'a', b'r', b'd'): 1,\n",
       " (b' ', b'j', b'u', b'm', b'p'): 1,\n",
       " (b' ', b'y', b'u', b'm', b'm', b'y'): 1,\n",
       " (b' ', b'c', b'o', b'o', b'k', b'i', b'e'): 4,\n",
       " (b' ', b't', b'a', b's', b't', b'y'): 1,\n",
       " (b' ', b'b', b'o', b'n', b'e'): 4,\n",
       " (b'T', b'h', b'a', b'n', b'k'): 1,\n",
       " (b' ', b't', b'h', b'e', b'n'): 1,\n",
       " (b' ', b's', b'a', b'v', b'e'): 1,\n",
       " (b' ', b'l', b'a', b't', b'e', b'r'): 1,\n",
       " (b' ', b's', b'e', b'c', b'r', b'e', b't'): 1,\n",
       " (b' ', b'u', b'n', b'd', b'e', b'r'): 1,\n",
       " (b' ', b'f', b'o', b'r', b'g', b'o', b't'): 1,\n",
       " (b' ', b'f', b'e', b'w'): 1,\n",
       " (b' ', b'd', b'a', b'y', b's'): 1,\n",
       " (b' ', b'W', b'h', b'e', b'n'): 1,\n",
       " (b' ', b'r', b'e', b'm', b'e', b'm', b'b', b'e', b'r', b'e', b'd'): 1,\n",
       " (b' ', b't', b'r', b'e', b'a', b't', b's'): 3,\n",
       " (b' ', b'd', b'i', b'r', b't', b'y'): 1,\n",
       " (b' ', b's', b'p', b'o', b'i', b'l', b'e', b'd'): 1,\n",
       " (b' ', b'f', b'r', b'e', b's', b'h'): 1,\n",
       " (b' ', b'T', b'i', b'm'): 8,\n",
       " (b' ', b'i', b'n', b't', b'e', b'l', b'l', b'i', b'g', b'e', b'n', b't'): 1,\n",
       " (b' ', b'n', b'e', b'w'): 4,\n",
       " (b' ', b'b', b'o', b'o', b'k'): 2,\n",
       " (b' ', b'g', b'h', b'o', b's', b't', b's'): 2,\n",
       " (b' ', b'r', b'e', b'a', b'd'): 1,\n",
       " (b' ', b'm', b'e', b't'): 1,\n",
       " (b' ', b'f', b'r', b'i', b'e', b'n', b'd', b'l', b'y'): 1,\n",
       " (b' ', b'g', b'h', b'o', b's', b't'): 1,\n",
       " (b' ', b'G', b'i', b'g', b'i'): 6,\n",
       " (b' ', b'n', b'e', b'e', b'd', b'e', b'd'): 1,\n",
       " (b' ', b's', b'h', b'o', b'w'): 1,\n",
       " (b' ', b'S', b'o'): 2,\n",
       " (b' ', b'p', b'i', b'c', b'k', b'e', b'd'): 1,\n",
       " (b' ', b'f', b'a', b'v', b'o', b'r', b'i', b't', b'e'): 1,\n",
       " (b' ', b'r', b'o', b'u', b'n', b'd'): 1,\n",
       " (b' ', b'a', b's'): 2,\n",
       " (b' ',\n",
       "  b'a',\n",
       "  b'c',\n",
       "  b'c',\n",
       "  b'i',\n",
       "  b'd',\n",
       "  b'e',\n",
       "  b'n',\n",
       "  b't',\n",
       "  b'a',\n",
       "  b'l',\n",
       "  b'l',\n",
       "  b'y'): 1,\n",
       " (b' ', b'd', b'r', b'o', b'p'): 1,\n",
       " (b' ', b'p', b'i', b'e', b'c', b'e', b's'): 1,\n",
       " (b'G', b'i', b'g', b'i'): 1,\n",
       " (b' ', b'e', b'v', b'e', b'r', b'y', b'o', b'n', b'e'): 1,\n",
       " (b' ', b'm', b'a', b'k', b'e', b's'): 1,\n",
       " (b' ', b'm', b'i', b's', b't', b'a', b'k', b'e', b's'): 1,\n",
       " (b' ', b't', b'h', b'i', b'n', b'g'): 1,\n",
       " (b' ', b'm', b'e', b'a', b'n', b's'): 1,\n",
       " (b' ', b'h', b'e', b'l', b'p', b'i', b'n', b'g'): 1,\n",
       " (b' ', b'f', b'o', b'r', b'e', b's', b't'): 3,\n",
       " (b' ', b'w', b'i', b's', b'e'): 6,\n",
       " (b' ', b'o', b'l', b'd'): 1,\n",
       " (b' ', b'o', b'w', b'l'): 7,\n",
       " (b' ', b'T', b'h', b'i', b's'): 1,\n",
       " (b' ', b'n', b'e', b'c', b'k'): 3,\n",
       " (b' ', b'm', b'a', b'n', b'y'): 1,\n",
       " (b' ', b't', b'r', b'e', b'e'): 2,\n",
       " (b' ', b'h', b'e', b'l', b'p', b'e', b'd'): 2,\n",
       " (b' ', b'a', b'n', b'i', b'm', b'a', b'l', b's'): 1,\n",
       " (b' ', b'n', b'e', b's', b't'): 6,\n",
       " (b' ', b'r', b'e', b's', b't', b'o', b'r', b'e'): 2,\n",
       " (b' ', b'w', b'o', b'r', b'k', b'e', b'd'): 1,\n",
       " (b' ', b'f', b'i', b'x'): 1,\n",
       " (b' ', b'u', b's', b'i', b'n', b'g'): 1,\n",
       " (b' ', b's', b't', b'i', b'c', b'k', b's'): 1,\n",
       " (b' ', b'l', b'e', b'a', b'v', b'e', b's'): 1,\n",
       " (b' ', b'f', b'i', b'x', b'i', b'n', b'g'): 1,\n",
       " (b' ', b'w', b'i', b'n', b'd'): 2,\n",
       " (b' ', b'b', b'l', b'e', b'w'): 1,\n",
       " (b' ', b'S', b'u', b'e'): 11,\n",
       " (b' ', b't', b'h', b'o', b'u', b'g', b'h', b't', b'f', b'u', b'l'): 1,\n",
       " (b' ', b'a', b'l', b'w', b'a', b'y', b's'): 1,\n",
       " (b' ', b't', b'r', b'y', b'i', b'n', b'g'): 1,\n",
       " (b' ', b'o', b'p', b'e', b'n'): 1,\n",
       " (b' ', b'h', b'a', b'n', b'd', b'l', b'e'): 5,\n",
       " (b'S', b'u', b'e'): 2,\n",
       " (b' ', b'H', b'e', b'r'): 3,\n",
       " (b' ', b'a', b's', b'k'): 2,\n",
       " (b'D', b'a', b'd'): 2,\n",
       " (b' ', b'a', b'm'): 1,\n",
       " (b' ', b's', b'u', b'r', b'e'): 1,\n",
       " (b' ', b'l', b'o', b'o', b'k'): 1,\n",
       " (b' ', b'r', b'e', b'a', b'c', b'h'): 1,\n",
       " (b' ', b'c', b'o', b'u', b'l', b'd', b'n'): 1,\n",
       " (b' ', b'c', b'h', b'a', b'i', b'r'): 1,\n",
       " (b' ', b's', b't', b'a', b'n', b'd'): 1,\n",
       " (b' ', b'r', b'e', b'f', b'u', b's', b'e', b'd'): 1,\n",
       " (b' ', b'w', b'a', b'y'): 1,\n",
       " (b' ', b'f', b'i', b'x', b'e', b'd'): 1,\n",
       " (b'E', b'm', b'i', b'l', b'y'): 1,\n",
       " (b' ', b'o', b'f', b'f', b'i', b'c', b'e'): 2,\n",
       " (b' ', b'p', b'a', b'i', b'n', b't'): 1,\n",
       " (b' ', b'p', b'a', b'i', b'n', b't', b'i', b'n', b'g'): 1,\n",
       " (b' ', b'i', b'n', b't', b'e', b'r', b'e', b's', b't', b'i', b'n', b'g'): 1}"
      ]
     },
     "execution_count": 310,
     "metadata": {},
     "output_type": "execute_result"
    }
   ],
   "source": [
    "text_corpus_count"
   ]
  },
  {
   "cell_type": "code",
   "execution_count": 231,
   "metadata": {},
   "outputs": [],
   "source": [
    "max_vocab = 350"
   ]
  },
  {
   "cell_type": "code",
   "execution_count": 367,
   "metadata": {},
   "outputs": [],
   "source": [
    "def bytes_pair_count(byte_seq: Tuple[bytes], count: int, max_pair: Tuple[bytes]=None) -> Tuple[Dict[Tuple[bytes], int], Tuple[bytes]]:\n",
    "    \"Count the occurance of each pair of bytes in the byte sequence\"\n",
    "    if max_pair:\n",
    "        byte_seq = list(byte_seq)\n",
    "        i=0\n",
    "        while(i<len(byte_seq)-1):\n",
    "            if max_pair[0]==byte_seq[i] and max_pair[1]==byte_seq[i+1]:\n",
    "                byte_seq[i] = byte_seq[i]+byte_seq[i+1]\n",
    "                byte_seq.pop(i+1)\n",
    "            i+=1\n",
    "        byte_seq = tuple(byte_seq)\n",
    "    pair_count = {}\n",
    "    for i in range(len(byte_seq)-1):\n",
    "        pair = (byte_seq[i], byte_seq[i+1])\n",
    "        if pair in pair_count:\n",
    "            pair_count[pair] += count\n",
    "        else:\n",
    "            pair_count[pair] = count\n",
    "    return pair_count, byte_seq"
   ]
  },
  {
   "cell_type": "code",
   "execution_count": 368,
   "metadata": {},
   "outputs": [],
   "source": [
    "def merge_dicts(dict1: Dict[bytes, int], dict2: Dict[bytes, int]) -> Dict[bytes, int]:\n",
    "    \"Merge two dicts by adding values of common dict\"\n",
    "    merged_dict = {i: dict1.get(i, 0) + dict2.get(i, 0) for i in set(dict1).union(dict2)}\n",
    "    return merged_dict"
   ]
  },
  {
   "cell_type": "code",
   "execution_count": 379,
   "metadata": {},
   "outputs": [],
   "source": [
    "def corpus_pair_count(text_corpus_count: Dict[Tuple[bytes], int], max_pair: Tuple[bytes]=None) -> Tuple[Dict[Tuple[bytes], int], Dict[Tuple[bytes], int]]:\n",
    "    \"Count the occurance of bytes pair in the text corpus\"\n",
    "    pair_counts = {}\n",
    "    changed_pairs = []\n",
    "    for i, byte_seq in tqdm(enumerate(text_corpus_count)):\n",
    "        pair_count, byte_seq_new = bytes_pair_count(byte_seq, text_corpus_count[byte_seq], max_pair)\n",
    "        if byte_seq_new != byte_seq:\n",
    "            changed_pairs.append([byte_seq, byte_seq_new])\n",
    "        pair_counts = merge_dicts(pair_counts, pair_count)\n",
    "    for changed_pair in changed_pairs:\n",
    "        text_corpus_count[changed_pair[1]] = text_corpus_count[changed_pair[0]]\n",
    "        del text_corpus_count[changed_pair[0]]\n",
    "    return pair_counts, text_corpus_count"
   ]
  },
  {
   "cell_type": "code",
   "execution_count": 380,
   "metadata": {},
   "outputs": [],
   "source": [
    "def get_max_count_pair(text_corpus_pair_count: Dict[Tuple[bytes], int]) -> bytes:\n",
    "    \"Return pair having maximum count, break ties by preferring the lexicographically greater pair.\"\n",
    "    max_pair_count = max(text_corpus_pair_count.values())\n",
    "    max_pairs = [keys for keys,values in text_corpus_pair_count.items() if values == max_pair_count]\n",
    "    return max(max_pairs)"
   ]
  },
  {
   "cell_type": "code",
   "execution_count": 381,
   "metadata": {},
   "outputs": [],
   "source": [
    "def get_vocab(text_corpus_file_path: str, max_vocab_size=350, special_tokens: List[str]=None):\n",
    "    text_corpus = read_corpus_data(text_corpus_file_path)\n",
    "    vocab = initialize_vocab(special_tokens)\n",
    "    i = len(vocab)\n",
    "    text_corpus_count = pretokenize_text_corpus(text_corpus, special_tokens)\n",
    "    max_pair = None\n",
    "    while(i<max_vocab_size):\n",
    "        print(i)\n",
    "        print('mp', max_pair)\n",
    "        text_corpus_pair_count, text_corpus_count = corpus_pair_count(text_corpus_count, max_pair)\n",
    "        max_pair = get_max_count_pair(text_corpus_pair_count)\n",
    "        print(max_pair)\n",
    "        vocab[max_pair[0]+max_pair[1]] = i\n",
    "        i+=1\n",
    "    return vocab"
   ]
  },
  {
   "cell_type": "code",
   "execution_count": 389,
   "metadata": {},
   "outputs": [],
   "source": [
    "special_tokens = ['<|endoftext|>']\n",
    "max_vocab_size = 350\n",
    "text_corpus_file_path = 'data/TinyStoriesV2-GPT4-valid.txt'\n"
   ]
  },
  {
   "cell_type": "code",
   "execution_count": 390,
   "metadata": {},
   "outputs": [
    {
     "name": "stdout",
     "output_type": "stream",
     "text": [
      "257\n",
      "mp None\n"
     ]
    },
    {
     "name": "stderr",
     "output_type": "stream",
     "text": [
      "13105it [00:03, 3651.34it/s]\n"
     ]
    },
    {
     "name": "stdout",
     "output_type": "stream",
     "text": [
      "(b' ', b't')\n",
      "258\n",
      "mp (b' ', b't')\n"
     ]
    },
    {
     "name": "stderr",
     "output_type": "stream",
     "text": [
      "13105it [00:03, 3361.07it/s]\n"
     ]
    },
    {
     "name": "stdout",
     "output_type": "stream",
     "text": [
      "(b'h', b'e')\n",
      "259\n",
      "mp (b'h', b'e')\n"
     ]
    },
    {
     "name": "stderr",
     "output_type": "stream",
     "text": [
      "13105it [00:04, 3234.87it/s]\n"
     ]
    },
    {
     "name": "stdout",
     "output_type": "stream",
     "text": [
      "(b' ', b'a')\n",
      "260\n",
      "mp (b' ', b'a')\n"
     ]
    },
    {
     "name": "stderr",
     "output_type": "stream",
     "text": [
      "13105it [00:03, 3489.47it/s]\n"
     ]
    },
    {
     "name": "stdout",
     "output_type": "stream",
     "text": [
      "(b' ', b's')\n",
      "261\n",
      "mp (b' ', b's')\n"
     ]
    },
    {
     "name": "stderr",
     "output_type": "stream",
     "text": [
      "13105it [00:03, 3455.17it/s]\n"
     ]
    },
    {
     "name": "stdout",
     "output_type": "stream",
     "text": [
      "(b' ', b'w')\n",
      "262\n",
      "mp (b' ', b'w')\n"
     ]
    },
    {
     "name": "stderr",
     "output_type": "stream",
     "text": [
      "13105it [00:04, 3163.82it/s]\n"
     ]
    },
    {
     "name": "stdout",
     "output_type": "stream",
     "text": [
      "(b' t', b'he')\n",
      "263\n",
      "mp (b' t', b'he')\n"
     ]
    },
    {
     "name": "stderr",
     "output_type": "stream",
     "text": [
      "13105it [00:03, 3299.20it/s]\n"
     ]
    },
    {
     "name": "stdout",
     "output_type": "stream",
     "text": [
      "(b'n', b'd')\n",
      "264\n",
      "mp (b'n', b'd')\n"
     ]
    },
    {
     "name": "stderr",
     "output_type": "stream",
     "text": [
      "13105it [00:03, 3475.91it/s]\n"
     ]
    },
    {
     "name": "stdout",
     "output_type": "stream",
     "text": [
      "(b'e', b'd')\n",
      "265\n",
      "mp (b'e', b'd')\n"
     ]
    },
    {
     "name": "stderr",
     "output_type": "stream",
     "text": [
      "13105it [00:04, 3241.95it/s]\n"
     ]
    },
    {
     "name": "stdout",
     "output_type": "stream",
     "text": [
      "(b' ', b'b')\n",
      "266\n",
      "mp (b' ', b'b')\n"
     ]
    },
    {
     "name": "stderr",
     "output_type": "stream",
     "text": [
      "13105it [00:04, 3053.97it/s]\n"
     ]
    },
    {
     "name": "stdout",
     "output_type": "stream",
     "text": [
      "(b' t', b'o')\n",
      "267\n",
      "mp (b' t', b'o')\n"
     ]
    },
    {
     "name": "stderr",
     "output_type": "stream",
     "text": [
      "13105it [00:04, 3015.36it/s]\n"
     ]
    },
    {
     "name": "stdout",
     "output_type": "stream",
     "text": [
      "(b' a', b'nd')\n",
      "268\n",
      "mp (b' a', b'nd')\n"
     ]
    },
    {
     "name": "stderr",
     "output_type": "stream",
     "text": [
      "13105it [00:04, 2986.29it/s]\n"
     ]
    },
    {
     "name": "stdout",
     "output_type": "stream",
     "text": [
      "(b' ', b'h')\n",
      "269\n",
      "mp (b' ', b'h')\n"
     ]
    },
    {
     "name": "stderr",
     "output_type": "stream",
     "text": [
      "13105it [00:04, 2784.00it/s]\n"
     ]
    },
    {
     "name": "stdout",
     "output_type": "stream",
     "text": [
      "(b' ', b'f')\n",
      "270\n",
      "mp (b' ', b'f')\n"
     ]
    },
    {
     "name": "stderr",
     "output_type": "stream",
     "text": [
      "13105it [00:04, 2971.38it/s]\n"
     ]
    },
    {
     "name": "stdout",
     "output_type": "stream",
     "text": [
      "(b' ', b'T')\n",
      "271\n",
      "mp (b' ', b'T')\n"
     ]
    },
    {
     "name": "stderr",
     "output_type": "stream",
     "text": [
      "13105it [00:04, 2831.48it/s]\n"
     ]
    },
    {
     "name": "stdout",
     "output_type": "stream",
     "text": [
      "(b'i', b'n')\n",
      "272\n",
      "mp (b'i', b'n')\n"
     ]
    },
    {
     "name": "stderr",
     "output_type": "stream",
     "text": [
      "13105it [00:04, 2714.93it/s]\n"
     ]
    },
    {
     "name": "stdout",
     "output_type": "stream",
     "text": [
      "(b' w', b'a')\n",
      "273\n",
      "mp (b' w', b'a')\n"
     ]
    },
    {
     "name": "stderr",
     "output_type": "stream",
     "text": [
      "13105it [00:04, 2955.55it/s]\n"
     ]
    },
    {
     "name": "stdout",
     "output_type": "stream",
     "text": [
      "(b'r', b'e')\n",
      "274\n",
      "mp (b'r', b'e')\n"
     ]
    },
    {
     "name": "stderr",
     "output_type": "stream",
     "text": [
      "13105it [00:04, 2933.90it/s]\n"
     ]
    },
    {
     "name": "stdout",
     "output_type": "stream",
     "text": [
      "(b'i', b't')\n",
      "275\n",
      "mp (b'i', b't')\n"
     ]
    },
    {
     "name": "stderr",
     "output_type": "stream",
     "text": [
      "13105it [00:04, 2916.10it/s]\n"
     ]
    },
    {
     "name": "stdout",
     "output_type": "stream",
     "text": [
      "(b'o', b'u')\n",
      "276\n",
      "mp (b'o', b'u')\n"
     ]
    },
    {
     "name": "stderr",
     "output_type": "stream",
     "text": [
      "13105it [00:04, 2779.61it/s]\n"
     ]
    },
    {
     "name": "stdout",
     "output_type": "stream",
     "text": [
      "(b' ', b'l')\n",
      "277\n",
      "mp (b' ', b'l')\n"
     ]
    },
    {
     "name": "stderr",
     "output_type": "stream",
     "text": [
      "13105it [00:04, 2968.62it/s]\n"
     ]
    },
    {
     "name": "stdout",
     "output_type": "stream",
     "text": [
      "(b' ', b'd')\n",
      "278\n",
      "mp (b' ', b'd')\n"
     ]
    },
    {
     "name": "stderr",
     "output_type": "stream",
     "text": [
      "13105it [00:04, 2813.46it/s]\n"
     ]
    },
    {
     "name": "stdout",
     "output_type": "stream",
     "text": [
      "(b' ', b'c')\n",
      "279\n",
      "mp (b' ', b'c')\n"
     ]
    },
    {
     "name": "stderr",
     "output_type": "stream",
     "text": [
      "13105it [00:04, 2859.36it/s]\n"
     ]
    },
    {
     "name": "stdout",
     "output_type": "stream",
     "text": [
      "(b' ', b'p')\n",
      "280\n",
      "mp (b' ', b'p')\n"
     ]
    },
    {
     "name": "stderr",
     "output_type": "stream",
     "text": [
      "13105it [00:05, 2197.79it/s]\n"
     ]
    },
    {
     "name": "stdout",
     "output_type": "stream",
     "text": [
      "(b'a', b'y')\n",
      "281\n",
      "mp (b'a', b'y')\n"
     ]
    },
    {
     "name": "stderr",
     "output_type": "stream",
     "text": [
      "13105it [00:04, 2789.48it/s]\n"
     ]
    },
    {
     "name": "stdout",
     "output_type": "stream",
     "text": [
      "(b' ', b'm')\n",
      "282\n",
      "mp (b' ', b'm')\n"
     ]
    },
    {
     "name": "stderr",
     "output_type": "stream",
     "text": [
      "13105it [00:04, 2891.05it/s]\n"
     ]
    },
    {
     "name": "stdout",
     "output_type": "stream",
     "text": [
      "(b'e', b'r')\n",
      "283\n",
      "mp (b'e', b'r')\n"
     ]
    },
    {
     "name": "stderr",
     "output_type": "stream",
     "text": [
      "13105it [00:04, 2650.51it/s]\n"
     ]
    },
    {
     "name": "stdout",
     "output_type": "stream",
     "text": [
      "(b' wa', b's')\n",
      "284\n",
      "mp (b' wa', b's')\n"
     ]
    },
    {
     "name": "stderr",
     "output_type": "stream",
     "text": [
      "13105it [00:04, 2861.38it/s]\n"
     ]
    },
    {
     "name": "stdout",
     "output_type": "stream",
     "text": [
      "(b' T', b'he')\n",
      "285\n",
      "mp (b' T', b'he')\n"
     ]
    },
    {
     "name": "stderr",
     "output_type": "stream",
     "text": [
      "13105it [00:05, 2501.50it/s]\n"
     ]
    },
    {
     "name": "stdout",
     "output_type": "stream",
     "text": [
      "(b'o', b'm')\n",
      "286\n",
      "mp (b'o', b'm')\n"
     ]
    },
    {
     "name": "stderr",
     "output_type": "stream",
     "text": [
      "13105it [00:05, 2483.89it/s]\n"
     ]
    },
    {
     "name": "stdout",
     "output_type": "stream",
     "text": [
      "(b' ', b'he')\n",
      "287\n",
      "mp (b' ', b'he')\n"
     ]
    },
    {
     "name": "stderr",
     "output_type": "stream",
     "text": [
      "13105it [00:05, 2518.61it/s]\n"
     ]
    },
    {
     "name": "stdout",
     "output_type": "stream",
     "text": [
      "(b'i', b's')\n",
      "288\n",
      "mp (b'i', b's')\n"
     ]
    },
    {
     "name": "stderr",
     "output_type": "stream",
     "text": [
      "13105it [00:05, 2614.73it/s]\n"
     ]
    },
    {
     "name": "stdout",
     "output_type": "stream",
     "text": [
      "(b' ', b'n')\n",
      "289\n",
      "mp (b' ', b'n')\n"
     ]
    },
    {
     "name": "stderr",
     "output_type": "stream",
     "text": [
      "13105it [00:04, 2766.82it/s]\n"
     ]
    },
    {
     "name": "stdout",
     "output_type": "stream",
     "text": [
      "(b'i', b'm')\n",
      "290\n",
      "mp (b'i', b'm')\n"
     ]
    },
    {
     "name": "stderr",
     "output_type": "stream",
     "text": [
      "13105it [00:05, 2507.79it/s]\n"
     ]
    },
    {
     "name": "stdout",
     "output_type": "stream",
     "text": [
      "(b'a', b'r')\n",
      "291\n",
      "mp (b'a', b'r')\n"
     ]
    },
    {
     "name": "stderr",
     "output_type": "stream",
     "text": [
      "13105it [00:04, 2630.93it/s]\n"
     ]
    },
    {
     "name": "stdout",
     "output_type": "stream",
     "text": [
      "(b'o', b'n')\n",
      "292\n",
      "mp (b'o', b'n')\n"
     ]
    },
    {
     "name": "stderr",
     "output_type": "stream",
     "text": [
      "13105it [00:05, 2480.42it/s]\n"
     ]
    },
    {
     "name": "stdout",
     "output_type": "stream",
     "text": [
      "(b' s', b'a')\n",
      "293\n",
      "mp (b' s', b'a')\n"
     ]
    },
    {
     "name": "stderr",
     "output_type": "stream",
     "text": [
      "13105it [00:04, 2730.10it/s]\n"
     ]
    },
    {
     "name": "stdout",
     "output_type": "stream",
     "text": [
      "(b'l', b'l')\n",
      "294\n",
      "mp (b'l', b'l')\n"
     ]
    },
    {
     "name": "stderr",
     "output_type": "stream",
     "text": [
      "13105it [00:04, 2641.13it/s]\n"
     ]
    },
    {
     "name": "stdout",
     "output_type": "stream",
     "text": [
      "(b'i', b'd')\n",
      "295\n",
      "mp (b'i', b'd')\n"
     ]
    },
    {
     "name": "stderr",
     "output_type": "stream",
     "text": [
      "13105it [00:05, 2549.04it/s]\n"
     ]
    },
    {
     "name": "stdout",
     "output_type": "stream",
     "text": [
      "(b' h', b'a')\n",
      "296\n",
      "mp (b' h', b'a')\n"
     ]
    },
    {
     "name": "stderr",
     "output_type": "stream",
     "text": [
      "13105it [00:04, 2640.64it/s]\n"
     ]
    },
    {
     "name": "stdout",
     "output_type": "stream",
     "text": [
      "(b' ', b'g')\n",
      "297\n",
      "mp (b' ', b'g')\n"
     ]
    },
    {
     "name": "stderr",
     "output_type": "stream",
     "text": [
      "13105it [00:05, 2547.50it/s]\n"
     ]
    },
    {
     "name": "stdout",
     "output_type": "stream",
     "text": [
      "(b'a', b't')\n",
      "298\n",
      "mp (b'a', b't')\n"
     ]
    },
    {
     "name": "stderr",
     "output_type": "stream",
     "text": [
      "13105it [00:05, 2462.13it/s]\n"
     ]
    },
    {
     "name": "stdout",
     "output_type": "stream",
     "text": [
      "(b' ', b'S')\n",
      "299\n",
      "mp (b' ', b'S')\n"
     ]
    },
    {
     "name": "stderr",
     "output_type": "stream",
     "text": [
      "13105it [00:05, 2460.84it/s]\n"
     ]
    },
    {
     "name": "stdout",
     "output_type": "stream",
     "text": [
      "(b'in', b'g')\n",
      "300\n",
      "mp (b'in', b'g')\n"
     ]
    },
    {
     "name": "stderr",
     "output_type": "stream",
     "text": [
      "13105it [00:05, 2433.78it/s]\n"
     ]
    },
    {
     "name": "stdout",
     "output_type": "stream",
     "text": [
      "(b'o', b't')\n",
      "301\n",
      "mp (b'o', b't')\n"
     ]
    },
    {
     "name": "stderr",
     "output_type": "stream",
     "text": [
      "13105it [00:05, 2227.09it/s]\n"
     ]
    },
    {
     "name": "stdout",
     "output_type": "stream",
     "text": [
      "(b'e', b'n')\n",
      "302\n",
      "mp (b'e', b'n')\n"
     ]
    },
    {
     "name": "stderr",
     "output_type": "stream",
     "text": [
      "13105it [00:06, 2055.64it/s]\n"
     ]
    },
    {
     "name": "stdout",
     "output_type": "stream",
     "text": [
      "(b'a', b'n')\n",
      "303\n",
      "mp (b'a', b'n')\n"
     ]
    },
    {
     "name": "stderr",
     "output_type": "stream",
     "text": [
      "13105it [00:06, 2144.67it/s]\n"
     ]
    },
    {
     "name": "stdout",
     "output_type": "stream",
     "text": [
      "(b'l', b'e')\n",
      "304\n",
      "mp (b'l', b'e')\n"
     ]
    },
    {
     "name": "stderr",
     "output_type": "stream",
     "text": [
      "13105it [00:06, 1958.23it/s]\n"
     ]
    },
    {
     "name": "stdout",
     "output_type": "stream",
     "text": [
      "(b'o', b'r')\n",
      "305\n",
      "mp (b'o', b'r')\n"
     ]
    },
    {
     "name": "stderr",
     "output_type": "stream",
     "text": [
      "13105it [00:06, 1997.21it/s]\n"
     ]
    },
    {
     "name": "stdout",
     "output_type": "stream",
     "text": [
      "(b'i', b'r')\n",
      "306\n",
      "mp (b'i', b'r')\n"
     ]
    },
    {
     "name": "stderr",
     "output_type": "stream",
     "text": [
      "13105it [00:07, 1757.55it/s]\n"
     ]
    },
    {
     "name": "stdout",
     "output_type": "stream",
     "text": [
      "(b'a', b'm')\n",
      "307\n",
      "mp (b'a', b'm')\n"
     ]
    },
    {
     "name": "stderr",
     "output_type": "stream",
     "text": [
      "13105it [00:06, 1915.48it/s]\n"
     ]
    },
    {
     "name": "stdout",
     "output_type": "stream",
     "text": [
      "(b'e', b't')\n",
      "308\n",
      "mp (b'e', b't')\n"
     ]
    },
    {
     "name": "stderr",
     "output_type": "stream",
     "text": [
      "13105it [00:06, 1882.81it/s]\n"
     ]
    },
    {
     "name": "stdout",
     "output_type": "stream",
     "text": [
      "(b' ', b'H')\n",
      "309\n",
      "mp (b' ', b'H')\n"
     ]
    },
    {
     "name": "stderr",
     "output_type": "stream",
     "text": [
      "13105it [00:06, 1925.78it/s]\n"
     ]
    },
    {
     "name": "stdout",
     "output_type": "stream",
     "text": [
      "(b' ', b'it')\n",
      "310\n",
      "mp (b' ', b'it')\n"
     ]
    },
    {
     "name": "stderr",
     "output_type": "stream",
     "text": [
      "13105it [00:06, 1941.11it/s]\n"
     ]
    },
    {
     "name": "stdout",
     "output_type": "stream",
     "text": [
      "(b' t', b'h')\n",
      "311\n",
      "mp (b' t', b'h')\n"
     ]
    },
    {
     "name": "stderr",
     "output_type": "stream",
     "text": [
      "13105it [00:07, 1867.46it/s]\n"
     ]
    },
    {
     "name": "stdout",
     "output_type": "stream",
     "text": [
      "(b'i', b'g')\n",
      "312\n",
      "mp (b'i', b'g')\n"
     ]
    },
    {
     "name": "stderr",
     "output_type": "stream",
     "text": [
      "13105it [00:07, 1834.00it/s]\n"
     ]
    },
    {
     "name": "stdout",
     "output_type": "stream",
     "text": [
      "(b' The', b'y')\n",
      "313\n",
      "mp (b' The', b'y')\n"
     ]
    },
    {
     "name": "stderr",
     "output_type": "stream",
     "text": [
      "13105it [00:07, 1857.23it/s]\n"
     ]
    },
    {
     "name": "stdout",
     "output_type": "stream",
     "text": [
      "(b' p', b'l')\n",
      "314\n",
      "mp (b' p', b'l')\n"
     ]
    },
    {
     "name": "stderr",
     "output_type": "stream",
     "text": [
      "13105it [00:07, 1843.42it/s]\n"
     ]
    },
    {
     "name": "stdout",
     "output_type": "stream",
     "text": [
      "(b' ', b'in')\n",
      "315\n",
      "mp (b' ', b'in')\n"
     ]
    },
    {
     "name": "stderr",
     "output_type": "stream",
     "text": [
      "13105it [00:06, 1892.15it/s]\n"
     ]
    },
    {
     "name": "stdout",
     "output_type": "stream",
     "text": [
      "(b'i', b'l')\n",
      "316\n",
      "mp (b'i', b'l')\n"
     ]
    },
    {
     "name": "stderr",
     "output_type": "stream",
     "text": [
      "13105it [00:07, 1739.99it/s]\n"
     ]
    },
    {
     "name": "stdout",
     "output_type": "stream",
     "text": [
      "(b' H', b'e')\n",
      "317\n",
      "mp (b' H', b'e')\n"
     ]
    },
    {
     "name": "stderr",
     "output_type": "stream",
     "text": [
      "13105it [00:07, 1821.91it/s]\n"
     ]
    },
    {
     "name": "stdout",
     "output_type": "stream",
     "text": [
      "(b' ', b'\"')\n",
      "318\n",
      "mp (b' ', b'\"')\n"
     ]
    },
    {
     "name": "stderr",
     "output_type": "stream",
     "text": [
      "13105it [00:07, 1838.74it/s]\n"
     ]
    },
    {
     "name": "stdout",
     "output_type": "stream",
     "text": [
      "(b'o', b'w')\n",
      "319\n",
      "mp (b'o', b'w')\n"
     ]
    },
    {
     "name": "stderr",
     "output_type": "stream",
     "text": [
      "13105it [00:07, 1759.60it/s]\n"
     ]
    },
    {
     "name": "stdout",
     "output_type": "stream",
     "text": [
      "(b'v', b'er')\n",
      "320\n",
      "mp (b'v', b'er')\n"
     ]
    },
    {
     "name": "stderr",
     "output_type": "stream",
     "text": [
      "13105it [00:07, 1713.18it/s]\n"
     ]
    },
    {
     "name": "stdout",
     "output_type": "stream",
     "text": [
      "(b'r', b'i')\n",
      "321\n",
      "mp (b'r', b'i')\n"
     ]
    },
    {
     "name": "stderr",
     "output_type": "stream",
     "text": [
      "13105it [00:07, 1696.98it/s]\n"
     ]
    },
    {
     "name": "stdout",
     "output_type": "stream",
     "text": [
      "(b' ', b'u')\n",
      "322\n",
      "mp (b' ', b'u')\n"
     ]
    },
    {
     "name": "stderr",
     "output_type": "stream",
     "text": [
      "13105it [00:07, 1646.04it/s]\n"
     ]
    },
    {
     "name": "stdout",
     "output_type": "stream",
     "text": [
      "(b'u', b't')\n",
      "323\n",
      "mp (b'u', b't')\n"
     ]
    },
    {
     "name": "stderr",
     "output_type": "stream",
     "text": [
      "13105it [00:07, 1698.97it/s]\n"
     ]
    },
    {
     "name": "stdout",
     "output_type": "stream",
     "text": [
      "(b' pl', b'ay')\n",
      "324\n",
      "mp (b' pl', b'ay')\n"
     ]
    },
    {
     "name": "stderr",
     "output_type": "stream",
     "text": [
      "13105it [00:07, 1714.91it/s]\n"
     ]
    },
    {
     "name": "stdout",
     "output_type": "stream",
     "text": [
      "(b'it', b'h')\n",
      "325\n",
      "mp (b'it', b'h')\n"
     ]
    },
    {
     "name": "stderr",
     "output_type": "stream",
     "text": [
      "13105it [00:07, 1720.32it/s]\n"
     ]
    },
    {
     "name": "stdout",
     "output_type": "stream",
     "text": [
      "(b' sa', b'id')\n",
      "326\n",
      "mp (b' sa', b'id')\n"
     ]
    },
    {
     "name": "stderr",
     "output_type": "stream",
     "text": [
      "13105it [00:07, 1709.94it/s]\n"
     ]
    },
    {
     "name": "stdout",
     "output_type": "stream",
     "text": [
      "(b' b', b'e')\n",
      "327\n",
      "mp (b' b', b'e')\n"
     ]
    },
    {
     "name": "stderr",
     "output_type": "stream",
     "text": [
      "13105it [00:07, 1718.04it/s]\n"
     ]
    },
    {
     "name": "stdout",
     "output_type": "stream",
     "text": [
      "(b' d', b'ay')\n",
      "328\n",
      "mp (b' d', b'ay')\n"
     ]
    },
    {
     "name": "stderr",
     "output_type": "stream",
     "text": [
      "13105it [00:07, 1688.26it/s]\n"
     ]
    },
    {
     "name": "stdout",
     "output_type": "stream",
     "text": [
      "(b' w', b'ith')\n",
      "329\n",
      "mp (b' w', b'ith')\n"
     ]
    },
    {
     "name": "stderr",
     "output_type": "stream",
     "text": [
      "13105it [00:07, 1686.48it/s]\n"
     ]
    },
    {
     "name": "stdout",
     "output_type": "stream",
     "text": [
      "(b'p', b'p')\n",
      "330\n",
      "mp (b'p', b'p')\n"
     ]
    },
    {
     "name": "stderr",
     "output_type": "stream",
     "text": [
      "13105it [00:07, 1713.61it/s]\n"
     ]
    },
    {
     "name": "stdout",
     "output_type": "stream",
     "text": [
      "(b'O', b'n')\n",
      "331\n",
      "mp (b'O', b'n')\n"
     ]
    },
    {
     "name": "stderr",
     "output_type": "stream",
     "text": [
      "13105it [00:07, 1735.44it/s]\n"
     ]
    },
    {
     "name": "stdout",
     "output_type": "stream",
     "text": [
      "(b' ', b'o')\n",
      "332\n",
      "mp (b' ', b'o')\n"
     ]
    },
    {
     "name": "stderr",
     "output_type": "stream",
     "text": [
      "13105it [00:07, 1706.65it/s]\n"
     ]
    },
    {
     "name": "stdout",
     "output_type": "stream",
     "text": [
      "(b' ', b'y')\n",
      "333\n",
      "mp (b' ', b'y')\n"
     ]
    },
    {
     "name": "stderr",
     "output_type": "stream",
     "text": [
      "13105it [00:07, 1689.20it/s]\n"
     ]
    },
    {
     "name": "stdout",
     "output_type": "stream",
     "text": [
      "(b'o', b'o')\n",
      "334\n",
      "mp (b'o', b'o')\n"
     ]
    },
    {
     "name": "stderr",
     "output_type": "stream",
     "text": [
      "13105it [00:07, 1659.35it/s]\n"
     ]
    },
    {
     "name": "stdout",
     "output_type": "stream",
     "text": [
      "(b'k', b'ed')\n",
      "335\n",
      "mp (b'k', b'ed')\n"
     ]
    },
    {
     "name": "stderr",
     "output_type": "stream",
     "text": [
      "13105it [00:07, 1676.92it/s]\n"
     ]
    },
    {
     "name": "stdout",
     "output_type": "stream",
     "text": [
      "(b' ', b'r')\n",
      "336\n",
      "mp (b' ', b'r')\n"
     ]
    },
    {
     "name": "stderr",
     "output_type": "stream",
     "text": [
      "13105it [00:07, 1658.43it/s]\n"
     ]
    },
    {
     "name": "stdout",
     "output_type": "stream",
     "text": [
      "(b' he', b'r')\n",
      "337\n",
      "mp (b' he', b'r')\n"
     ]
    },
    {
     "name": "stderr",
     "output_type": "stream",
     "text": [
      "13105it [00:07, 1647.84it/s]\n"
     ]
    },
    {
     "name": "stdout",
     "output_type": "stream",
     "text": [
      "(b'c', b'e')\n",
      "338\n",
      "mp (b'c', b'e')\n"
     ]
    },
    {
     "name": "stderr",
     "output_type": "stream",
     "text": [
      "13105it [00:08, 1608.74it/s]\n"
     ]
    },
    {
     "name": "stdout",
     "output_type": "stream",
     "text": [
      "(b'l', b'd')\n",
      "339\n",
      "mp (b'l', b'd')\n"
     ]
    },
    {
     "name": "stderr",
     "output_type": "stream",
     "text": [
      "13105it [00:08, 1600.24it/s]\n"
     ]
    },
    {
     "name": "stdout",
     "output_type": "stream",
     "text": [
      "(b' h', b'is')\n",
      "340\n",
      "mp (b' h', b'is')\n"
     ]
    },
    {
     "name": "stderr",
     "output_type": "stream",
     "text": [
      "13105it [00:08, 1602.69it/s]\n"
     ]
    },
    {
     "name": "stdout",
     "output_type": "stream",
     "text": [
      "(b' T', b'im')\n",
      "341\n",
      "mp (b' T', b'im')\n"
     ]
    },
    {
     "name": "stderr",
     "output_type": "stream",
     "text": [
      "13105it [00:08, 1508.77it/s]\n"
     ]
    },
    {
     "name": "stdout",
     "output_type": "stream",
     "text": [
      "(b' ', b'I')\n",
      "342\n",
      "mp (b' ', b'I')\n"
     ]
    },
    {
     "name": "stderr",
     "output_type": "stream",
     "text": [
      "13105it [00:08, 1569.57it/s]\n"
     ]
    },
    {
     "name": "stdout",
     "output_type": "stream",
     "text": [
      "(b' S', b'he')\n",
      "343\n",
      "mp (b' S', b'he')\n"
     ]
    },
    {
     "name": "stderr",
     "output_type": "stream",
     "text": [
      "13105it [00:08, 1586.75it/s]\n"
     ]
    },
    {
     "name": "stdout",
     "output_type": "stream",
     "text": [
      "(b' s', b't')\n",
      "344\n",
      "mp (b' s', b't')\n"
     ]
    },
    {
     "name": "stderr",
     "output_type": "stream",
     "text": [
      "13105it [00:08, 1618.19it/s]\n"
     ]
    },
    {
     "name": "stdout",
     "output_type": "stream",
     "text": [
      "(b'k', b'e')\n",
      "345\n",
      "mp (b'k', b'e')\n"
     ]
    },
    {
     "name": "stderr",
     "output_type": "stream",
     "text": [
      "13105it [00:08, 1579.21it/s]\n"
     ]
    },
    {
     "name": "stdout",
     "output_type": "stream",
     "text": [
      "(b' ', b'e')\n",
      "346\n",
      "mp (b' ', b'e')\n"
     ]
    },
    {
     "name": "stderr",
     "output_type": "stream",
     "text": [
      "13105it [00:08, 1570.05it/s]\n"
     ]
    },
    {
     "name": "stdout",
     "output_type": "stream",
     "text": [
      "(b' b', b'ig')\n",
      "347\n",
      "mp (b' b', b'ig')\n"
     ]
    },
    {
     "name": "stderr",
     "output_type": "stream",
     "text": [
      "13105it [00:08, 1552.87it/s]\n"
     ]
    },
    {
     "name": "stdout",
     "output_type": "stream",
     "text": [
      "(b'n', b't')\n",
      "348\n",
      "mp (b'n', b't')\n"
     ]
    },
    {
     "name": "stderr",
     "output_type": "stream",
     "text": [
      "13105it [00:08, 1526.61it/s]\n"
     ]
    },
    {
     "name": "stdout",
     "output_type": "stream",
     "text": [
      "(b'c', b'k')\n",
      "349\n",
      "mp (b'c', b'k')\n"
     ]
    },
    {
     "name": "stderr",
     "output_type": "stream",
     "text": [
      "13105it [00:08, 1494.95it/s]"
     ]
    },
    {
     "name": "stdout",
     "output_type": "stream",
     "text": [
      "(b'ver', b'y')\n"
     ]
    },
    {
     "name": "stderr",
     "output_type": "stream",
     "text": [
      "\n"
     ]
    }
   ],
   "source": [
    "vocab = get_vocab(text_corpus_file_path, max_vocab_size, special_tokens)"
   ]
  },
  {
   "cell_type": "code",
   "execution_count": 391,
   "metadata": {},
   "outputs": [
    {
     "data": {
      "text/plain": [
       "350"
      ]
     },
     "execution_count": 391,
     "metadata": {},
     "output_type": "execute_result"
    }
   ],
   "source": [
    "len(vocab)"
   ]
  },
  {
   "cell_type": "code",
   "execution_count": 392,
   "metadata": {},
   "outputs": [
    {
     "data": {
      "text/plain": [
       "{b'\\x00': 0,\n",
       " b'\\x01': 1,\n",
       " b'\\x02': 2,\n",
       " b'\\x03': 3,\n",
       " b'\\x04': 4,\n",
       " b'\\x05': 5,\n",
       " b'\\x06': 6,\n",
       " b'\\x07': 7,\n",
       " b'\\x08': 8,\n",
       " b'\\t': 9,\n",
       " b'\\n': 10,\n",
       " b'\\x0b': 11,\n",
       " b'\\x0c': 12,\n",
       " b'\\r': 13,\n",
       " b'\\x0e': 14,\n",
       " b'\\x0f': 15,\n",
       " b'\\x10': 16,\n",
       " b'\\x11': 17,\n",
       " b'\\x12': 18,\n",
       " b'\\x13': 19,\n",
       " b'\\x14': 20,\n",
       " b'\\x15': 21,\n",
       " b'\\x16': 22,\n",
       " b'\\x17': 23,\n",
       " b'\\x18': 24,\n",
       " b'\\x19': 25,\n",
       " b'\\x1a': 26,\n",
       " b'\\x1b': 27,\n",
       " b'\\x1c': 28,\n",
       " b'\\x1d': 29,\n",
       " b'\\x1e': 30,\n",
       " b'\\x1f': 31,\n",
       " b' ': 32,\n",
       " b'!': 33,\n",
       " b'\"': 34,\n",
       " b'#': 35,\n",
       " b'$': 36,\n",
       " b'%': 37,\n",
       " b'&': 38,\n",
       " b\"'\": 39,\n",
       " b'(': 40,\n",
       " b')': 41,\n",
       " b'*': 42,\n",
       " b'+': 43,\n",
       " b',': 44,\n",
       " b'-': 45,\n",
       " b'.': 46,\n",
       " b'/': 47,\n",
       " b'0': 48,\n",
       " b'1': 49,\n",
       " b'2': 50,\n",
       " b'3': 51,\n",
       " b'4': 52,\n",
       " b'5': 53,\n",
       " b'6': 54,\n",
       " b'7': 55,\n",
       " b'8': 56,\n",
       " b'9': 57,\n",
       " b':': 58,\n",
       " b';': 59,\n",
       " b'<': 60,\n",
       " b'=': 61,\n",
       " b'>': 62,\n",
       " b'?': 63,\n",
       " b'@': 64,\n",
       " b'A': 65,\n",
       " b'B': 66,\n",
       " b'C': 67,\n",
       " b'D': 68,\n",
       " b'E': 69,\n",
       " b'F': 70,\n",
       " b'G': 71,\n",
       " b'H': 72,\n",
       " b'I': 73,\n",
       " b'J': 74,\n",
       " b'K': 75,\n",
       " b'L': 76,\n",
       " b'M': 77,\n",
       " b'N': 78,\n",
       " b'O': 79,\n",
       " b'P': 80,\n",
       " b'Q': 81,\n",
       " b'R': 82,\n",
       " b'S': 83,\n",
       " b'T': 84,\n",
       " b'U': 85,\n",
       " b'V': 86,\n",
       " b'W': 87,\n",
       " b'X': 88,\n",
       " b'Y': 89,\n",
       " b'Z': 90,\n",
       " b'[': 91,\n",
       " b'\\\\': 92,\n",
       " b']': 93,\n",
       " b'^': 94,\n",
       " b'_': 95,\n",
       " b'`': 96,\n",
       " b'a': 97,\n",
       " b'b': 98,\n",
       " b'c': 99,\n",
       " b'd': 100,\n",
       " b'e': 101,\n",
       " b'f': 102,\n",
       " b'g': 103,\n",
       " b'h': 104,\n",
       " b'i': 105,\n",
       " b'j': 106,\n",
       " b'k': 107,\n",
       " b'l': 108,\n",
       " b'm': 109,\n",
       " b'n': 110,\n",
       " b'o': 111,\n",
       " b'p': 112,\n",
       " b'q': 113,\n",
       " b'r': 114,\n",
       " b's': 115,\n",
       " b't': 116,\n",
       " b'u': 117,\n",
       " b'v': 118,\n",
       " b'w': 119,\n",
       " b'x': 120,\n",
       " b'y': 121,\n",
       " b'z': 122,\n",
       " b'{': 123,\n",
       " b'|': 124,\n",
       " b'}': 125,\n",
       " b'~': 126,\n",
       " b'\\x7f': 127,\n",
       " b'\\xc2\\x80': 128,\n",
       " b'\\xc2\\x81': 129,\n",
       " b'\\xc2\\x82': 130,\n",
       " b'\\xc2\\x83': 131,\n",
       " b'\\xc2\\x84': 132,\n",
       " b'\\xc2\\x85': 133,\n",
       " b'\\xc2\\x86': 134,\n",
       " b'\\xc2\\x87': 135,\n",
       " b'\\xc2\\x88': 136,\n",
       " b'\\xc2\\x89': 137,\n",
       " b'\\xc2\\x8a': 138,\n",
       " b'\\xc2\\x8b': 139,\n",
       " b'\\xc2\\x8c': 140,\n",
       " b'\\xc2\\x8d': 141,\n",
       " b'\\xc2\\x8e': 142,\n",
       " b'\\xc2\\x8f': 143,\n",
       " b'\\xc2\\x90': 144,\n",
       " b'\\xc2\\x91': 145,\n",
       " b'\\xc2\\x92': 146,\n",
       " b'\\xc2\\x93': 147,\n",
       " b'\\xc2\\x94': 148,\n",
       " b'\\xc2\\x95': 149,\n",
       " b'\\xc2\\x96': 150,\n",
       " b'\\xc2\\x97': 151,\n",
       " b'\\xc2\\x98': 152,\n",
       " b'\\xc2\\x99': 153,\n",
       " b'\\xc2\\x9a': 154,\n",
       " b'\\xc2\\x9b': 155,\n",
       " b'\\xc2\\x9c': 156,\n",
       " b'\\xc2\\x9d': 157,\n",
       " b'\\xc2\\x9e': 158,\n",
       " b'\\xc2\\x9f': 159,\n",
       " b'\\xc2\\xa0': 160,\n",
       " b'\\xc2\\xa1': 161,\n",
       " b'\\xc2\\xa2': 162,\n",
       " b'\\xc2\\xa3': 163,\n",
       " b'\\xc2\\xa4': 164,\n",
       " b'\\xc2\\xa5': 165,\n",
       " b'\\xc2\\xa6': 166,\n",
       " b'\\xc2\\xa7': 167,\n",
       " b'\\xc2\\xa8': 168,\n",
       " b'\\xc2\\xa9': 169,\n",
       " b'\\xc2\\xaa': 170,\n",
       " b'\\xc2\\xab': 171,\n",
       " b'\\xc2\\xac': 172,\n",
       " b'\\xc2\\xad': 173,\n",
       " b'\\xc2\\xae': 174,\n",
       " b'\\xc2\\xaf': 175,\n",
       " b'\\xc2\\xb0': 176,\n",
       " b'\\xc2\\xb1': 177,\n",
       " b'\\xc2\\xb2': 178,\n",
       " b'\\xc2\\xb3': 179,\n",
       " b'\\xc2\\xb4': 180,\n",
       " b'\\xc2\\xb5': 181,\n",
       " b'\\xc2\\xb6': 182,\n",
       " b'\\xc2\\xb7': 183,\n",
       " b'\\xc2\\xb8': 184,\n",
       " b'\\xc2\\xb9': 185,\n",
       " b'\\xc2\\xba': 186,\n",
       " b'\\xc2\\xbb': 187,\n",
       " b'\\xc2\\xbc': 188,\n",
       " b'\\xc2\\xbd': 189,\n",
       " b'\\xc2\\xbe': 190,\n",
       " b'\\xc2\\xbf': 191,\n",
       " b'\\xc3\\x80': 192,\n",
       " b'\\xc3\\x81': 193,\n",
       " b'\\xc3\\x82': 194,\n",
       " b'\\xc3\\x83': 195,\n",
       " b'\\xc3\\x84': 196,\n",
       " b'\\xc3\\x85': 197,\n",
       " b'\\xc3\\x86': 198,\n",
       " b'\\xc3\\x87': 199,\n",
       " b'\\xc3\\x88': 200,\n",
       " b'\\xc3\\x89': 201,\n",
       " b'\\xc3\\x8a': 202,\n",
       " b'\\xc3\\x8b': 203,\n",
       " b'\\xc3\\x8c': 204,\n",
       " b'\\xc3\\x8d': 205,\n",
       " b'\\xc3\\x8e': 206,\n",
       " b'\\xc3\\x8f': 207,\n",
       " b'\\xc3\\x90': 208,\n",
       " b'\\xc3\\x91': 209,\n",
       " b'\\xc3\\x92': 210,\n",
       " b'\\xc3\\x93': 211,\n",
       " b'\\xc3\\x94': 212,\n",
       " b'\\xc3\\x95': 213,\n",
       " b'\\xc3\\x96': 214,\n",
       " b'\\xc3\\x97': 215,\n",
       " b'\\xc3\\x98': 216,\n",
       " b'\\xc3\\x99': 217,\n",
       " b'\\xc3\\x9a': 218,\n",
       " b'\\xc3\\x9b': 219,\n",
       " b'\\xc3\\x9c': 220,\n",
       " b'\\xc3\\x9d': 221,\n",
       " b'\\xc3\\x9e': 222,\n",
       " b'\\xc3\\x9f': 223,\n",
       " b'\\xc3\\xa0': 224,\n",
       " b'\\xc3\\xa1': 225,\n",
       " b'\\xc3\\xa2': 226,\n",
       " b'\\xc3\\xa3': 227,\n",
       " b'\\xc3\\xa4': 228,\n",
       " b'\\xc3\\xa5': 229,\n",
       " b'\\xc3\\xa6': 230,\n",
       " b'\\xc3\\xa7': 231,\n",
       " b'\\xc3\\xa8': 232,\n",
       " b'\\xc3\\xa9': 233,\n",
       " b'\\xc3\\xaa': 234,\n",
       " b'\\xc3\\xab': 235,\n",
       " b'\\xc3\\xac': 236,\n",
       " b'\\xc3\\xad': 237,\n",
       " b'\\xc3\\xae': 238,\n",
       " b'\\xc3\\xaf': 239,\n",
       " b'\\xc3\\xb0': 240,\n",
       " b'\\xc3\\xb1': 241,\n",
       " b'\\xc3\\xb2': 242,\n",
       " b'\\xc3\\xb3': 243,\n",
       " b'\\xc3\\xb4': 244,\n",
       " b'\\xc3\\xb5': 245,\n",
       " b'\\xc3\\xb6': 246,\n",
       " b'\\xc3\\xb7': 247,\n",
       " b'\\xc3\\xb8': 248,\n",
       " b'\\xc3\\xb9': 249,\n",
       " b'\\xc3\\xba': 250,\n",
       " b'\\xc3\\xbb': 251,\n",
       " b'\\xc3\\xbc': 252,\n",
       " b'\\xc3\\xbd': 253,\n",
       " b'\\xc3\\xbe': 254,\n",
       " b'\\xc3\\xbf': 255,\n",
       " '<|endoftext|>': 256,\n",
       " b' t': 257,\n",
       " b'he': 258,\n",
       " b' a': 259,\n",
       " b' s': 260,\n",
       " b' w': 261,\n",
       " b' the': 262,\n",
       " b'nd': 263,\n",
       " b'ed': 264,\n",
       " b' b': 265,\n",
       " b' to': 266,\n",
       " b' and': 267,\n",
       " b' h': 268,\n",
       " b' f': 269,\n",
       " b' T': 270,\n",
       " b'in': 271,\n",
       " b' wa': 272,\n",
       " b're': 273,\n",
       " b'it': 274,\n",
       " b'ou': 275,\n",
       " b' l': 276,\n",
       " b' d': 277,\n",
       " b' c': 278,\n",
       " b' p': 279,\n",
       " b'ay': 280,\n",
       " b' m': 281,\n",
       " b'er': 282,\n",
       " b' was': 283,\n",
       " b' The': 284,\n",
       " b'om': 285,\n",
       " b' he': 286,\n",
       " b'is': 287,\n",
       " b' n': 288,\n",
       " b'im': 289,\n",
       " b'ar': 290,\n",
       " b'on': 291,\n",
       " b' sa': 292,\n",
       " b'll': 293,\n",
       " b'id': 294,\n",
       " b' ha': 295,\n",
       " b' g': 296,\n",
       " b'at': 297,\n",
       " b' S': 298,\n",
       " b'ing': 299,\n",
       " b'ot': 300,\n",
       " b'en': 301,\n",
       " b'an': 302,\n",
       " b'le': 303,\n",
       " b'or': 304,\n",
       " b'ir': 305,\n",
       " b'am': 306,\n",
       " b'et': 307,\n",
       " b' H': 308,\n",
       " b' it': 309,\n",
       " b' th': 310,\n",
       " b'ig': 311,\n",
       " b' They': 312,\n",
       " b' pl': 313,\n",
       " b' in': 314,\n",
       " b'il': 315,\n",
       " b' He': 316,\n",
       " b' \"': 317,\n",
       " b'ow': 318,\n",
       " b'ver': 319,\n",
       " b'ri': 320,\n",
       " b' u': 321,\n",
       " b'ut': 322,\n",
       " b' play': 323,\n",
       " b'ith': 324,\n",
       " b' said': 325,\n",
       " b' be': 326,\n",
       " b' day': 327,\n",
       " b' with': 328,\n",
       " b'pp': 329,\n",
       " b'On': 330,\n",
       " b' o': 331,\n",
       " b' y': 332,\n",
       " b'oo': 333,\n",
       " b'ked': 334,\n",
       " b' r': 335,\n",
       " b' her': 336,\n",
       " b'ce': 337,\n",
       " b'ld': 338,\n",
       " b' his': 339,\n",
       " b' Tim': 340,\n",
       " b' I': 341,\n",
       " b' She': 342,\n",
       " b' st': 343,\n",
       " b'ke': 344,\n",
       " b' e': 345,\n",
       " b' big': 346,\n",
       " b'nt': 347,\n",
       " b'ck': 348,\n",
       " b'very': 349}"
      ]
     },
     "execution_count": 392,
     "metadata": {},
     "output_type": "execute_result"
    }
   ],
   "source": [
    "vocab"
   ]
  },
  {
   "cell_type": "code",
   "execution_count": null,
   "metadata": {},
   "outputs": [],
   "source": []
  },
  {
   "cell_type": "code",
   "execution_count": null,
   "metadata": {},
   "outputs": [],
   "source": []
  },
  {
   "cell_type": "code",
   "execution_count": null,
   "metadata": {},
   "outputs": [],
   "source": []
  },
  {
   "cell_type": "code",
   "execution_count": null,
   "metadata": {},
   "outputs": [],
   "source": []
  },
  {
   "cell_type": "code",
   "execution_count": null,
   "metadata": {},
   "outputs": [],
   "source": []
  },
  {
   "cell_type": "code",
   "execution_count": 355,
   "metadata": {},
   "outputs": [
    {
     "data": {
      "text/plain": [
       "{b'\\x00': 0,\n",
       " b'\\x01': 1,\n",
       " b'\\x02': 2,\n",
       " b'\\x03': 3,\n",
       " b'\\x04': 4,\n",
       " b'\\x05': 5,\n",
       " b'\\x06': 6,\n",
       " b'\\x07': 7,\n",
       " b'\\x08': 8,\n",
       " b'\\t': 9,\n",
       " b'\\n': 10,\n",
       " b'\\x0b': 11,\n",
       " b'\\x0c': 12,\n",
       " b'\\r': 13,\n",
       " b'\\x0e': 14,\n",
       " b'\\x0f': 15,\n",
       " b'\\x10': 16,\n",
       " b'\\x11': 17,\n",
       " b'\\x12': 18,\n",
       " b'\\x13': 19,\n",
       " b'\\x14': 20,\n",
       " b'\\x15': 21,\n",
       " b'\\x16': 22,\n",
       " b'\\x17': 23,\n",
       " b'\\x18': 24,\n",
       " b'\\x19': 25,\n",
       " b'\\x1a': 26,\n",
       " b'\\x1b': 27,\n",
       " b'\\x1c': 28,\n",
       " b'\\x1d': 29,\n",
       " b'\\x1e': 30,\n",
       " b'\\x1f': 31,\n",
       " b' ': 32,\n",
       " b'!': 33,\n",
       " b'\"': 34,\n",
       " b'#': 35,\n",
       " b'$': 36,\n",
       " b'%': 37,\n",
       " b'&': 38,\n",
       " b\"'\": 39,\n",
       " b'(': 40,\n",
       " b')': 41,\n",
       " b'*': 42,\n",
       " b'+': 43,\n",
       " b',': 44,\n",
       " b'-': 45,\n",
       " b'.': 46,\n",
       " b'/': 47,\n",
       " b'0': 48,\n",
       " b'1': 49,\n",
       " b'2': 50,\n",
       " b'3': 51,\n",
       " b'4': 52,\n",
       " b'5': 53,\n",
       " b'6': 54,\n",
       " b'7': 55,\n",
       " b'8': 56,\n",
       " b'9': 57,\n",
       " b':': 58,\n",
       " b';': 59,\n",
       " b'<': 60,\n",
       " b'=': 61,\n",
       " b'>': 62,\n",
       " b'?': 63,\n",
       " b'@': 64,\n",
       " b'A': 65,\n",
       " b'B': 66,\n",
       " b'C': 67,\n",
       " b'D': 68,\n",
       " b'E': 69,\n",
       " b'F': 70,\n",
       " b'G': 71,\n",
       " b'H': 72,\n",
       " b'I': 73,\n",
       " b'J': 74,\n",
       " b'K': 75,\n",
       " b'L': 76,\n",
       " b'M': 77,\n",
       " b'N': 78,\n",
       " b'O': 79,\n",
       " b'P': 80,\n",
       " b'Q': 81,\n",
       " b'R': 82,\n",
       " b'S': 83,\n",
       " b'T': 84,\n",
       " b'U': 85,\n",
       " b'V': 86,\n",
       " b'W': 87,\n",
       " b'X': 88,\n",
       " b'Y': 89,\n",
       " b'Z': 90,\n",
       " b'[': 91,\n",
       " b'\\\\': 92,\n",
       " b']': 93,\n",
       " b'^': 94,\n",
       " b'_': 95,\n",
       " b'`': 96,\n",
       " b'a': 97,\n",
       " b'b': 98,\n",
       " b'c': 99,\n",
       " b'd': 100,\n",
       " b'e': 101,\n",
       " b'f': 102,\n",
       " b'g': 103,\n",
       " b'h': 104,\n",
       " b'i': 105,\n",
       " b'j': 106,\n",
       " b'k': 107,\n",
       " b'l': 108,\n",
       " b'm': 109,\n",
       " b'n': 110,\n",
       " b'o': 111,\n",
       " b'p': 112,\n",
       " b'q': 113,\n",
       " b'r': 114,\n",
       " b's': 115,\n",
       " b't': 116,\n",
       " b'u': 117,\n",
       " b'v': 118,\n",
       " b'w': 119,\n",
       " b'x': 120,\n",
       " b'y': 121,\n",
       " b'z': 122,\n",
       " b'{': 123,\n",
       " b'|': 124,\n",
       " b'}': 125,\n",
       " b'~': 126,\n",
       " b'\\x7f': 127,\n",
       " b'\\xc2\\x80': 128,\n",
       " b'\\xc2\\x81': 129,\n",
       " b'\\xc2\\x82': 130,\n",
       " b'\\xc2\\x83': 131,\n",
       " b'\\xc2\\x84': 132,\n",
       " b'\\xc2\\x85': 133,\n",
       " b'\\xc2\\x86': 134,\n",
       " b'\\xc2\\x87': 135,\n",
       " b'\\xc2\\x88': 136,\n",
       " b'\\xc2\\x89': 137,\n",
       " b'\\xc2\\x8a': 138,\n",
       " b'\\xc2\\x8b': 139,\n",
       " b'\\xc2\\x8c': 140,\n",
       " b'\\xc2\\x8d': 141,\n",
       " b'\\xc2\\x8e': 142,\n",
       " b'\\xc2\\x8f': 143,\n",
       " b'\\xc2\\x90': 144,\n",
       " b'\\xc2\\x91': 145,\n",
       " b'\\xc2\\x92': 146,\n",
       " b'\\xc2\\x93': 147,\n",
       " b'\\xc2\\x94': 148,\n",
       " b'\\xc2\\x95': 149,\n",
       " b'\\xc2\\x96': 150,\n",
       " b'\\xc2\\x97': 151,\n",
       " b'\\xc2\\x98': 152,\n",
       " b'\\xc2\\x99': 153,\n",
       " b'\\xc2\\x9a': 154,\n",
       " b'\\xc2\\x9b': 155,\n",
       " b'\\xc2\\x9c': 156,\n",
       " b'\\xc2\\x9d': 157,\n",
       " b'\\xc2\\x9e': 158,\n",
       " b'\\xc2\\x9f': 159,\n",
       " b'\\xc2\\xa0': 160,\n",
       " b'\\xc2\\xa1': 161,\n",
       " b'\\xc2\\xa2': 162,\n",
       " b'\\xc2\\xa3': 163,\n",
       " b'\\xc2\\xa4': 164,\n",
       " b'\\xc2\\xa5': 165,\n",
       " b'\\xc2\\xa6': 166,\n",
       " b'\\xc2\\xa7': 167,\n",
       " b'\\xc2\\xa8': 168,\n",
       " b'\\xc2\\xa9': 169,\n",
       " b'\\xc2\\xaa': 170,\n",
       " b'\\xc2\\xab': 171,\n",
       " b'\\xc2\\xac': 172,\n",
       " b'\\xc2\\xad': 173,\n",
       " b'\\xc2\\xae': 174,\n",
       " b'\\xc2\\xaf': 175,\n",
       " b'\\xc2\\xb0': 176,\n",
       " b'\\xc2\\xb1': 177,\n",
       " b'\\xc2\\xb2': 178,\n",
       " b'\\xc2\\xb3': 179,\n",
       " b'\\xc2\\xb4': 180,\n",
       " b'\\xc2\\xb5': 181,\n",
       " b'\\xc2\\xb6': 182,\n",
       " b'\\xc2\\xb7': 183,\n",
       " b'\\xc2\\xb8': 184,\n",
       " b'\\xc2\\xb9': 185,\n",
       " b'\\xc2\\xba': 186,\n",
       " b'\\xc2\\xbb': 187,\n",
       " b'\\xc2\\xbc': 188,\n",
       " b'\\xc2\\xbd': 189,\n",
       " b'\\xc2\\xbe': 190,\n",
       " b'\\xc2\\xbf': 191,\n",
       " b'\\xc3\\x80': 192,\n",
       " b'\\xc3\\x81': 193,\n",
       " b'\\xc3\\x82': 194,\n",
       " b'\\xc3\\x83': 195,\n",
       " b'\\xc3\\x84': 196,\n",
       " b'\\xc3\\x85': 197,\n",
       " b'\\xc3\\x86': 198,\n",
       " b'\\xc3\\x87': 199,\n",
       " b'\\xc3\\x88': 200,\n",
       " b'\\xc3\\x89': 201,\n",
       " b'\\xc3\\x8a': 202,\n",
       " b'\\xc3\\x8b': 203,\n",
       " b'\\xc3\\x8c': 204,\n",
       " b'\\xc3\\x8d': 205,\n",
       " b'\\xc3\\x8e': 206,\n",
       " b'\\xc3\\x8f': 207,\n",
       " b'\\xc3\\x90': 208,\n",
       " b'\\xc3\\x91': 209,\n",
       " b'\\xc3\\x92': 210,\n",
       " b'\\xc3\\x93': 211,\n",
       " b'\\xc3\\x94': 212,\n",
       " b'\\xc3\\x95': 213,\n",
       " b'\\xc3\\x96': 214,\n",
       " b'\\xc3\\x97': 215,\n",
       " b'\\xc3\\x98': 216,\n",
       " b'\\xc3\\x99': 217,\n",
       " b'\\xc3\\x9a': 218,\n",
       " b'\\xc3\\x9b': 219,\n",
       " b'\\xc3\\x9c': 220,\n",
       " b'\\xc3\\x9d': 221,\n",
       " b'\\xc3\\x9e': 222,\n",
       " b'\\xc3\\x9f': 223,\n",
       " b'\\xc3\\xa0': 224,\n",
       " b'\\xc3\\xa1': 225,\n",
       " b'\\xc3\\xa2': 226,\n",
       " b'\\xc3\\xa3': 227,\n",
       " b'\\xc3\\xa4': 228,\n",
       " b'\\xc3\\xa5': 229,\n",
       " b'\\xc3\\xa6': 230,\n",
       " b'\\xc3\\xa7': 231,\n",
       " b'\\xc3\\xa8': 232,\n",
       " b'\\xc3\\xa9': 233,\n",
       " b'\\xc3\\xaa': 234,\n",
       " b'\\xc3\\xab': 235,\n",
       " b'\\xc3\\xac': 236,\n",
       " b'\\xc3\\xad': 237,\n",
       " b'\\xc3\\xae': 238,\n",
       " b'\\xc3\\xaf': 239,\n",
       " b'\\xc3\\xb0': 240,\n",
       " b'\\xc3\\xb1': 241,\n",
       " b'\\xc3\\xb2': 242,\n",
       " b'\\xc3\\xb3': 243,\n",
       " b'\\xc3\\xb4': 244,\n",
       " b'\\xc3\\xb5': 245,\n",
       " b'\\xc3\\xb6': 246,\n",
       " b'\\xc3\\xb7': 247,\n",
       " b'\\xc3\\xb8': 248,\n",
       " b'\\xc3\\xb9': 249,\n",
       " b'\\xc3\\xba': 250,\n",
       " b'\\xc3\\xbb': 251,\n",
       " b'\\xc3\\xbc': 252,\n",
       " b'\\xc3\\xbd': 253,\n",
       " b'\\xc3\\xbe': 254,\n",
       " b'\\xc3\\xbf': 255,\n",
       " '<|endoftext|>': 256,\n",
       " b' t': 269,\n",
       " b'he': 268}"
      ]
     },
     "execution_count": 355,
     "metadata": {},
     "output_type": "execute_result"
    }
   ],
   "source": [
    "vocab"
   ]
  },
  {
   "cell_type": "code",
   "execution_count": 314,
   "metadata": {},
   "outputs": [
    {
     "name": "stderr",
     "output_type": "stream",
     "text": [
      "100%|██████████| 658/658 [00:00<00:00, 10120.73it/s]\n"
     ]
    }
   ],
   "source": [
    "text_corpus_pair_count = corpus_pair_count(text_corpus_count)    "
   ]
  },
  {
   "cell_type": "code",
   "execution_count": 315,
   "metadata": {},
   "outputs": [
    {
     "data": {
      "text/plain": [
       "382"
      ]
     },
     "execution_count": 315,
     "metadata": {},
     "output_type": "execute_result"
    }
   ],
   "source": [
    "len(text_corpus_pair_count)"
   ]
  },
  {
   "cell_type": "code",
   "execution_count": 316,
   "metadata": {},
   "outputs": [],
   "source": [
    "max_pair = get_max_count_pair(text_corpus_pair_count)"
   ]
  },
  {
   "cell_type": "code",
   "execution_count": 322,
   "metadata": {},
   "outputs": [
    {
     "name": "stdout",
     "output_type": "stream",
     "text": [
      "b'he'\n"
     ]
    }
   ],
   "source": [
    "print(max_pair[0]+max_pair[1])"
   ]
  },
  {
   "cell_type": "code",
   "execution_count": null,
   "metadata": {},
   "outputs": [],
   "source": [
    "vocab[max_pair[0]+max_pair[1]] = i \n",
    "i+=1"
   ]
  },
  {
   "cell_type": "code",
   "execution_count": 324,
   "metadata": {},
   "outputs": [
    {
     "data": {
      "text/plain": [
       "{b'\\x00': 0,\n",
       " b'\\x01': 1,\n",
       " b'\\x02': 2,\n",
       " b'\\x03': 3,\n",
       " b'\\x04': 4,\n",
       " b'\\x05': 5,\n",
       " b'\\x06': 6,\n",
       " b'\\x07': 7,\n",
       " b'\\x08': 8,\n",
       " b'\\t': 9,\n",
       " b'\\n': 10,\n",
       " b'\\x0b': 11,\n",
       " b'\\x0c': 12,\n",
       " b'\\r': 13,\n",
       " b'\\x0e': 14,\n",
       " b'\\x0f': 15,\n",
       " b'\\x10': 16,\n",
       " b'\\x11': 17,\n",
       " b'\\x12': 18,\n",
       " b'\\x13': 19,\n",
       " b'\\x14': 20,\n",
       " b'\\x15': 21,\n",
       " b'\\x16': 22,\n",
       " b'\\x17': 23,\n",
       " b'\\x18': 24,\n",
       " b'\\x19': 25,\n",
       " b'\\x1a': 26,\n",
       " b'\\x1b': 27,\n",
       " b'\\x1c': 28,\n",
       " b'\\x1d': 29,\n",
       " b'\\x1e': 30,\n",
       " b'\\x1f': 31,\n",
       " b' ': 32,\n",
       " b'!': 33,\n",
       " b'\"': 34,\n",
       " b'#': 35,\n",
       " b'$': 36,\n",
       " b'%': 37,\n",
       " b'&': 38,\n",
       " b\"'\": 39,\n",
       " b'(': 40,\n",
       " b')': 41,\n",
       " b'*': 42,\n",
       " b'+': 43,\n",
       " b',': 44,\n",
       " b'-': 45,\n",
       " b'.': 46,\n",
       " b'/': 47,\n",
       " b'0': 48,\n",
       " b'1': 49,\n",
       " b'2': 50,\n",
       " b'3': 51,\n",
       " b'4': 52,\n",
       " b'5': 53,\n",
       " b'6': 54,\n",
       " b'7': 55,\n",
       " b'8': 56,\n",
       " b'9': 57,\n",
       " b':': 58,\n",
       " b';': 59,\n",
       " b'<': 60,\n",
       " b'=': 61,\n",
       " b'>': 62,\n",
       " b'?': 63,\n",
       " b'@': 64,\n",
       " b'A': 65,\n",
       " b'B': 66,\n",
       " b'C': 67,\n",
       " b'D': 68,\n",
       " b'E': 69,\n",
       " b'F': 70,\n",
       " b'G': 71,\n",
       " b'H': 72,\n",
       " b'I': 73,\n",
       " b'J': 74,\n",
       " b'K': 75,\n",
       " b'L': 76,\n",
       " b'M': 77,\n",
       " b'N': 78,\n",
       " b'O': 79,\n",
       " b'P': 80,\n",
       " b'Q': 81,\n",
       " b'R': 82,\n",
       " b'S': 83,\n",
       " b'T': 84,\n",
       " b'U': 85,\n",
       " b'V': 86,\n",
       " b'W': 87,\n",
       " b'X': 88,\n",
       " b'Y': 89,\n",
       " b'Z': 90,\n",
       " b'[': 91,\n",
       " b'\\\\': 92,\n",
       " b']': 93,\n",
       " b'^': 94,\n",
       " b'_': 95,\n",
       " b'`': 96,\n",
       " b'a': 97,\n",
       " b'b': 98,\n",
       " b'c': 99,\n",
       " b'd': 100,\n",
       " b'e': 101,\n",
       " b'f': 102,\n",
       " b'g': 103,\n",
       " b'h': 104,\n",
       " b'i': 105,\n",
       " b'j': 106,\n",
       " b'k': 107,\n",
       " b'l': 108,\n",
       " b'm': 109,\n",
       " b'n': 110,\n",
       " b'o': 111,\n",
       " b'p': 112,\n",
       " b'q': 113,\n",
       " b'r': 114,\n",
       " b's': 115,\n",
       " b't': 116,\n",
       " b'u': 117,\n",
       " b'v': 118,\n",
       " b'w': 119,\n",
       " b'x': 120,\n",
       " b'y': 121,\n",
       " b'z': 122,\n",
       " b'{': 123,\n",
       " b'|': 124,\n",
       " b'}': 125,\n",
       " b'~': 126,\n",
       " b'\\x7f': 127,\n",
       " b'\\xc2\\x80': 128,\n",
       " b'\\xc2\\x81': 129,\n",
       " b'\\xc2\\x82': 130,\n",
       " b'\\xc2\\x83': 131,\n",
       " b'\\xc2\\x84': 132,\n",
       " b'\\xc2\\x85': 133,\n",
       " b'\\xc2\\x86': 134,\n",
       " b'\\xc2\\x87': 135,\n",
       " b'\\xc2\\x88': 136,\n",
       " b'\\xc2\\x89': 137,\n",
       " b'\\xc2\\x8a': 138,\n",
       " b'\\xc2\\x8b': 139,\n",
       " b'\\xc2\\x8c': 140,\n",
       " b'\\xc2\\x8d': 141,\n",
       " b'\\xc2\\x8e': 142,\n",
       " b'\\xc2\\x8f': 143,\n",
       " b'\\xc2\\x90': 144,\n",
       " b'\\xc2\\x91': 145,\n",
       " b'\\xc2\\x92': 146,\n",
       " b'\\xc2\\x93': 147,\n",
       " b'\\xc2\\x94': 148,\n",
       " b'\\xc2\\x95': 149,\n",
       " b'\\xc2\\x96': 150,\n",
       " b'\\xc2\\x97': 151,\n",
       " b'\\xc2\\x98': 152,\n",
       " b'\\xc2\\x99': 153,\n",
       " b'\\xc2\\x9a': 154,\n",
       " b'\\xc2\\x9b': 155,\n",
       " b'\\xc2\\x9c': 156,\n",
       " b'\\xc2\\x9d': 157,\n",
       " b'\\xc2\\x9e': 158,\n",
       " b'\\xc2\\x9f': 159,\n",
       " b'\\xc2\\xa0': 160,\n",
       " b'\\xc2\\xa1': 161,\n",
       " b'\\xc2\\xa2': 162,\n",
       " b'\\xc2\\xa3': 163,\n",
       " b'\\xc2\\xa4': 164,\n",
       " b'\\xc2\\xa5': 165,\n",
       " b'\\xc2\\xa6': 166,\n",
       " b'\\xc2\\xa7': 167,\n",
       " b'\\xc2\\xa8': 168,\n",
       " b'\\xc2\\xa9': 169,\n",
       " b'\\xc2\\xaa': 170,\n",
       " b'\\xc2\\xab': 171,\n",
       " b'\\xc2\\xac': 172,\n",
       " b'\\xc2\\xad': 173,\n",
       " b'\\xc2\\xae': 174,\n",
       " b'\\xc2\\xaf': 175,\n",
       " b'\\xc2\\xb0': 176,\n",
       " b'\\xc2\\xb1': 177,\n",
       " b'\\xc2\\xb2': 178,\n",
       " b'\\xc2\\xb3': 179,\n",
       " b'\\xc2\\xb4': 180,\n",
       " b'\\xc2\\xb5': 181,\n",
       " b'\\xc2\\xb6': 182,\n",
       " b'\\xc2\\xb7': 183,\n",
       " b'\\xc2\\xb8': 184,\n",
       " b'\\xc2\\xb9': 185,\n",
       " b'\\xc2\\xba': 186,\n",
       " b'\\xc2\\xbb': 187,\n",
       " b'\\xc2\\xbc': 188,\n",
       " b'\\xc2\\xbd': 189,\n",
       " b'\\xc2\\xbe': 190,\n",
       " b'\\xc2\\xbf': 191,\n",
       " b'\\xc3\\x80': 192,\n",
       " b'\\xc3\\x81': 193,\n",
       " b'\\xc3\\x82': 194,\n",
       " b'\\xc3\\x83': 195,\n",
       " b'\\xc3\\x84': 196,\n",
       " b'\\xc3\\x85': 197,\n",
       " b'\\xc3\\x86': 198,\n",
       " b'\\xc3\\x87': 199,\n",
       " b'\\xc3\\x88': 200,\n",
       " b'\\xc3\\x89': 201,\n",
       " b'\\xc3\\x8a': 202,\n",
       " b'\\xc3\\x8b': 203,\n",
       " b'\\xc3\\x8c': 204,\n",
       " b'\\xc3\\x8d': 205,\n",
       " b'\\xc3\\x8e': 206,\n",
       " b'\\xc3\\x8f': 207,\n",
       " b'\\xc3\\x90': 208,\n",
       " b'\\xc3\\x91': 209,\n",
       " b'\\xc3\\x92': 210,\n",
       " b'\\xc3\\x93': 211,\n",
       " b'\\xc3\\x94': 212,\n",
       " b'\\xc3\\x95': 213,\n",
       " b'\\xc3\\x96': 214,\n",
       " b'\\xc3\\x97': 215,\n",
       " b'\\xc3\\x98': 216,\n",
       " b'\\xc3\\x99': 217,\n",
       " b'\\xc3\\x9a': 218,\n",
       " b'\\xc3\\x9b': 219,\n",
       " b'\\xc3\\x9c': 220,\n",
       " b'\\xc3\\x9d': 221,\n",
       " b'\\xc3\\x9e': 222,\n",
       " b'\\xc3\\x9f': 223,\n",
       " b'\\xc3\\xa0': 224,\n",
       " b'\\xc3\\xa1': 225,\n",
       " b'\\xc3\\xa2': 226,\n",
       " b'\\xc3\\xa3': 227,\n",
       " b'\\xc3\\xa4': 228,\n",
       " b'\\xc3\\xa5': 229,\n",
       " b'\\xc3\\xa6': 230,\n",
       " b'\\xc3\\xa7': 231,\n",
       " b'\\xc3\\xa8': 232,\n",
       " b'\\xc3\\xa9': 233,\n",
       " b'\\xc3\\xaa': 234,\n",
       " b'\\xc3\\xab': 235,\n",
       " b'\\xc3\\xac': 236,\n",
       " b'\\xc3\\xad': 237,\n",
       " b'\\xc3\\xae': 238,\n",
       " b'\\xc3\\xaf': 239,\n",
       " b'\\xc3\\xb0': 240,\n",
       " b'\\xc3\\xb1': 241,\n",
       " b'\\xc3\\xb2': 242,\n",
       " b'\\xc3\\xb3': 243,\n",
       " b'\\xc3\\xb4': 244,\n",
       " b'\\xc3\\xb5': 245,\n",
       " b'\\xc3\\xb6': 246,\n",
       " b'\\xc3\\xb7': 247,\n",
       " b'\\xc3\\xb8': 248,\n",
       " b'\\xc3\\xb9': 249,\n",
       " b'\\xc3\\xba': 250,\n",
       " b'\\xc3\\xbb': 251,\n",
       " b'\\xc3\\xbc': 252,\n",
       " b'\\xc3\\xbd': 253,\n",
       " b'\\xc3\\xbe': 254,\n",
       " b'\\xc3\\xbf': 255,\n",
       " '<|endoftext|>': 256,\n",
       " 2: b'he'}"
      ]
     },
     "execution_count": 324,
     "metadata": {},
     "output_type": "execute_result"
    }
   ],
   "source": [
    "vocab"
   ]
  },
  {
   "cell_type": "code",
   "execution_count": 291,
   "metadata": {},
   "outputs": [
    {
     "data": {
      "text/plain": [
       "(b'h', b'e')"
      ]
     },
     "execution_count": 291,
     "metadata": {},
     "output_type": "execute_result"
    }
   ],
   "source": [
    "max(text_corpus_pair_count, key=text_corpus_pair_count.get)"
   ]
  },
  {
   "cell_type": "code",
   "execution_count": 307,
   "metadata": {},
   "outputs": [],
   "source": [
    "text_corpus_pair_count[(b'a', b'a')] = 389"
   ]
  },
  {
   "cell_type": "code",
   "execution_count": 295,
   "metadata": {},
   "outputs": [
    {
     "data": {
      "text/plain": [
       "(b'n', b'a')"
      ]
     },
     "execution_count": 295,
     "metadata": {},
     "output_type": "execute_result"
    }
   ],
   "source": [
    "max(text_corpus_pair_count, key=text_corpus_pair_count.get)"
   ]
  },
  {
   "cell_type": "code",
   "execution_count": 296,
   "metadata": {},
   "outputs": [],
   "source": [
    "max_val = [keys for keys,values in text_corpus_pair_count.items() if values == max(text_corpus_pair_count.values())]"
   ]
  },
  {
   "cell_type": "code",
   "execution_count": 297,
   "metadata": {},
   "outputs": [],
   "source": [
    "max_val = [(x[0], x[1]) for x in max_val]"
   ]
  },
  {
   "cell_type": "code",
   "execution_count": 298,
   "metadata": {},
   "outputs": [
    {
     "data": {
      "text/plain": [
       "\"(b'n', b'a')\""
      ]
     },
     "execution_count": 298,
     "metadata": {},
     "output_type": "execute_result"
    }
   ],
   "source": [
    "max([str(x) for x in max_val])"
   ]
  },
  {
   "cell_type": "code",
   "execution_count": null,
   "metadata": {},
   "outputs": [],
   "source": []
  }
 ],
 "metadata": {
  "kernelspec": {
   "display_name": "cs336",
   "language": "python",
   "name": "cs336"
  },
  "language_info": {
   "codemirror_mode": {
    "name": "ipython",
    "version": 3
   },
   "file_extension": ".py",
   "mimetype": "text/x-python",
   "name": "python",
   "nbconvert_exporter": "python",
   "pygments_lexer": "ipython3",
   "version": "3.13.3"
  }
 },
 "nbformat": 4,
 "nbformat_minor": 2
}
